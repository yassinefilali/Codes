{
  "nbformat": 4,
  "nbformat_minor": 0,
  "metadata": {
    "colab": {
      "name": "AhmedLachtar_YassineFilali_lab2.ipynb",
      "provenance": [],
      "toc_visible": true
    },
    "kernelspec": {
      "display_name": "Python 3",
      "language": "python",
      "name": "python3"
    },
    "language_info": {
      "codemirror_mode": {
        "name": "ipython",
        "version": 3
      },
      "file_extension": ".py",
      "mimetype": "text/x-python",
      "name": "python",
      "nbconvert_exporter": "python",
      "pygments_lexer": "ipython3",
      "version": "3.8.6"
    }
  },
  "cells": [
    {
      "cell_type": "markdown",
      "metadata": {
        "id": "Foq2L1Que2a9"
      },
      "source": [
        "# NLP LAB 2\n",
        "\n",
        "## Ahmed Lachtar\n",
        "## Yassine Filali"
      ]
    },
    {
      "cell_type": "markdown",
      "metadata": {
        "id": "qnUUOqWudXMc"
      },
      "source": [
        "# Text classification with Pytorch"
      ]
    },
    {
      "cell_type": "code",
      "metadata": {
        "id": "0eu0DOFDfBrs"
      },
      "source": [
        ""
      ],
      "execution_count": null,
      "outputs": []
    },
    {
      "cell_type": "markdown",
      "metadata": {
        "id": "SomrsaJ4dXMi"
      },
      "source": [
        "The goal of this TP is double: an introduction to using Pytorch for treating textual data, and implementing neural classification models that we can apply to IMDB data - and then compare to models implemented in the previous TPs. "
      ]
    },
    {
      "cell_type": "code",
      "metadata": {
        "id": "PdmTqFOXdXMj"
      },
      "source": [
        "import torch\n",
        "import torch.nn as nn"
      ],
      "execution_count": null,
      "outputs": []
    },
    {
      "cell_type": "markdown",
      "metadata": {
        "id": "RHrUOj99dXMk"
      },
      "source": [
        "### A (very small) introduction to pytorch"
      ]
    },
    {
      "cell_type": "markdown",
      "metadata": {
        "id": "ZaOfm_FtdXMl"
      },
      "source": [
        "Pytorch Tensors are very similar to Numpy arrays, with the added benefit of being usable on GPU. For a short tutorial on various methods to create tensors of particular types, see [this link](https://pytorch.org/tutorials/beginner/blitz/tensor_tutorial.html#sphx-glr-beginner-blitz-tensor-tutorial-py).\n",
        "The important things to note are that Tensors can be created empty, from lists, and it is very easy to convert a numpy array into a pytorch tensor, and inversely."
      ]
    },
    {
      "cell_type": "code",
      "metadata": {
        "colab": {
          "base_uri": "https://localhost:8080/"
        },
        "id": "rcMKW5nVdXMm",
        "outputId": "5bc7f5ae-3a71-4598-a20e-950c854985aa"
      },
      "source": [
        "a = torch.LongTensor(5)\n",
        "b = torch.LongTensor([5])\n",
        "\n",
        "print(a)\n",
        "print(b)"
      ],
      "execution_count": null,
      "outputs": [
        {
          "output_type": "stream",
          "text": [
            "tensor([0, 0, 0, 0, 0])\n",
            "tensor([5])\n"
          ],
          "name": "stdout"
        }
      ]
    },
    {
      "cell_type": "code",
      "metadata": {
        "colab": {
          "base_uri": "https://localhost:8080/"
        },
        "id": "bZK1Vy4wdXMn",
        "outputId": "a6cf3539-1667-43c5-a0e7-9e0fd9384326"
      },
      "source": [
        "a = torch.FloatTensor([2])\n",
        "b = torch.FloatTensor([3])\n",
        "\n",
        "print(a + b)"
      ],
      "execution_count": null,
      "outputs": [
        {
          "output_type": "stream",
          "text": [
            "tensor([5.])\n"
          ],
          "name": "stdout"
        }
      ]
    },
    {
      "cell_type": "markdown",
      "metadata": {
        "id": "c1oYGPcJdXMn"
      },
      "source": [
        "The main interest in us using Pytorch is the ```autograd``` package. ```torch.Tensor```objects have an attribute ```.requires_grad```; if set as True, it starts to track all operations on it. When you finish your computation, can call ```.backward()``` and all the gradients are computed automatically (and stored in the ```.grad``` attribute).\n",
        "\n",
        "One way to easily cut a tensor from the computational once it is not needed anymore is to use ```.detach()```.\n",
        "More info on automatic differentiation in pytorch on [this link](https://pytorch.org/tutorials/beginner/blitz/autograd_tutorial.html#sphx-glr-beginner-blitz-autograd-tutorial-py)."
      ]
    },
    {
      "cell_type": "code",
      "metadata": {
        "colab": {
          "base_uri": "https://localhost:8080/"
        },
        "id": "rDZdCr_1dXMo",
        "outputId": "d00dbb29-9661-40af-ddf9-0a00d5f8fa52"
      },
      "source": [
        "x = torch.tensor(1., requires_grad=True)\n",
        "w = torch.tensor(2., requires_grad=True)\n",
        "b = torch.tensor(3., requires_grad=True)\n",
        "\n",
        "# Build a computational graph.\n",
        "y = w * x + b    # y = 2 * x + 3\n",
        "\n",
        "# Compute gradients.\n",
        "y.backward()\n",
        "\n",
        "# Print out the gradients.\n",
        "print(x.grad)    # x.grad = 2 \n",
        "print(w.grad)    # w.grad = 1 \n",
        "print(b.grad)    # b.grad = 1 "
      ],
      "execution_count": null,
      "outputs": [
        {
          "output_type": "stream",
          "text": [
            "tensor(2.)\n",
            "tensor(1.)\n",
            "tensor(1.)\n"
          ],
          "name": "stdout"
        }
      ]
    },
    {
      "cell_type": "code",
      "metadata": {
        "colab": {
          "base_uri": "https://localhost:8080/"
        },
        "id": "Va5CtHj_dXMo",
        "outputId": "052cf270-9261-4daf-e811-551fcf4ab194"
      },
      "source": [
        "x = torch.randn(10, 3)\n",
        "y = torch.randn(10, 2)\n",
        "\n",
        "# Build a fully connected layer.\n",
        "linear = nn.Linear(3, 2)\n",
        "for name, p in linear.named_parameters():\n",
        "    print(name)\n",
        "    print(p)\n",
        "\n",
        "# Build loss function - Mean Square Error\n",
        "criterion = nn.MSELoss()\n",
        "\n",
        "# Forward pass.\n",
        "pred = linear(x)\n",
        "\n",
        "# Compute loss.\n",
        "loss = criterion(pred, y)\n",
        "print('Initial loss: ', loss.item())\n",
        "\n",
        "# Backward pass.\n",
        "loss.backward()\n",
        "\n",
        "# Print out the gradients.\n",
        "print ('dL/dw: ', linear.weight.grad) \n",
        "print ('dL/db: ', linear.bias.grad)"
      ],
      "execution_count": null,
      "outputs": [
        {
          "output_type": "stream",
          "text": [
            "weight\n",
            "Parameter containing:\n",
            "tensor([[0.4642, 0.1885, 0.4918],\n",
            "        [0.4226, 0.0281, 0.4169]], requires_grad=True)\n",
            "bias\n",
            "Parameter containing:\n",
            "tensor([-0.1892,  0.3434], requires_grad=True)\n",
            "Initial loss:  1.2289559841156006\n",
            "dL/dw:  tensor([[ 0.3054,  0.9559,  0.2194],\n",
            "        [ 0.2265,  0.0727, -0.0288]])\n",
            "dL/db:  tensor([-0.2847,  0.1277])\n"
          ],
          "name": "stdout"
        }
      ]
    },
    {
      "cell_type": "code",
      "metadata": {
        "colab": {
          "base_uri": "https://localhost:8080/"
        },
        "id": "cToASEHWdXMp",
        "outputId": "5610764e-dcb8-495c-d039-08905c8efb84"
      },
      "source": [
        "# You can perform gradient descent manually, with an in-place update ...\n",
        "linear.weight.data.sub_(0.01 * linear.weight.grad.data)\n",
        "linear.bias.data.sub_(0.01 * linear.bias.grad.data)\n",
        "\n",
        "# Print out the loss after 1-step gradient descent.\n",
        "pred = linear(x)\n",
        "loss = criterion(pred, y)\n",
        "print('Loss after one update: ', loss.item())"
      ],
      "execution_count": null,
      "outputs": [
        {
          "output_type": "stream",
          "text": [
            "Loss after one update:  1.217029333114624\n"
          ],
          "name": "stdout"
        }
      ]
    },
    {
      "cell_type": "code",
      "metadata": {
        "colab": {
          "base_uri": "https://localhost:8080/"
        },
        "id": "p24oH8bGdXMq",
        "outputId": "1c50f4b3-b617-4de7-eced-0ef2b9616683"
      },
      "source": [
        "# Use the optim package to define an Optimizer that will update the weights of the model.\n",
        "optimizer = torch.optim.SGD(linear.parameters(), lr=0.01)\n",
        "\n",
        "# By default, gradients are accumulated in buffers( i.e, not overwritten) whenever .backward()\n",
        "# is called. Before the backward pass, we need to use the optimizer object to zero all of the\n",
        "# gradients.\n",
        "optimizer.zero_grad()\n",
        "loss.backward()\n",
        "\n",
        "# Calling the step function on an Optimizer makes an update to its parameters\n",
        "optimizer.step()\n",
        "\n",
        "# Print out the loss after the second step of gradient descent.\n",
        "pred = linear(x)\n",
        "loss = criterion(pred, y)\n",
        "print('Loss after two updates: ', loss.item())"
      ],
      "execution_count": null,
      "outputs": [
        {
          "output_type": "stream",
          "text": [
            "Loss after two updates:  1.2057747840881348\n"
          ],
          "name": "stdout"
        }
      ]
    },
    {
      "cell_type": "markdown",
      "metadata": {
        "id": "DVy9BjTRdXMr"
      },
      "source": [
        "### Tools for data processing "
      ]
    },
    {
      "cell_type": "markdown",
      "metadata": {
        "id": "JbAxLEn9dXMr"
      },
      "source": [
        "```torch.utils.data.Dataset``` is an abstract class representing a dataset. Your custom dataset should inherit ```Dataset``` and override the following methods:\n",
        "- ```__len__``` so that ```len(dataset)``` returns the size of the dataset.\n",
        "- ```__getitem__``` to support the indexing such that ```dataset[i]``` can be used to get the i-th sample\n",
        "\n",
        "Here is a toy example: "
      ]
    },
    {
      "cell_type": "code",
      "metadata": {
        "id": "K2s4A6E4dXMr"
      },
      "source": [
        "toy_corpus = ['I walked down down the boulevard',\n",
        "              'I walked down the avenue',\n",
        "              'I ran down the boulevard',\n",
        "              'I walk down the city',\n",
        "              'I walk down the the avenue']\n",
        "\n",
        "toy_categories = [0, 0, 1, 0, 0]"
      ],
      "execution_count": null,
      "outputs": []
    },
    {
      "cell_type": "code",
      "metadata": {
        "id": "fO8slYwVdXMs"
      },
      "source": [
        "from torch.utils.data import Dataset, DataLoader\n",
        "\n",
        "class CustomDataset(Dataset):\n",
        "    # A pytorch dataset class for holding data for a text classification task.\n",
        "    def __init__(self, data, categories):\n",
        "        # Upon creating the Dataset object, store the data in an attribute\n",
        "        # Split the text data and labels from each other\n",
        "        self.X, self.Y = [], []\n",
        "        for x, y in zip(data, categories):\n",
        "            # We will propably need to preprocess the data - have it done in a separate method\n",
        "            # We do it here because we might need corpus-wide info to do the preprocessing \n",
        "            # For example, cutting all examples to the same length\n",
        "            self.X.append(self.preprocess(x))\n",
        "            self.Y.append(y)\n",
        "                \n",
        "    # Method allowing you to preprocess data                      \n",
        "    def preprocess(self, text):\n",
        "        text_pp = text.lower().strip()\n",
        "        return text_pp\n",
        "    \n",
        "    # Overriding the method __len__ so that len(CustomDatasetName) returns the number of data samples                     \n",
        "    def __len__(self):\n",
        "        return len(self.Y)\n",
        "   \n",
        "    # Overriding the method __getitem__ so that CustomDatasetName[i] returns the i-th sample of the dataset                      \n",
        "    def __getitem__(self, idx):\n",
        "           return self.X[idx], self.Y[idx]"
      ],
      "execution_count": null,
      "outputs": []
    },
    {
      "cell_type": "code",
      "metadata": {
        "id": "W9gJJRMIdXMs"
      },
      "source": [
        "toy_dataset = CustomDataset(toy_corpus, toy_categories)"
      ],
      "execution_count": null,
      "outputs": []
    },
    {
      "cell_type": "code",
      "metadata": {
        "colab": {
          "base_uri": "https://localhost:8080/"
        },
        "id": "fIYaD6XhdXMs",
        "outputId": "cef8e9a9-a4c0-422b-d98f-e7e3734eed0f"
      },
      "source": [
        "print(len(toy_dataset))\n",
        "for i in range(len(toy_dataset)):\n",
        "    print(toy_dataset[i])"
      ],
      "execution_count": null,
      "outputs": [
        {
          "output_type": "stream",
          "text": [
            "5\n",
            "('i walked down down the boulevard', 0)\n",
            "('i walked down the avenue', 0)\n",
            "('i ran down the boulevard', 1)\n",
            "('i walk down the city', 0)\n",
            "('i walk down the the avenue', 0)\n"
          ],
          "name": "stdout"
        }
      ]
    },
    {
      "cell_type": "markdown",
      "metadata": {
        "id": "Bjl8eJcDdXMt"
      },
      "source": [
        "```torch.utils.data.DataLoader``` is what we call an iterator, which provides very useful features:\n",
        "- Batching the data\n",
        "- Shuffling the data\n",
        "- Load the data in parallel using multiprocessing workers.\n",
        "and can be created very simply from a ```Dataset```. Continuing on our simple example: "
      ]
    },
    {
      "cell_type": "code",
      "metadata": {
        "id": "xXLk70Y1dXMt"
      },
      "source": [
        "toy_dataloader = DataLoader(toy_dataset, batch_size = 2, shuffle = True)"
      ],
      "execution_count": null,
      "outputs": []
    },
    {
      "cell_type": "code",
      "metadata": {
        "colab": {
          "base_uri": "https://localhost:8080/"
        },
        "id": "tPBXltIMdXMt",
        "outputId": "497a098a-a686-49b9-f9e8-5287620b9301"
      },
      "source": [
        "for e in range(3):\n",
        "    print(\"Epoch:\" + str(e))\n",
        "    for x, y in toy_dataloader:\n",
        "        print(\"Batch: \" + str(x) + \"; labels: \" + str(y))  "
      ],
      "execution_count": null,
      "outputs": [
        {
          "output_type": "stream",
          "text": [
            "Epoch:0\n",
            "Batch: ('i walk down the city', 'i walk down the the avenue'); labels: tensor([0, 0])\n",
            "Batch: ('i walked down the avenue', 'i ran down the boulevard'); labels: tensor([0, 1])\n",
            "Batch: ('i walked down down the boulevard',); labels: tensor([0])\n",
            "Epoch:1\n",
            "Batch: ('i walked down the avenue', 'i walk down the the avenue'); labels: tensor([0, 0])\n",
            "Batch: ('i walk down the city', 'i ran down the boulevard'); labels: tensor([0, 1])\n",
            "Batch: ('i walked down down the boulevard',); labels: tensor([0])\n",
            "Epoch:2\n",
            "Batch: ('i walked down the avenue', 'i ran down the boulevard'); labels: tensor([0, 1])\n",
            "Batch: ('i walk down the the avenue', 'i walk down the city'); labels: tensor([0, 0])\n",
            "Batch: ('i walked down down the boulevard',); labels: tensor([0])\n"
          ],
          "name": "stdout"
        }
      ]
    },
    {
      "cell_type": "markdown",
      "metadata": {
        "id": "6PHnuzwpdXMu"
      },
      "source": [
        "### Data processing of a text dataset\n",
        "\n",
        "Now, we would like to apply what we saw to our case, and **create a specific class** ```TextClassificationDataset``` **inheriting** ```Dataset``` that will:\n",
        "- Create a vocabulary from the data (use what we saw in the previous TP)\n",
        "- Preprocess the data using this vocabulary, adding whatever we need for our pytorch model\n",
        "- Have a ```__getitem__``` method that allows us to use the class with a ```Dataloader``` to easily build batches."
      ]
    },
    {
      "cell_type": "code",
      "metadata": {
        "id": "QA9q-yp0dXMu"
      },
      "source": [
        "import os\n",
        "import sys\n",
        "from torch.nn import functional as F\n",
        "import numpy as np\n",
        "import random\n",
        "\n",
        "from nltk import word_tokenize\n",
        "from torch.nn.utils.rnn import pad_sequence"
      ],
      "execution_count": null,
      "outputs": []
    },
    {
      "cell_type": "markdown",
      "metadata": {
        "id": "Yjo_A41RdXMu"
      },
      "source": [
        "First, we get the filenames and the corresponding categories: "
      ]
    },
    {
      "cell_type": "code",
      "metadata": {
        "colab": {
          "base_uri": "https://localhost:8080/"
        },
        "id": "OkOFkklQf31K",
        "outputId": "cf118aa2-4dbe-4445-9dd0-db49437f88f1"
      },
      "source": [
        "from google.colab import drive\n",
        "drive.mount('/content/drive/')"
      ],
      "execution_count": null,
      "outputs": [
        {
          "output_type": "error",
          "ename": "ModuleNotFoundError",
          "evalue": "No module named 'google.colab'",
          "traceback": [
            "\u001b[1;31m---------------------------------------------------------------------------\u001b[0m",
            "\u001b[1;31mModuleNotFoundError\u001b[0m                       Traceback (most recent call last)",
            "\u001b[1;32m<ipython-input-15-91874b305a32>\u001b[0m in \u001b[0;36m<module>\u001b[1;34m\u001b[0m\n\u001b[1;32m----> 1\u001b[1;33m \u001b[1;32mfrom\u001b[0m \u001b[0mgoogle\u001b[0m\u001b[1;33m.\u001b[0m\u001b[0mcolab\u001b[0m \u001b[1;32mimport\u001b[0m \u001b[0mdrive\u001b[0m\u001b[1;33m\u001b[0m\u001b[1;33m\u001b[0m\u001b[0m\n\u001b[0m\u001b[0;32m      2\u001b[0m \u001b[0mdrive\u001b[0m\u001b[1;33m.\u001b[0m\u001b[0mmount\u001b[0m\u001b[1;33m(\u001b[0m\u001b[1;34m'/content/drive/'\u001b[0m\u001b[1;33m)\u001b[0m\u001b[1;33m\u001b[0m\u001b[1;33m\u001b[0m\u001b[0m\n",
            "\u001b[1;31mModuleNotFoundError\u001b[0m: No module named 'google.colab'"
          ]
        }
      ]
    },
    {
      "cell_type": "code",
      "metadata": {
        "colab": {
          "base_uri": "https://localhost:8080/"
        },
        "id": "RlRiAQiKdXMu",
        "outputId": "12fdbbd8-1d13-4da2-bd46-8bc2d5713a57"
      },
      "source": [
        "from glob import glob\n",
        "filenames_neg = sorted(glob(os.path.join('.', 'data', 'imdb1', 'neg', '*.txt')))\n",
        "filenames_pos = sorted(glob(os.path.join('.', 'data', 'imdb1', 'pos', '*.txt')))\n",
        "filenames = filenames_neg + filenames_pos\n",
        "\n",
        "# The first half of the elements of the list are string of negative reviews, and the second half positive ones\n",
        "# We create the labels, as an array of [1,len(texts)], filled with 1, and change the first half to 0\n",
        "categories = np.ones(len(filenames), dtype=np.int)\n",
        "categories[:len(filenames_neg)] = 0.\n",
        "\n",
        "print(\"%d documents\" % len(filenames))"
      ],
      "execution_count": null,
      "outputs": [
        {
          "output_type": "stream",
          "text": [
            "25000 documents\n"
          ],
          "name": "stdout"
        }
      ]
    },
    {
      "cell_type": "markdown",
      "metadata": {
        "id": "jiumDNu7dXMv"
      },
      "source": [
        "We will need to create a ```TextClassificationDataset``` and a ```Dataloader``` for the training data, the validation data, and the testing data. We need to implement a function that will help us split the data in three, according to proportions we give in input."
      ]
    },
    {
      "cell_type": "code",
      "metadata": {
        "id": "F30zlvi6dXMv"
      },
      "source": [
        "# Create a function allowing you to simply shuffle then split the filenames and categories into the desired\n",
        "# proportions for a training, validation and testing set. \n",
        "def get_splits(x, y, splits):\n",
        "    \"\"\"\n",
        "    The idea is to use an index list as reference:\n",
        "    Indexes = [0 1 2 3 4 5 6 7 8 9]\n",
        "    To shuffle it randomly:\n",
        "    Indexes = [7 1 5 0 2 9 8 6 4 3]\n",
        "    We need 'splits' to contain 2 values. Assuming those are = (0.8, 0.1), we'll have:\n",
        "    Train_indexes = [7 1 5 0 2 9 8 6]\n",
        "    Valid_indexes = [4]\n",
        "    Test_indexes = [3]\n",
        "    \"\"\"\n",
        "    # Create an index list and shuffle it - use the function random.shuffle\n",
        "    n = len(y)\n",
        "    index = list(range(n))\n",
        "    random.shuffle(index)\n",
        "    \n",
        "    # Find the two indexes we'll use to cut the lists from the splits\n",
        "    limit1 = int(n*0.8)\n",
        "    limit2 = limit1 + int(n*(splits[1]))\n",
        "    \n",
        "    # Do the cutting (careful: you can't use a list as index for a list - this only works with tensors)\n",
        "    # (you need to use list comprehensions - or go through numpy)\n",
        "    train_x, train_y =  [x[k] for k in index[0:limit1]],[y[k] for k in index[0:limit1]]\n",
        "    valid_x, valid_y = [x[k] for k in index[limit1:limit2]],[y[k] for k in index[limit1:limit2]]\n",
        "    test_x, test_y = [x[k] for k in index[limit2:]],[y[k] for k in index[limit2:]]\n",
        "    return (train_x, train_y), (valid_x, valid_y), (test_x, test_y)"
      ],
      "execution_count": null,
      "outputs": []
    },
    {
      "cell_type": "code",
      "metadata": {
        "id": "dOnqtqDsdXMw"
      },
      "source": [
        "# Choose the training, validation, testing splits\n",
        "splits = (0.8, 0.1)\n",
        "(train_f, train_c), (valid_f, valid_c), (test_f, test_c) = get_splits(filenames, categories, splits)"
      ],
      "execution_count": null,
      "outputs": []
    },
    {
      "cell_type": "markdown",
      "metadata": {
        "id": "yzR18zcqdXMw"
      },
      "source": [
        "We can now implement our ```TextClassificationDataset``` class, that we will build from:\n",
        "- A list of path to the IMDB files in the training set: ```path_to_file```\n",
        "- A list of the corresponding categories: ```categories```\n",
        "We will add three optional arguments:\n",
        "- First, a way to input a vocabulary (so that we can re-use the training vocabulary on the validation and training ```TextClassificationDataset```). By default, the value of the argument is ```None```.\n",
        "- In order to work with batches, we will need to have sequences of the same size. That can be done via **padding** but we will still need to limit the size of documents (to avoid having batches of huge sequences that are mostly empty because of one very long documents) to a ```max_length```. Let's put it to 100 by default.\n",
        "- Lastly, a ```min_freq``` that indicates how many times a word must appear to be taken in the vocabulary. "
      ]
    },
    {
      "cell_type": "markdown",
      "metadata": {
        "id": "d82Noz9jdXMw"
      },
      "source": [
        "The idea behind **padding** is to transform a list of pytorch tensors (of maybe different length) into a two dimensional tensor - which we can see as a batch. The size of the first dimension is the one of the longest tensor - and other are **padded** with a chosen symbol: here, we choose 0. "
      ]
    },
    {
      "cell_type": "code",
      "metadata": {
        "id": "pnOkngH7dXMw"
      },
      "source": [
        "tensor_1 = torch.LongTensor([1, 4, 5])\n",
        "tensor_2 = torch.LongTensor([2])\n",
        "tensor_3 = torch.LongTensor([6, 7])"
      ],
      "execution_count": null,
      "outputs": []
    },
    {
      "cell_type": "code",
      "metadata": {
        "colab": {
          "base_uri": "https://localhost:8080/"
        },
        "id": "73lIWYgUdXMx",
        "outputId": "af91251d-6f9c-44ff-b30a-46a5c4667c02"
      },
      "source": [
        "tensor_padded = pad_sequence([tensor_1, tensor_2, tensor_3], batch_first=True, padding_value = 0)\n",
        "print(tensor_padded)"
      ],
      "execution_count": null,
      "outputs": [
        {
          "output_type": "stream",
          "text": [
            "tensor([[1, 4, 5],\n",
            "        [2, 0, 0],\n",
            "        [6, 7, 0]])\n"
          ],
          "name": "stdout"
        }
      ]
    },
    {
      "cell_type": "code",
      "metadata": {
        "id": "qrfm7Im9dXMx"
      },
      "source": [
        "class TextClassificationDataset(Dataset):\n",
        "    def __init__(self, paths_to_files, categories, vocab = None, max_length = 100, min_freq = 5):\n",
        "        # Read all files and put the data in a list of strings\n",
        "\n",
        "        self.data = [open(f, encoding=\"utf8\").read() for f in paths_to_files] \n",
        "        \n",
        "        # Set the maximum length we will keep for the sequences\n",
        "        self.max_length = max_length\n",
        "        # Allow to import a vocabulary (for valid/test datasets, that will use the training vocabulary)\n",
        "        if vocab is not None:\n",
        "            self.word2idx, self.idx2word = vocab\n",
        "        else:\n",
        "            # If no vocabulary imported, build it (and reverse)\n",
        "            self.word2idx, self.idx2word = self.build_vocab(self.data, min_freq)\n",
        "        # We then need to tokenize the data .. \n",
        "        tokenized_data = [word_tokenize(text) for text in self.data]\n",
        "        # Transform words into lists of indexes ... (use the .get() method to redirect unknown words to the UNK token)\n",
        "        indexed_data =  [[self.word2idx.get(w,len(self.word2idx)) for w in words] for words in tokenized_data]\n",
        "        # And transform this list of lists into a list of Pytorch LongTensors\n",
        "        tensor_data = [torch.LongTensor(text) for text in indexed_data]\n",
        "        # And the categories into a FloatTensor\n",
        "        tensor_y = torch.FloatTensor(categories)\n",
        "        # To finally cut it when it's above the maximum length\n",
        "        cut_tensor_data = [w if len(w) <= self.max_length  else torch.narrow(w,0,0,self.max_length) for w in tensor_data]\n",
        "        \n",
        "        # Now, we need to use the pad_sequence function to have the whole dataset represented as one tensor,\n",
        "        # containing sequences of the same length. We choose the padding_value to be 0, the we want the\n",
        "        # batch dimension to be the first dimension \n",
        "        self.tensor_data = pad_sequence(cut_tensor_data, batch_first=True, padding_value = 0)\n",
        "        self.tensor_y = tensor_y\n",
        "        \n",
        "    def __len__(self):\n",
        "        return len(self.data)\n",
        "\n",
        "    def __getitem__(self, idx):\n",
        "        # The iterator just gets one particular example with its category\n",
        "        # The dataloader will take care of the shuffling and batching\n",
        "        if torch.is_tensor(idx):\n",
        "            idx = idx.tolist()\n",
        "        return self.tensor_data[idx], self.tensor_y[idx] \n",
        "    \n",
        "    def build_vocab(self, corpus, count_threshold=0, voc_threshold=0):\n",
        "        \"\"\"\n",
        "        Same as in the previous TP: we want to output word_index, a dictionary containing words \n",
        "        and their corresponding indexes as {word : indexes} \n",
        "        But we also want the reverse, which is a dictionary {indexes: word}\n",
        "        Don't forget to add a UNK token that we need when encountering unknown words\n",
        "        We also choose '0' to represent the padding index, so begin the vocabulary index at 1 ! \n",
        "        \"\"\"\n",
        "\n",
        "        word_counts = {}\n",
        "        for sent in corpus:\n",
        "            for word in word_tokenize(sent):\n",
        "                if word not in word_counts:\n",
        "                    word_counts[word] = 0\n",
        "                word_counts[word] += 1    \n",
        "\n",
        "        filtered_word_counts = {word: count for word, count in word_counts.items() if count >= count_threshold}   \n",
        "        words = sorted(filtered_word_counts.keys(), key=word_counts.get, reverse=True)\n",
        "        if voc_threshold > 0:\n",
        "            words = words[:voc_threshold] + ['UNK']   \n",
        "        else :\n",
        "            words +=  ['UNK'] \n",
        "        word_index = {words[i] : i+1 for i in range(len(words))}\n",
        "        idx_word=dict(zip(word_index.values(), word_index.keys()))     \n",
        "        \n",
        "        return word_index, idx_word\n",
        "    \n",
        "    def get_vocab(self):\n",
        "        # A simple way to get the training vocab when building the valid/test \n",
        "        return self.word2idx, self.idx2word\n"
      ],
      "execution_count": null,
      "outputs": []
    },
    {
      "cell_type": "code",
      "metadata": {
        "id": "gkux-pmqdXMx"
      },
      "source": [
        "training_dataset = TextClassificationDataset(train_f, train_c)\n",
        "training_word2idx, training_idx2word = training_dataset.get_vocab()"
      ],
      "execution_count": null,
      "outputs": []
    },
    {
      "cell_type": "code",
      "metadata": {
        "id": "JyN4y-t3dXMy"
      },
      "source": [
        "valid_dataset = TextClassificationDataset(valid_f, valid_c, (training_word2idx, training_idx2word))\n",
        "test_dataset = TextClassificationDataset(test_f, test_c, (training_word2idx, training_idx2word))"
      ],
      "execution_count": null,
      "outputs": []
    },
    {
      "cell_type": "code",
      "metadata": {
        "id": "Pab2O8TxdXMy"
      },
      "source": [
        "training_dataloader = DataLoader(training_dataset, batch_size = 200, shuffle=True)\n",
        "valid_dataloader = DataLoader(valid_dataset, batch_size = 25)\n",
        "test_dataloader = DataLoader(test_dataset, batch_size = 25)"
      ],
      "execution_count": null,
      "outputs": []
    },
    {
      "cell_type": "code",
      "metadata": {
        "id": "HsX3StQMdXMy",
        "outputId": "269318e7-9bc2-4836-cdce-0aae15d903a7"
      },
      "source": [
        "print(training_dataset[0])"
      ],
      "execution_count": null,
      "outputs": [
        {
          "output_type": "stream",
          "text": [
            "(tensor([ 4244,   891,     1,   276,    23,    16,    14,    36,   146,   127,\n",
            "            3,   283,    53,   362,   146,   107,     5,  1137,    23,    16,\n",
            "         2983, 31718,    58,   504,    59,    30,    47,   842,     3,    20,\n",
            "        31718,  5713,    36,    30,     3,   824, 31718,   482,    13,    80,\n",
            "          213,  7842, 11491, 13697,   828,   547,   123,  8480,     7,     1,\n",
            "          205,    16,   106,     6,   847,     8,    93,  1082,   229,    92,\n",
            "           47,  9773,    11,    12,     9,    10,    11,    12,     9,    10,\n",
            "           20,   145,   362,  3039,    34,    35, 31718,     4,    34,  1761,\n",
            "          971,    42,  2641,    11,    12,     9,    10,    11,    12,     9,\n",
            "           10,  1940, 31718,    17,  5714,     6, 23487,    19,  3927,    11]), tensor(0.))\n"
          ],
          "name": "stdout"
        }
      ]
    },
    {
      "cell_type": "code",
      "metadata": {
        "id": "FUaFob9odXMy",
        "outputId": "88618636-f24c-4ba7-b6ad-07847f4c8d83"
      },
      "source": [
        "example_batch = next(iter(training_dataloader))\n",
        "print(example_batch[0].size())\n",
        "print(example_batch[1].size())"
      ],
      "execution_count": null,
      "outputs": [
        {
          "output_type": "stream",
          "text": [
            "torch.Size([200, 100])\n",
            "torch.Size([200])\n"
          ],
          "name": "stdout"
        }
      ]
    },
    {
      "cell_type": "markdown",
      "metadata": {
        "id": "CvJekHE1dXMy"
      },
      "source": [
        "### A simple averaging model\n",
        "\n",
        "Now, we will implement in Pytorch what we did in the previous TP: a simple averaging model. For each model we will implement, we need to create a class which inherits from ```nn.Module``` and redifine the ```__init__``` method as well as the ```forward``` method."
      ]
    },
    {
      "cell_type": "code",
      "metadata": {
        "id": "oi-BUJlVdXMz"
      },
      "source": [
        "# Models are usually implemented as custom nn.Module subclass\n",
        "# We need to redefine the __init__ method, which creates the object\n",
        "# We also need to redefine the forward method, which transform the input into outputs\n",
        "\n",
        "class AveragingModel(nn.Module):    \n",
        "    def __init__(self, embedding_dim, vocabulary_size):\n",
        "        super().__init__()\n",
        "        # Create an embedding object. Be careful to padding - you need to increase the vocabulary size by one !\n",
        "        # Look into the arguments of the nn.Embedding class\n",
        "        self.embeddings =  nn.Embedding(num_embeddings =vocabulary_size+1 , embedding_dim = embedding_dim ,padding_idx = 0)\n",
        "        # Create a linear layer that will transform the mean of the embeddings into a classification score\n",
        "        self.linear =nn.Linear(embedding_dim,1)   \n",
        "        \n",
        "        # No need for sigmoid, it will be into the criterion ! \n",
        "        \n",
        "    def forward(self, inputs):\n",
        "        # Remember: the inpts are written as Batch_size * seq_length * embedding_dim\n",
        "        # First, take the mean of the embeddings of the document\n",
        "        x = self.embeddings(inputs)  \n",
        "        # Then make it go through the linear layer and remove the extra dimension with the method .squeeze()\n",
        "        x= torch.mean(x,dim=1,keepdim=False)\n",
        "        o = self.linear(x).squeeze(dim=1)  \n",
        "        return o"
      ],
      "execution_count": null,
      "outputs": []
    },
    {
      "cell_type": "code",
      "metadata": {
        "id": "GvO7nVvxdXMz"
      },
      "source": [
        "import torch.optim as optim"
      ],
      "execution_count": null,
      "outputs": []
    },
    {
      "cell_type": "code",
      "metadata": {
        "id": "z71IcFM1dXMz"
      },
      "source": [
        "model = AveragingModel(300, len(training_word2idx))\n",
        "# Create an optimizer\n",
        "opt = optim.Adam(model.parameters(), lr=0.0025, betas=(0.9, 0.999))\n",
        "# The criterion is a binary cross entropy loss based on logits - meaning that the sigmoid is integrated into the criterion\n",
        "criterion = nn.BCEWithLogitsLoss()"
      ],
      "execution_count": null,
      "outputs": []
    },
    {
      "cell_type": "code",
      "metadata": {
        "id": "pjIKdF-gdXM0"
      },
      "source": [
        "# Implement a training function, which will train the model with the corresponding optimizer and criterion,\n",
        "# with the appropriate dataloader, for one epoch.\n",
        "\n",
        "def train_epoch(model, opt, criterion, dataloader):\n",
        "    model.train()\n",
        "    losses = []\n",
        "    for i, (x, y) in enumerate(dataloader):\n",
        "        opt.zero_grad()\n",
        "        # (1) Forward\n",
        "        pred = model.forward(x) \n",
        "        # (2) Compute the loss \n",
        "        loss =  criterion(pred,y) \n",
        "        # (3) Compute gradients with the criterion\n",
        "        loss.backward()\n",
        "        # (4) Update weights with the optimizer\n",
        "        opt.step()      \n",
        "        losses.append(loss.item())\n",
        "        # Count the number of correct predictions in the batch - here, you'll need to use the sigmoid\n",
        "        classes=torch.LongTensor([0 if torch.sigmoid(y)<0.5 else 1 for y in pred])\n",
        "        num_corrects = sum(np.array(classes==y)) \n",
        "        acc = 100.0 * num_corrects/len(y)\n",
        "        \n",
        "        if (i%20 == 0):\n",
        "            print(\"Batch \" + str(i) + \" : training loss = \" + str(loss.item()) + \"; training acc = \" + str(acc.item()))\n",
        "    return losses"
      ],
      "execution_count": null,
      "outputs": []
    },
    {
      "cell_type": "code",
      "metadata": {
        "id": "rT4Wrap1dXM1"
      },
      "source": [
        "# Same for the evaluation ! We don't need the optimizer here. \n",
        "def eval_model(model, criterion, evalloader):\n",
        "    model.eval()\n",
        "    total_epoch_loss = 0\n",
        "    total_epoch_acc = 0\n",
        "    with torch.no_grad():\n",
        "        for i, (x, y) in enumerate(evalloader):\n",
        "            pred = model.forward(x)\n",
        "            loss = criterion(pred,y) \n",
        "            classes=torch.LongTensor([0 if torch.sigmoid(y)<0.5 else 1 for y in pred])\n",
        "            num_corrects = sum(np.array(classes==y)) \n",
        "            acc = 100.0 * num_corrects/len(y)\n",
        "            total_epoch_loss += loss.item()\n",
        "            total_epoch_acc += acc.item()\n",
        "\n",
        "    return total_epoch_loss/(i+1), total_epoch_acc/(i+1)"
      ],
      "execution_count": null,
      "outputs": []
    },
    {
      "cell_type": "code",
      "metadata": {
        "id": "BGgJjHM_dXM1"
      },
      "source": [
        "# A function which will help you execute experiments rapidly - with a early_stopping option when necessary. \n",
        "def experiment(model, opt, criterion, num_epochs = 5, early_stopping = True):\n",
        "    train_losses = []\n",
        "    if early_stopping: \n",
        "        best_valid_loss = 10. \n",
        "    print(\"Beginning training...\")\n",
        "    for e in range(num_epochs):\n",
        "        print(\"Epoch \" + str(e+1) + \":\")\n",
        "        train_losses += train_epoch(model, opt, criterion, training_dataloader)\n",
        "        valid_loss, valid_acc = eval_model(model, criterion, valid_dataloader)\n",
        "        print(\"Epoch \" + str(e+1) + \" : Validation loss = \" + str(valid_loss) + \"; Validation acc = \" + str(valid_acc))\n",
        "        if early_stopping:\n",
        "            if valid_loss < best_valid_loss:\n",
        "                best_valid_loss = valid_loss\n",
        "            else:\n",
        "                print(\"Early stopping.\")\n",
        "                break  \n",
        "    test_loss, test_acc = eval_model(model, criterion, test_dataloader)\n",
        "    print(\"Epoch \" + str(e+1) + \" : Test loss = \" + str(test_loss) + \"; Test acc = \" + str(test_acc))\n",
        "    return train_losses"
      ],
      "execution_count": null,
      "outputs": []
    },
    {
      "cell_type": "code",
      "metadata": {
        "id": "aP3R_g1JdXM1",
        "outputId": "905a4aae-341b-4c0a-f2a0-7fc6cbf33c99"
      },
      "source": [
        "train_losses = experiment(model, opt, criterion)"
      ],
      "execution_count": null,
      "outputs": [
        {
          "output_type": "stream",
          "text": [
            "Beginning training...\n",
            "Epoch 1:\n",
            "Batch 0 : training loss = 0.6974214911460876; training acc = 44.0\n",
            "Batch 20 : training loss = 0.6670205593109131; training acc = 62.5\n",
            "Batch 40 : training loss = 0.6528061628341675; training acc = 63.0\n",
            "Batch 60 : training loss = 0.626395046710968; training acc = 70.5\n",
            "Batch 80 : training loss = 0.5915061831474304; training acc = 73.0\n",
            "Epoch 1 : Validation loss = 0.5718907168507577; Validation acc = 72.36\n",
            "Epoch 2:\n",
            "Batch 0 : training loss = 0.5383198857307434; training acc = 78.0\n",
            "Batch 20 : training loss = 0.5419949889183044; training acc = 75.0\n",
            "Batch 40 : training loss = 0.4635448753833771; training acc = 78.5\n",
            "Batch 60 : training loss = 0.4766266644001007; training acc = 79.5\n",
            "Batch 80 : training loss = 0.46141695976257324; training acc = 78.0\n",
            "Epoch 2 : Validation loss = 0.4535519406199455; Validation acc = 79.08\n",
            "Epoch 3:\n",
            "Batch 0 : training loss = 0.389078825712204; training acc = 85.5\n",
            "Batch 20 : training loss = 0.3479170501232147; training acc = 88.5\n",
            "Batch 40 : training loss = 0.3628276586532593; training acc = 84.0\n",
            "Batch 60 : training loss = 0.3048745095729828; training acc = 88.5\n",
            "Batch 80 : training loss = 0.41111528873443604; training acc = 82.5\n",
            "Epoch 3 : Validation loss = 0.4127408745884895; Validation acc = 81.64\n",
            "Epoch 4:\n",
            "Batch 0 : training loss = 0.28497493267059326; training acc = 92.0\n",
            "Batch 20 : training loss = 0.26125940680503845; training acc = 91.5\n",
            "Batch 40 : training loss = 0.27069854736328125; training acc = 90.0\n",
            "Batch 60 : training loss = 0.33533555269241333; training acc = 87.5\n",
            "Batch 80 : training loss = 0.29985055327415466; training acc = 88.5\n",
            "Epoch 4 : Validation loss = 0.39954029873013497; Validation acc = 82.2\n",
            "Epoch 5:\n",
            "Batch 0 : training loss = 0.2264372706413269; training acc = 93.0\n",
            "Batch 20 : training loss = 0.24814783036708832; training acc = 91.0\n",
            "Batch 40 : training loss = 0.18224552273750305; training acc = 95.0\n",
            "Batch 60 : training loss = 0.24475771188735962; training acc = 90.0\n",
            "Batch 80 : training loss = 0.20399349927902222; training acc = 93.5\n",
            "Epoch 5 : Validation loss = 0.40058066867291925; Validation acc = 82.08\n",
            "Early stopping.\n",
            "Epoch 5 : Test loss = 0.3866573666036129; Test acc = 82.68\n"
          ],
          "name": "stdout"
        }
      ]
    },
    {
      "cell_type": "markdown",
      "metadata": {
        "id": "zt46WUrHdXM1"
      },
      "source": [
        "### With Glove embeddings: \n",
        "\n",
        "Now, we would like to integrate pre-trained word embeddings into our model ! Let's use again the functions that we used in the previous TP:"
      ]
    },
    {
      "cell_type": "code",
      "metadata": {
        "id": "vxvaetOkdXM2"
      },
      "source": [
        "import gensim.downloader as api\n",
        "loaded_glove_model = api.load(\"glove-wiki-gigaword-300\")\n",
        "loaded_glove_embeddings = loaded_glove_model.vectors"
      ],
      "execution_count": null,
      "outputs": []
    },
    {
      "cell_type": "code",
      "metadata": {
        "id": "4TlVQzmudXM2"
      },
      "source": [
        "def get_glove_adapted_embeddings(glove_model, input_voc):\n",
        "    keys = {i: glove_model.vocab.get(w, None) for w, i in input_voc.items()}\n",
        "    index_dict = {i: key.index for i, key in keys.items() if key is not None}\n",
        "    embeddings = np.zeros((len(input_voc)+1,glove_model.vectors.shape[1]))\n",
        "    for i, ind in index_dict.items():\n",
        "        embeddings[i] = glove_model.vectors[ind]\n",
        "    return embeddings\n",
        "\n",
        "GloveEmbeddings = get_glove_adapted_embeddings(loaded_glove_model, training_word2idx)"
      ],
      "execution_count": null,
      "outputs": []
    },
    {
      "cell_type": "code",
      "metadata": {
        "id": "r1NA9HRndXM2",
        "outputId": "48854683-965e-4c00-a3d4-4a521db0d524"
      },
      "source": [
        "print(GloveEmbeddings.shape)\n",
        "# We should check that the \"padding\" vector is at zero\n",
        "print(GloveEmbeddings[0])"
      ],
      "execution_count": null,
      "outputs": [
        {
          "output_type": "stream",
          "text": [
            "(31719, 300)\n",
            "[0. 0. 0. 0. 0. 0. 0. 0. 0. 0. 0. 0. 0. 0. 0. 0. 0. 0. 0. 0. 0. 0. 0. 0.\n",
            " 0. 0. 0. 0. 0. 0. 0. 0. 0. 0. 0. 0. 0. 0. 0. 0. 0. 0. 0. 0. 0. 0. 0. 0.\n",
            " 0. 0. 0. 0. 0. 0. 0. 0. 0. 0. 0. 0. 0. 0. 0. 0. 0. 0. 0. 0. 0. 0. 0. 0.\n",
            " 0. 0. 0. 0. 0. 0. 0. 0. 0. 0. 0. 0. 0. 0. 0. 0. 0. 0. 0. 0. 0. 0. 0. 0.\n",
            " 0. 0. 0. 0. 0. 0. 0. 0. 0. 0. 0. 0. 0. 0. 0. 0. 0. 0. 0. 0. 0. 0. 0. 0.\n",
            " 0. 0. 0. 0. 0. 0. 0. 0. 0. 0. 0. 0. 0. 0. 0. 0. 0. 0. 0. 0. 0. 0. 0. 0.\n",
            " 0. 0. 0. 0. 0. 0. 0. 0. 0. 0. 0. 0. 0. 0. 0. 0. 0. 0. 0. 0. 0. 0. 0. 0.\n",
            " 0. 0. 0. 0. 0. 0. 0. 0. 0. 0. 0. 0. 0. 0. 0. 0. 0. 0. 0. 0. 0. 0. 0. 0.\n",
            " 0. 0. 0. 0. 0. 0. 0. 0. 0. 0. 0. 0. 0. 0. 0. 0. 0. 0. 0. 0. 0. 0. 0. 0.\n",
            " 0. 0. 0. 0. 0. 0. 0. 0. 0. 0. 0. 0. 0. 0. 0. 0. 0. 0. 0. 0. 0. 0. 0. 0.\n",
            " 0. 0. 0. 0. 0. 0. 0. 0. 0. 0. 0. 0. 0. 0. 0. 0. 0. 0. 0. 0. 0. 0. 0. 0.\n",
            " 0. 0. 0. 0. 0. 0. 0. 0. 0. 0. 0. 0. 0. 0. 0. 0. 0. 0. 0. 0. 0. 0. 0. 0.\n",
            " 0. 0. 0. 0. 0. 0. 0. 0. 0. 0. 0. 0.]\n"
          ],
          "name": "stdout"
        }
      ]
    },
    {
      "cell_type": "markdown",
      "metadata": {
        "id": "08KshbZbdXM2"
      },
      "source": [
        "Here, implement a ```PretrainedAveragingModel``` very similar to the previous model, using the ```nn.Embedding``` method ```from_pretrained()``` to initialize the embeddings from a numpy array. Use the ```requires_grad_``` method to specify if the model must fine-tune the embeddings or not ! "
      ]
    },
    {
      "cell_type": "code",
      "metadata": {
        "id": "5n8vD54pdXM2"
      },
      "source": [
        "class PretrainedAveragingModel(nn.Module):\n",
        "    def __init__(self, embeddings,fine_tuning=False):\n",
        "        super().__init__()\n",
        "    \n",
        "        self.fine_tuning=fine_tuning\n",
        "        self.embeddings = nn.Embedding.from_pretrained(torch.FloatTensor(embeddings), freeze=not(fine_tuning),  padding_idx=0)  #\n",
        "              \n",
        "         \n",
        "        self.linear = nn.Linear(embeddings.shape[1],1)   \n",
        "         \n",
        "        \n",
        "    def forward(self, inputs):\n",
        "        x = self.embeddings(inputs)  \n",
        "        x= torch.mean(x,dim=1,keepdim=False)\n",
        "        o = self.linear(x).squeeze(dim=1)   \n",
        "        return o"
      ],
      "execution_count": null,
      "outputs": []
    },
    {
      "cell_type": "code",
      "metadata": {
        "id": "bIruJ1oRXaaj",
        "outputId": "ffd9a6bf-4a3c-48ab-9f9c-4a534e4df755"
      },
      "source": [
        "# Model without fine tuning\n",
        "model_pre_trained = PretrainedAveragingModel(GloveEmbeddings,False)\n",
        "# optimizer\n",
        "opt = optim.Adam(model_pre_trained.parameters(), lr=0.0025, betas=(0.9, 0.999))\n",
        "# binary cross entropy loss \n",
        "criterion = nn.BCEWithLogitsLoss()\n",
        "train_losses = experiment(model_pre_trained, opt, criterion)"
      ],
      "execution_count": null,
      "outputs": [
        {
          "output_type": "stream",
          "text": [
            "Beginning training...\n",
            "Epoch 1:\n",
            "Batch 0 : training loss = 0.694547176361084; training acc = 44.0\n",
            "Batch 20 : training loss = 0.6841645836830139; training acc = 55.0\n",
            "Batch 40 : training loss = 0.6754447817802429; training acc = 62.0\n",
            "Batch 60 : training loss = 0.6552265882492065; training acc = 67.0\n",
            "Batch 80 : training loss = 0.6662095785140991; training acc = 65.5\n",
            "Epoch 1 : Validation loss = 0.6496472823619842; Validation acc = 66.4\n",
            "Epoch 2:\n",
            "Batch 0 : training loss = 0.6665501594543457; training acc = 60.0\n",
            "Batch 20 : training loss = 0.6633627414703369; training acc = 59.0\n",
            "Batch 40 : training loss = 0.6394000053405762; training acc = 67.0\n",
            "Batch 60 : training loss = 0.6404239535331726; training acc = 62.5\n",
            "Batch 80 : training loss = 0.6220672726631165; training acc = 68.0\n",
            "Epoch 2 : Validation loss = 0.6264932757616043; Validation acc = 68.84\n",
            "Epoch 3:\n",
            "Batch 0 : training loss = 0.6280421614646912; training acc = 67.5\n",
            "Batch 20 : training loss = 0.6090697050094604; training acc = 72.5\n",
            "Batch 40 : training loss = 0.6282292604446411; training acc = 67.5\n",
            "Batch 60 : training loss = 0.6135122179985046; training acc = 69.0\n",
            "Batch 80 : training loss = 0.6081293225288391; training acc = 70.5\n",
            "Epoch 3 : Validation loss = 0.6110686528682708; Validation acc = 69.28\n",
            "Epoch 4:\n",
            "Batch 0 : training loss = 0.6325098872184753; training acc = 64.0\n",
            "Batch 20 : training loss = 0.6175482273101807; training acc = 68.0\n",
            "Batch 40 : training loss = 0.6241670250892639; training acc = 71.0\n",
            "Batch 60 : training loss = 0.5988718271255493; training acc = 69.0\n",
            "Batch 80 : training loss = 0.6016148328781128; training acc = 71.0\n",
            "Epoch 4 : Validation loss = 0.5964408051967621; Validation acc = 71.6\n",
            "Epoch 5:\n",
            "Batch 0 : training loss = 0.6186048984527588; training acc = 70.5\n",
            "Batch 20 : training loss = 0.5972425937652588; training acc = 70.5\n",
            "Batch 40 : training loss = 0.5926996469497681; training acc = 69.5\n",
            "Batch 60 : training loss = 0.595355212688446; training acc = 68.0\n",
            "Batch 80 : training loss = 0.5830053091049194; training acc = 73.5\n",
            "Epoch 5 : Validation loss = 0.5853076246380806; Validation acc = 72.48\n",
            "Epoch 5 : Test loss = 0.5826279047131538; Test acc = 72.2\n"
          ],
          "name": "stdout"
        }
      ]
    },
    {
      "cell_type": "code",
      "metadata": {
        "id": "0S4N52vYXaak",
        "outputId": "40bf1757-33d5-4809-b77f-cc94297af9fd"
      },
      "source": [
        "# Model with fine tuning\n",
        "model_fine_tuning = PretrainedAveragingModel(GloveEmbeddings,True)\n",
        "# optimizer\n",
        "opt = optim.Adam(model_fine_tuning.parameters(),lr=0.0025, betas=(0.9, 0.999))\n",
        "# binary cross entropy loss \n",
        "criterion = nn.BCEWithLogitsLoss()\n",
        "train_losses = experiment(model_fine_tuning, opt, criterion)"
      ],
      "execution_count": null,
      "outputs": [
        {
          "output_type": "stream",
          "text": [
            "Beginning training...\n",
            "Epoch 1:\n",
            "Batch 0 : training loss = 0.6926694512367249; training acc = 54.0\n",
            "Batch 20 : training loss = 0.6767570376396179; training acc = 65.0\n",
            "Batch 40 : training loss = 0.6482796669006348; training acc = 69.5\n",
            "Batch 60 : training loss = 0.6075782775878906; training acc = 72.0\n",
            "Batch 80 : training loss = 0.5705568790435791; training acc = 73.5\n",
            "Epoch 1 : Validation loss = 0.5392729312181472; Validation acc = 75.12\n",
            "Epoch 2:\n",
            "Batch 0 : training loss = 0.5580908060073853; training acc = 70.5\n",
            "Batch 20 : training loss = 0.46343526244163513; training acc = 84.0\n",
            "Batch 40 : training loss = 0.45013195276260376; training acc = 80.5\n",
            "Batch 60 : training loss = 0.4156688451766968; training acc = 81.5\n",
            "Batch 80 : training loss = 0.3763042390346527; training acc = 86.5\n",
            "Epoch 2 : Validation loss = 0.42223505228757857; Validation acc = 80.88\n",
            "Epoch 3:\n",
            "Batch 0 : training loss = 0.3281441628932953; training acc = 89.0\n",
            "Batch 20 : training loss = 0.35497409105300903; training acc = 86.0\n",
            "Batch 40 : training loss = 0.31851840019226074; training acc = 88.0\n",
            "Batch 60 : training loss = 0.3226110339164734; training acc = 88.0\n",
            "Batch 80 : training loss = 0.28369298577308655; training acc = 89.5\n",
            "Epoch 3 : Validation loss = 0.39345114678144455; Validation acc = 82.24\n",
            "Epoch 4:\n",
            "Batch 0 : training loss = 0.239786297082901; training acc = 91.5\n",
            "Batch 20 : training loss = 0.2452624887228012; training acc = 91.0\n",
            "Batch 40 : training loss = 0.26191750168800354; training acc = 90.5\n",
            "Batch 60 : training loss = 0.2252180129289627; training acc = 93.5\n",
            "Batch 80 : training loss = 0.22287486493587494; training acc = 90.5\n",
            "Epoch 4 : Validation loss = 0.3942038817703724; Validation acc = 82.32\n",
            "Early stopping.\n",
            "Epoch 4 : Test loss = 0.38695788487792016; Test acc = 82.92\n"
          ],
          "name": "stdout"
        }
      ]
    },
    {
      "cell_type": "markdown",
      "metadata": {
        "id": "0u5BH6JSdXM4"
      },
      "source": [
        "### Questions: \n",
        "- What are the results **with and without fine-tuning of embeddings imported from GloVe** ?\n",
        "Obviously, we can see that the fine-tuned model performs better than the pre-trained embedding without tuning, where the test accuracy is 72.2% for the pre-trained model, and 82.92% for the fine-tuned model. Also, we can see that the loss is decreasing at a significantly slower rate for the pre-trained model, which is due to the fact that we aren't fine-tuning the pre-trained embedding.\n",
        "\n",
        "- Make hypothesis based on your intuition and the class on how\n",
        "    - the number of documents (take only a portion of the 25.000 documents !)\n",
        "  The number of documents affects the accuracy of the first and third model if it's low, but the second model will have an almost constant performance.\n",
        "    - the size of the vocabulary (change the minimum frequency of words to be taken in the vocabulary ! )\n",
        "  will impact results, in the three cases (No pre-training, pre-training without fine-tuning, pretraining with fine-tuning).\n",
        "- Verify your hypothesis with experiments and analyze your results !"
      ]
    },
    {
      "cell_type": "code",
      "metadata": {
        "id": "dM41MNm1Xaak"
      },
      "source": [
        "import matplotlib.pyplot as plt\n",
        "\n",
        "def experiment_with_number_of_document(number_of_files=100, min_freq=2,num_epochs = 5, early_stopping = True):\n",
        "    #We repeat the same process fro data preparation as we did in the first part\n",
        "    training_dataset = TextClassificationDataset(train_f[:number_of_files], train_c[:number_of_files],min_freq = min_freq)\n",
        "    training_word2idx, training_idx2word = training_dataset.get_vocab()\n",
        "    valid_dataset = TextClassificationDataset(valid_f, valid_c, (training_word2idx, training_idx2word))\n",
        "    test_dataset = TextClassificationDataset(test_f, test_c, (training_word2idx, training_idx2word))\n",
        "    training_dataloader = DataLoader(training_dataset, batch_size = 200, shuffle=True)\n",
        "    valid_dataloader = DataLoader(valid_dataset, batch_size = 25)\n",
        "    test_dataloader = DataLoader(test_dataset, batch_size = 25)\n",
        "    #Here we use the model without pre-training\n",
        "    model = AveragingModel(300, len(training_word2idx))\n",
        "    #optimizer\n",
        "    opt = optim.Adam(model.parameters(), lr=0.0025, betas=(0.9, 0.999))\n",
        "    # binary cross entropy loss \n",
        "    criterion = nn.BCEWithLogitsLoss()\n",
        "    # We train the model for 10 epochs\n",
        "    train_losses = []\n",
        "    if early_stopping: \n",
        "        best_valid_loss = 10. \n",
        "    \n",
        "    for e in range(num_epochs):\n",
        "        train_losses += train_epoch(model, opt, criterion, training_dataloader)\n",
        "        valid_loss, valid_acc = eval_model(model, criterion, valid_dataloader)#valid_dataloader\n",
        "        if early_stopping:\n",
        "            if valid_loss < best_valid_loss:\n",
        "                best_valid_loss = valid_loss\n",
        "            else:\n",
        "                break  \n",
        "    test_loss, test_acc = eval_model(model, criterion, test_dataloader)\n",
        "\n",
        "\n",
        "    return test_acc,number_of_files"
      ],
      "execution_count": null,
      "outputs": []
    },
    {
      "cell_type": "code",
      "metadata": {
        "id": "B4E9DKAsXaak"
      },
      "source": [
        "# Implement a training function, which will train the model with the corresponding optimizer and criterion,\n",
        "# with the appropriate dataloader, for one epoch.\n",
        "\n",
        "def train_epoch(model, opt, criterion, dataloader):\n",
        "    model.train()\n",
        "    losses = []\n",
        "    for i, (x, y) in enumerate(dataloader):\n",
        "        opt.zero_grad()\n",
        "        # (1) Forward\n",
        "        pred = model.forward(x) \n",
        "        # (2) Compute the loss \n",
        "        loss =  criterion(pred,y) \n",
        "        # (3) Compute gradients with the criterion\n",
        "        loss.backward()\n",
        "        # (4) Update weights with the optimizer\n",
        "        opt.step()      \n",
        "        losses.append(loss.item())\n",
        "        # Count the number of correct predictions in the batch - here, you'll need to use the sigmoid\n",
        "        classes=torch.LongTensor([0 if torch.sigmoid(y)<0.5 else 1 for y in pred])\n",
        "        num_corrects = sum(np.array(classes==y)) \n",
        "        acc = 100.0 * num_corrects/len(y)\n",
        "    return losses"
      ],
      "execution_count": null,
      "outputs": []
    },
    {
      "cell_type": "code",
      "metadata": {
        "id": "AO5h0YCdXaak",
        "outputId": "1b33ec1d-4182-4f30-a20d-cd8c3eb9fa95"
      },
      "source": [
        "accuracy=[]\n",
        "sizes = []\n",
        "for nb_files in [10,100,200,500]+[k*1000 for k in range(1,26,3)] : \n",
        "    print(\"Training with number of documents = \",nb_files)\n",
        "    acc, size = experiment_with_number_of_document(nb_files)\n",
        "    accuracy.append(acc)\n",
        "    sizes.append(size)\n",
        "\n",
        "    \n",
        "plt.plot(sizes, accuracy)\n",
        "plt.xlabel('Number of documents')\n",
        "plt.ylabel('Test Accuracy')\n",
        "plt.title(\"The effect of the number of document on accuracy for non pre-trained model\")\n",
        "plt.show()"
      ],
      "execution_count": null,
      "outputs": [
        {
          "output_type": "stream",
          "text": [
            "Training with number of documents =  10\n",
            "Training with number of documents =  100\n",
            "Training with number of documents =  200\n",
            "Training with number of documents =  500\n",
            "Training with number of documents =  1000\n",
            "Training with number of documents =  4000\n",
            "Training with number of documents =  7000\n",
            "Training with number of documents =  10000\n",
            "Training with number of documents =  13000\n",
            "Training with number of documents =  16000\n",
            "Training with number of documents =  19000\n",
            "Training with number of documents =  22000\n",
            "Training with number of documents =  25000\n"
          ],
          "name": "stdout"
        },
        {
          "output_type": "error",
          "ename": "NameError",
          "evalue": "name 'res_size' is not defined",
          "traceback": [
            "\u001b[1;31m---------------------------------------------------------------------------\u001b[0m",
            "\u001b[1;31mNameError\u001b[0m                                 Traceback (most recent call last)",
            "\u001b[1;32m<ipython-input-96-9caec83c1f71>\u001b[0m in \u001b[0;36m<module>\u001b[1;34m\u001b[0m\n\u001b[0;32m      8\u001b[0m \u001b[1;33m\u001b[0m\u001b[0m\n\u001b[0;32m      9\u001b[0m \u001b[1;33m\u001b[0m\u001b[0m\n\u001b[1;32m---> 10\u001b[1;33m \u001b[0mplt\u001b[0m\u001b[1;33m.\u001b[0m\u001b[0mplot\u001b[0m\u001b[1;33m(\u001b[0m\u001b[0mres_size\u001b[0m\u001b[1;33m,\u001b[0m \u001b[0mres_acc\u001b[0m\u001b[1;33m)\u001b[0m\u001b[1;33m\u001b[0m\u001b[1;33m\u001b[0m\u001b[0m\n\u001b[0m\u001b[0;32m     11\u001b[0m \u001b[0mplt\u001b[0m\u001b[1;33m.\u001b[0m\u001b[0mxlabel\u001b[0m\u001b[1;33m(\u001b[0m\u001b[1;34m'Number of documents'\u001b[0m\u001b[1;33m)\u001b[0m\u001b[1;33m\u001b[0m\u001b[1;33m\u001b[0m\u001b[0m\n\u001b[0;32m     12\u001b[0m \u001b[0mplt\u001b[0m\u001b[1;33m.\u001b[0m\u001b[0mylabel\u001b[0m\u001b[1;33m(\u001b[0m\u001b[1;34m'Test Accuracy'\u001b[0m\u001b[1;33m)\u001b[0m\u001b[1;33m\u001b[0m\u001b[1;33m\u001b[0m\u001b[0m\n",
            "\u001b[1;31mNameError\u001b[0m: name 'res_size' is not defined"
          ]
        }
      ]
    },
    {
      "cell_type": "code",
      "metadata": {
        "id": "qBs6gitrXaal",
        "outputId": "681e58c6-656f-4908-d5a7-cdbfbf076e68"
      },
      "source": [
        "plt.plot(sizes, accuracy)\n",
        "plt.xlabel('Number of documents')\n",
        "plt.ylabel('Test Accuracy')\n",
        "plt.title(\"The effect of the number of document on accuracy for non pre-trained model\")\n",
        "plt.show()"
      ],
      "execution_count": null,
      "outputs": [
        {
          "output_type": "display_data",
          "data": {
            "image/png": "[encoded data removed]",
            "text/plain": [
              "<Figure size 432x288 with 1 Axes>"
            ]
          },
          "metadata": {
            "tags": [],
            "needs_background": "light"
          }
        }
      ]
    },
    {
      "cell_type": "code",
      "metadata": {
        "id": "0ljtLoaIXaal"
      },
      "source": [
        "def experiment_with_number_of_document2(number_of_files=100, min_freq=2,num_epochs = 5, early_stopping = True):\n",
        "    #We repeat the same process fro data preparation as we did in the first part\n",
        "    training_dataset = TextClassificationDataset(train_f[:number_of_files], train_c[:number_of_files],min_freq = min_freq)\n",
        "    training_word2idx, training_idx2word = training_dataset.get_vocab()\n",
        "    valid_dataset = TextClassificationDataset(valid_f, valid_c, (training_word2idx, training_idx2word))\n",
        "    test_dataset = TextClassificationDataset(test_f, test_c, (training_word2idx, training_idx2word))\n",
        "    training_dataloader = DataLoader(training_dataset, batch_size = 200, shuffle=True)\n",
        "    valid_dataloader = DataLoader(valid_dataset, batch_size = 25)\n",
        "    test_dataloader = DataLoader(test_dataset, batch_size = 25)\n",
        "    #Here we use the Glove model with fine-tuning\n",
        "    GloveEmbeddings = get_glove_adapted_embeddings(loaded_glove_model, training_word2idx)\n",
        "    model = PretrainedAveragingModel(GloveEmbeddings,False)\n",
        "    #optimizer\n",
        "    opt = optim.Adam(model.parameters(), lr=0.0025, betas=(0.9, 0.999))\n",
        "    # binary cross entropy loss \n",
        "    criterion = nn.BCEWithLogitsLoss()\n",
        "    # We train the model for 10 epochs\n",
        "    train_losses = []\n",
        "    if early_stopping: \n",
        "        best_valid_loss = 10. \n",
        "    \n",
        "    for e in range(num_epochs):\n",
        "        train_losses += train_epoch(model, opt, criterion, training_dataloader)\n",
        "        valid_loss, valid_acc = eval_model(model, criterion, valid_dataloader)#valid_dataloader\n",
        "        if early_stopping:\n",
        "            if valid_loss < best_valid_loss:\n",
        "                best_valid_loss = valid_loss\n",
        "            else:\n",
        "                break  \n",
        "    test_loss, test_acc = eval_model(model, criterion, test_dataloader)\n",
        "\n",
        "\n",
        "    return test_acc,number_of_files"
      ],
      "execution_count": null,
      "outputs": []
    },
    {
      "cell_type": "code",
      "metadata": {
        "scrolled": true,
        "id": "x48Q9RWkXaal",
        "outputId": "ff0447b5-e89b-4b8a-9215-00d73460f322"
      },
      "source": [
        "accuracy=[]\n",
        "sizes = []\n",
        "for nb_files in [10,100,200,500]+[k*1000 for k in range(1,26,3)] : \n",
        "    print(\"Training with number of documents = \",nb_files)\n",
        "    acc, size = experiment_with_number_of_document2(nb_files)\n",
        "    accuracy.append(acc)\n",
        "    sizes.append(size)\n",
        "\n",
        "    \n",
        "plt.plot(sizes, accuracy)\n",
        "plt.xlabel('Number of documents')\n",
        "plt.ylabel('Test Accuracy')\n",
        "plt.title(\"The effect of the number of document on accuracy for Glove model without finetuning\")\n",
        "plt.show()"
      ],
      "execution_count": null,
      "outputs": [
        {
          "output_type": "stream",
          "text": [
            "Training with number of documents =  10\n",
            "Training with number of documents =  100\n",
            "Training with number of documents =  200\n",
            "Training with number of documents =  500\n",
            "Training with number of documents =  1000\n",
            "Training with number of documents =  4000\n",
            "Training with number of documents =  7000\n",
            "Training with number of documents =  10000\n",
            "Training with number of documents =  13000\n",
            "Training with number of documents =  16000\n",
            "Training with number of documents =  19000\n",
            "Training with number of documents =  22000\n",
            "Training with number of documents =  25000\n"
          ],
          "name": "stdout"
        },
        {
          "output_type": "display_data",
          "data": {
            "image/png": "[encoded data removed]",
            "text/plain": [
              "<Figure size 432x288 with 1 Axes>"
            ]
          },
          "metadata": {
            "tags": [],
            "needs_background": "light"
          }
        }
      ]
    },
    {
      "cell_type": "code",
      "metadata": {
        "id": "DsixSBB3Xaal"
      },
      "source": [
        "def experiment_with_number_of_document2(number_of_files=100, min_freq=2,num_epochs = 5, early_stopping = True):\n",
        "    #We repeat the same process fro data preparation as we did in the first part\n",
        "    training_dataset = TextClassificationDataset(train_f[:number_of_files], train_c[:number_of_files],min_freq = min_freq)\n",
        "    training_word2idx, training_idx2word = training_dataset.get_vocab()\n",
        "    valid_dataset = TextClassificationDataset(valid_f, valid_c, (training_word2idx, training_idx2word))\n",
        "    test_dataset = TextClassificationDataset(test_f, test_c, (training_word2idx, training_idx2word))\n",
        "    training_dataloader = DataLoader(training_dataset, batch_size = 200, shuffle=True)\n",
        "    valid_dataloader = DataLoader(valid_dataset, batch_size = 25)\n",
        "    test_dataloader = DataLoader(test_dataset, batch_size = 25)\n",
        "    #Here we use the Glove model with fine-tuning\n",
        "    GloveEmbeddings = get_glove_adapted_embeddings(loaded_glove_model, training_word2idx)\n",
        "    model = PretrainedAveragingModel(GloveEmbeddings,False)\n",
        "    #optimizer\n",
        "    opt = optim.Adam(model.parameters(), lr=0.0025, betas=(0.9, 0.999))\n",
        "    # binary cross entropy loss \n",
        "    criterion = nn.BCEWithLogitsLoss()\n",
        "    # We train the model for 10 epochs\n",
        "    train_losses = []\n",
        "    if early_stopping: \n",
        "        best_valid_loss = 10. \n",
        "    \n",
        "    for e in range(num_epochs):\n",
        "        train_losses += train_epoch(model, opt, criterion, training_dataloader)\n",
        "        valid_loss, valid_acc = eval_model(model, criterion, valid_dataloader)#valid_dataloader\n",
        "        if early_stopping:\n",
        "            if valid_loss < best_valid_loss:\n",
        "                best_valid_loss = valid_loss\n",
        "            else:\n",
        "                break  \n",
        "    test_loss, test_acc = eval_model(model, criterion, test_dataloader)\n",
        "\n",
        "\n",
        "    return test_acc,number_of_files"
      ],
      "execution_count": null,
      "outputs": []
    },
    {
      "cell_type": "code",
      "metadata": {
        "id": "b2YwOODvXaal",
        "outputId": "1437937d-57ab-4224-962a-8aa0d53d2ffd"
      },
      "source": [
        "accuracy=[]\n",
        "sizes = []\n",
        "for nb_files in [10,100,200,500]+[k*1000 for k in range(1,26,3)] : \n",
        "    print(\"Training with number of documents = \",nb_files)\n",
        "    acc, size = experiment_with_number_of_document2(nb_files)\n",
        "    accuracy.append(acc)\n",
        "    sizes.append(size)\n",
        "\n",
        "    \n",
        "plt.plot(sizes, accuracy)\n",
        "plt.xlabel('Number of documents')\n",
        "plt.ylabel('Test Accuracy')\n",
        "plt.title(\"The effect of the number of document on accuracy for Glove model with finetuning\")\n",
        "plt.show()"
      ],
      "execution_count": null,
      "outputs": [
        {
          "output_type": "stream",
          "text": [
            "Training with number of documents =  10\n",
            "Training with number of documents =  100\n",
            "Training with number of documents =  200\n",
            "Training with number of documents =  500\n",
            "Training with number of documents =  1000\n",
            "Training with number of documents =  4000\n",
            "Training with number of documents =  7000\n",
            "Training with number of documents =  10000\n",
            "Training with number of documents =  13000\n",
            "Training with number of documents =  16000\n",
            "Training with number of documents =  19000\n",
            "Training with number of documents =  22000\n",
            "Training with number of documents =  25000\n"
          ],
          "name": "stdout"
        },
        {
          "output_type": "display_data",
          "data": {
            "image/png": "[encoded data removed]",
            "text/plain": [
              "<Figure size 432x288 with 1 Axes>"
            ]
          },
          "metadata": {
            "tags": [],
            "needs_background": "light"
          }
        }
      ]
    },
    {
      "cell_type": "code",
      "metadata": {
        "id": "u5Y4oL9SXaam"
      },
      "source": [
        "# Comments"
      ],
      "execution_count": null,
      "outputs": []
    },
    {
      "cell_type": "markdown",
      "metadata": {
        "id": "C0mGZv0hXaam"
      },
      "source": [
        "# Effect of the vocabulary size\n",
        "We do the same process but changing the vocabulary size and keeping the same number of documents."
      ]
    },
    {
      "cell_type": "code",
      "metadata": {
        "id": "Jf9R6JhqXaam"
      },
      "source": [
        "def experiment_with_vocab_size(minimum_frequency, min_freq=2,num_epochs = 5, early_stopping = True):\n",
        "    #We repeat the same process fro data preparation as we did in the first part\n",
        "    training_dataset = TextClassificationDataset(train_f, train_c,min_freq = minimum_frequency)\n",
        "    training_word2idx, training_idx2word = training_dataset.get_vocab()\n",
        "    valid_dataset = TextClassificationDataset(valid_f, valid_c, (training_word2idx, training_idx2word))\n",
        "    test_dataset = TextClassificationDataset(test_f, test_c, (training_word2idx, training_idx2word))\n",
        "    training_dataloader = DataLoader(training_dataset, batch_size = 200, shuffle=True)\n",
        "    valid_dataloader = DataLoader(valid_dataset, batch_size = 25)\n",
        "    test_dataloader = DataLoader(test_dataset, batch_size = 25)\n",
        "    #Here we use the model without pre-training\n",
        "    model = AveragingModel(300, len(training_word2idx))\n",
        "    #optimizer\n",
        "    opt = optim.Adam(model.parameters(), lr=0.0025, betas=(0.9, 0.999))\n",
        "    # binary cross entropy loss \n",
        "    criterion = nn.BCEWithLogitsLoss()\n",
        "    # We train the model for 10 epochs\n",
        "    train_losses = []\n",
        "    if early_stopping: \n",
        "        best_valid_loss = 10. \n",
        "    \n",
        "    for e in range(num_epochs):\n",
        "        train_losses += train_epoch(model, opt, criterion, training_dataloader)\n",
        "        valid_loss, valid_acc = eval_model(model, criterion, valid_dataloader)#valid_dataloader\n",
        "        if early_stopping:\n",
        "            if valid_loss < best_valid_loss:\n",
        "                best_valid_loss = valid_loss\n",
        "            else:\n",
        "                break  \n",
        "    test_loss, test_acc = eval_model(model, criterion, test_dataloader)\n",
        "\n",
        "\n",
        "    return test_acc,minimum_frequency"
      ],
      "execution_count": null,
      "outputs": []
    },
    {
      "cell_type": "code",
      "metadata": {
        "id": "E8AyGrMrXaam",
        "outputId": "95965fe2-dc4f-4375-8f19-3e1e5be5b56b"
      },
      "source": [
        "accuracy=[]\n",
        "sizes = []\n",
        "for min_freq in [1,5,10]+[k*10 for k in range(2,10,2)]+ [500]: \n",
        "    print(\"Training with vocabulary size = \",min_freq)\n",
        "    acc, size = experiment_with_number_of_document2(min_freq)\n",
        "    accuracy.append(acc)\n",
        "    sizes.append(size)\n",
        "\n",
        "    \n",
        "plt.plot(sizes, accuracy)\n",
        "plt.xlabel('Minimum frequency')\n",
        "plt.ylabel('Test Accuracy')\n",
        "plt.title(\"The effect of the minimum frequency on accuracy for averaging model\")\n",
        "plt.show()"
      ],
      "execution_count": null,
      "outputs": [
        {
          "output_type": "stream",
          "text": [
            "Training with vocabulary size =  25000\n",
            "Training with vocabulary size =  25000\n",
            "Training with vocabulary size =  25000\n",
            "Training with vocabulary size =  25000\n",
            "Training with vocabulary size =  25000\n",
            "Training with vocabulary size =  25000\n",
            "Training with vocabulary size =  25000\n",
            "Training with vocabulary size =  25000\n"
          ],
          "name": "stdout"
        },
        {
          "output_type": "display_data",
          "data": {
            "image/png": "[encoded data removed]",
            "text/plain": [
              "<Figure size 432x288 with 1 Axes>"
            ]
          },
          "metadata": {
            "tags": [],
            "needs_background": "light"
          }
        }
      ]
    },
    {
      "cell_type": "code",
      "metadata": {
        "id": "qJ6pyADWXaam"
      },
      "source": [
        "def experiment_with_vocab_size(minimum_frequency, min_freq=2,num_epochs = 5, early_stopping = True):\n",
        "    #We repeat the same process fro data preparation as we did in the first part\n",
        "    training_dataset = TextClassificationDataset(train_f, train_c,min_freq = minimum_frequency)\n",
        "    training_word2idx, training_idx2word = training_dataset.get_vocab()\n",
        "    valid_dataset = TextClassificationDataset(valid_f, valid_c, (training_word2idx, training_idx2word))\n",
        "    test_dataset = TextClassificationDataset(test_f, test_c, (training_word2idx, training_idx2word))\n",
        "    training_dataloader = DataLoader(training_dataset, batch_size = 200, shuffle=True)\n",
        "    valid_dataloader = DataLoader(valid_dataset, batch_size = 25)\n",
        "    test_dataloader = DataLoader(test_dataset, batch_size = 25)\n",
        "    #Here we use the Glove model with fine-tuning\n",
        "    GloveEmbeddings = get_glove_adapted_embeddings(loaded_glove_model, training_word2idx)\n",
        "    model = PretrainedAveragingModel(GloveEmbeddings,False)\n",
        "    #optimizer\n",
        "    opt = optim.Adam(model.parameters(), lr=0.0025, betas=(0.9, 0.999))\n",
        "    # binary cross entropy loss \n",
        "    criterion = nn.BCEWithLogitsLoss()\n",
        "    # We train the model for 10 epochs\n",
        "    train_losses = []\n",
        "    if early_stopping: \n",
        "        best_valid_loss = 10. \n",
        "    \n",
        "    for e in range(num_epochs):\n",
        "        train_losses += train_epoch(model, opt, criterion, training_dataloader)\n",
        "        valid_loss, valid_acc = eval_model(model, criterion, valid_dataloader)#valid_dataloader\n",
        "        if early_stopping:\n",
        "            if valid_loss < best_valid_loss:\n",
        "                best_valid_loss = valid_loss\n",
        "            else:\n",
        "                break  \n",
        "    test_loss, test_acc = eval_model(model, criterion, test_dataloader)\n",
        "\n",
        "\n",
        "    return test_acc,minimum_frequency"
      ],
      "execution_count": null,
      "outputs": []
    },
    {
      "cell_type": "code",
      "metadata": {
        "id": "kowvrei1Xaam",
        "outputId": "97404248-5efd-419e-925f-60b4e6f43de0"
      },
      "source": [
        "accuracy=[]\n",
        "sizes = []\n",
        "for min_freq in [1,5,10]+[k*10 for k in range(2,10,2)]+ [500]: \n",
        "    print(\"Training with vocabulary size = \",min_freq)\n",
        "    acc, size = experiment_with_vocab_size(min_freq)\n",
        "    accuracy.append(acc)\n",
        "    sizes.append(size)\n",
        "\n",
        "    \n",
        "plt.plot(sizes, accuracy)\n",
        "plt.xlabel('Minimum frequency')\n",
        "plt.ylabel('Test Accuracy')\n",
        "plt.title(\"The effect of the minimum frequency on accuracy for Glove without fine tuning\")\n",
        "plt.show()"
      ],
      "execution_count": null,
      "outputs": [
        {
          "output_type": "stream",
          "text": [
            "Training with vocabulary size =  1\n",
            "Training with vocabulary size =  5\n",
            "Training with vocabulary size =  10\n",
            "Training with vocabulary size =  20\n",
            "Training with vocabulary size =  40\n",
            "Training with vocabulary size =  60\n",
            "Training with vocabulary size =  80\n",
            "Training with vocabulary size =  500\n"
          ],
          "name": "stdout"
        },
        {
          "output_type": "display_data",
          "data": {
            "image/png": "[encoded data removed]",
            "text/plain": [
              "<Figure size 432x288 with 1 Axes>"
            ]
          },
          "metadata": {
            "tags": [],
            "needs_background": "light"
          }
        }
      ]
    },
    {
      "cell_type": "code",
      "metadata": {
        "id": "sBhiG5A_Xaan"
      },
      "source": [
        "def experiment_with_vocab_size(minimum_frequency, min_freq=2,num_epochs = 5, early_stopping = True):\n",
        "    #We repeat the same process fro data preparation as we did in the first part\n",
        "    training_dataset = TextClassificationDataset(train_f, train_c,min_freq = minimum_frequency)\n",
        "    training_word2idx, training_idx2word = training_dataset.get_vocab()\n",
        "    valid_dataset = TextClassificationDataset(valid_f, valid_c, (training_word2idx, training_idx2word))\n",
        "    test_dataset = TextClassificationDataset(test_f, test_c, (training_word2idx, training_idx2word))\n",
        "    training_dataloader = DataLoader(training_dataset, batch_size = 200, shuffle=True)\n",
        "    valid_dataloader = DataLoader(valid_dataset, batch_size = 25)\n",
        "    test_dataloader = DataLoader(test_dataset, batch_size = 25)\n",
        "    #Here we use the Glove model without fine-tuning\n",
        "    GloveEmbeddings = get_glove_adapted_embeddings(loaded_glove_model, training_word2idx)\n",
        "    model = PretrainedAveragingModel(GloveEmbeddings,True)\n",
        "    #optimizer\n",
        "    opt = optim.Adam(model.parameters(), lr=0.0025, betas=(0.9, 0.999))\n",
        "    # binary cross entropy loss \n",
        "    criterion = nn.BCEWithLogitsLoss()\n",
        "    # We train the model for 10 epochs\n",
        "    train_losses = []\n",
        "    if early_stopping: \n",
        "        best_valid_loss = 10. \n",
        "    \n",
        "    for e in range(num_epochs):\n",
        "        train_losses += train_epoch(model, opt, criterion, training_dataloader)\n",
        "        valid_loss, valid_acc = eval_model(model, criterion, valid_dataloader)#valid_dataloader\n",
        "        if early_stopping:\n",
        "            if valid_loss < best_valid_loss:\n",
        "                best_valid_loss = valid_loss\n",
        "            else:\n",
        "                break  \n",
        "    test_loss, test_acc = eval_model(model, criterion, test_dataloader)\n",
        "\n",
        "\n",
        "    return test_acc,minimum_frequency"
      ],
      "execution_count": null,
      "outputs": []
    },
    {
      "cell_type": "code",
      "metadata": {
        "id": "reTd-pDCXaan",
        "outputId": "362ba610-d672-4886-c765-acb8710fe4f1"
      },
      "source": [
        "accuracy=[]\n",
        "sizes = []\n",
        "for min_freq in [1,5,10]+[k*10 for k in range(2,10,2)]+ [500]: \n",
        "    print(\"Training with vocabulary size = \",min_freq)\n",
        "    acc, size = experiment_with_vocab_size(min_freq)\n",
        "    accuracy.append(acc)\n",
        "    sizes.append(size)\n",
        "\n",
        "    \n",
        "plt.plot(sizes, accuracy)\n",
        "plt.xlabel('Minimum frequency')\n",
        "plt.ylabel('Test Accuracy')\n",
        "plt.title(\"The effect of the minimum frequency on accuracy for Glove with fine tuning\")\n",
        "plt.show()"
      ],
      "execution_count": null,
      "outputs": [
        {
          "output_type": "stream",
          "text": [
            "Training with vocabulary size =  1\n",
            "Training with vocabulary size =  5\n",
            "Training with vocabulary size =  10\n",
            "Training with vocabulary size =  20\n",
            "Training with vocabulary size =  40\n",
            "Training with vocabulary size =  60\n",
            "Training with vocabulary size =  80\n",
            "Training with vocabulary size =  500\n"
          ],
          "name": "stdout"
        },
        {
          "output_type": "display_data",
          "data": {
            "image/png": "[encoded data removed]",
            "text/plain": [
              "<Figure size 432x288 with 1 Axes>"
            ]
          },
          "metadata": {
            "tags": [],
            "needs_background": "light"
          }
        }
      ]
    },
    {
      "cell_type": "markdown",
      "metadata": {
        "id": "TGrJNClxdXM4"
      },
      "source": [
        "### LSTM Cells in pytorch"
      ]
    },
    {
      "cell_type": "code",
      "metadata": {
        "id": "nlrJj609dXM4",
        "outputId": "43abed49-14b4-49f4-966e-2722e9999cdd"
      },
      "source": [
        "# Create a toy example of LSTM: \n",
        "lstm = nn.LSTM(3, 3)  # Input dim is 3, output dim is 3\n",
        "inputs = [torch.randn(1, 3) for _ in range(5)]  # make a sequence of length 5\n",
        "\n",
        "# LSTMs expect inputs having 3 dimensions:\n",
        "# - The first dimension is the temporal dimension, along which we (in our case) have the different words\n",
        "# - The second dimension is the batch dimension, along which we stack the independant batches\n",
        "# - The third dimension is the feature dimension, along which are the features of the vector representing the words\n",
        "\n",
        "# In our toy case, we have inputs and outputs containing 3 features (third dimension !)\n",
        "# We created a sequence of 5 different inputs (first dimension !)\n",
        "# We don't use batch (the second dimension will have one lement)\n",
        "\n",
        "# We need an initial hidden state, of the right sizes for dimension 2/3, but with only one temporal element:\n",
        "# Here, it is:\n",
        "hidden = (torch.randn(1, 1, 3),\n",
        "          torch.randn(1, 1, 3))\n",
        "# Why do we create a tuple of two tensors ? Because we use LSTMs: remember that they use two sets of weights,\n",
        "# and two hidden states (Hidden state, and Cell state).\n",
        "# If you don't remember, read: https://colah.github.io/posts/2015-08-Understanding-LSTMs/\n",
        "# If we used a classic RNN, we would simply have:\n",
        "# hidden = torch.randn(1, 1, 3)\n",
        "\n",
        "# The naive way of applying a lstm to inputs is to apply it one step at a time, and loop through the sequence\n",
        "for i in inputs:\n",
        "    # After each step, hidden contains the hidden states (remember, it's a tuple of two states).\n",
        "    out, hidden = lstm(i.view(1, 1, -1), hidden)\n",
        "    \n",
        "# Alternatively, we can do the entire sequence all at once.\n",
        "# The first value returned by LSTM is all of the Hidden states throughout the sequence.\n",
        "# The second is just the most recent Hidden state and Cell state (you can compare the values)\n",
        "# The reason for this is that:\n",
        "# \"out\" will give you access to all hidden states in the sequence, for each temporal step\n",
        "# \"hidden\" will allow you to continue the sequence and backpropagate later, with another sequence\n",
        "inputs = torch.cat(inputs).view(len(inputs), 1, -1)\n",
        "hidden = (torch.randn(1, 1, 3), torch.randn(1, 1, 3))  # Re-initialize\n",
        "out, hidden = lstm(inputs, hidden)\n",
        "print(out)\n",
        "print(hidden)"
      ],
      "execution_count": null,
      "outputs": [
        {
          "output_type": "stream",
          "text": [
            "tensor([[[ 4.9745e-01, -7.7589e-02,  3.0697e-01]],\n",
            "\n",
            "        [[ 9.1300e-02, -8.0655e-02,  2.9346e-01]],\n",
            "\n",
            "        [[-4.8929e-02,  1.0006e-01, -1.0676e-02]],\n",
            "\n",
            "        [[ 8.1007e-02,  2.5498e-04,  7.5785e-02]],\n",
            "\n",
            "        [[-1.0801e-02, -4.6589e-02,  8.1466e-02]]], grad_fn=<StackBackward>)\n",
            "(tensor([[[-0.0108, -0.0466,  0.0815]]], grad_fn=<StackBackward>), tensor([[[-0.0297, -0.2291,  0.1500]]], grad_fn=<StackBackward>))\n"
          ],
          "name": "stdout"
        }
      ]
    },
    {
      "cell_type": "markdown",
      "metadata": {
        "id": "KA1-0VdUdXM4"
      },
      "source": [
        "### Creating our own LSTM Model\n",
        "\n",
        "We'll implement now a LSTM model, taking the same inputs and also outputing a score for the sentence."
      ]
    },
    {
      "cell_type": "code",
      "metadata": {
        "id": "oyun2YmddXM5"
      },
      "source": [
        "class LSTMModel(nn.Module):\n",
        "    def __init__(self, embedding_dim, vocabulary_size, hidden_dim, embeddings=None, no_fine_tuning=False):\n",
        "        super().__init__()\n",
        "        if embeddings is None: \n",
        "            self.embeddings= nn.Embedding(num_embeddings = vocabulary_size + 1 , embedding_dim = embedding_dim)\n",
        "        else:\n",
        "            self.embeddings= nn.Embedding.from_pretrained(torch.FloatTensor(embeddings), freeze=no_fine_tuning,  padding_idx=0)           \n",
        "        \n",
        "        self.LSTM = nn.LSTM(embedding_dim, hidden_dim, batch_first=True)\n",
        "        self.linear = nn.Linear(hidden_dim,1)      \n",
        "\n",
        "    def forward(self, inputs):\n",
        "        x = self.embeddings(inputs)\n",
        "        x,h = self.LSTM(x)\n",
        "        o = self.linear(h[0]).squeeze()\n",
        "        return o  "
      ],
      "execution_count": null,
      "outputs": []
    },
    {
      "cell_type": "code",
      "metadata": {
        "id": "aJtlnNgIXaan"
      },
      "source": [
        "class LSTMModel(nn.Module):\n",
        "    def __init__(self, embedding_dim, vocabulary_size, hidden_dim, embeddings=None, no_fine_tuning=False):\n",
        "        super().__init__()\n",
        "        if embeddings is None: \n",
        "            self.embeddings= nn.Embedding(num_embeddings = vocabulary_size + 1 , embedding_dim = embedding_dim)\n",
        "        else:\n",
        "            self.embeddings= nn.Embedding.from_pretrained(torch.FloatTensor(embeddings), freeze=no_fine_tuning,  padding_idx=0)           \n",
        "        \n",
        "        self.LSTM = nn.LSTM(embedding_dim, hidden_dim, batch_first=True)\n",
        "        self.linear = nn.Linear(hidden_dim,1)      \n",
        "\n",
        "    def forward(self, inputs):\n",
        "        x = self.embeddings(inputs)\n",
        "        x,h = self.LSTM(x)\n",
        "        o = self.linear(h[0]).squeeze()\n",
        "        return o  "
      ],
      "execution_count": null,
      "outputs": []
    },
    {
      "cell_type": "markdown",
      "metadata": {
        "id": "wBj-X9ZmdXM5"
      },
      "source": [
        "### And with a CNN ? "
      ]
    },
    {
      "cell_type": "code",
      "metadata": {
        "id": "-hgmLPJAdXM5"
      },
      "source": [
        "class CNNModel(nn.Module):\n",
        "    def __init__(self, embedding_dim=300, vocabulary_size=0,embeddings=None, window_size: int = 16,no_fine_tuning=False, filter_multiplier = 64,sentence_length = 100\n",
        "                 ,):\n",
        "        # A compléter\n",
        "        super().__init__()\n",
        "        if embeddings is None: \n",
        "            self.embeddings= nn.Embedding(num_embeddings = vocabulary_size + 1 , embedding_dim = embedding_dim)\n",
        "        else:\n",
        "            self.embeddings= nn.Embedding.from_pretrained(torch.FloatTensor(embeddings), freeze=no_fine_tuning,  padding_idx=0) \n",
        "        self.convolution = nn.Conv1d(in_channels=embedding_dim, out_channels=filter_multiplier, kernel_size=window_size,bias=True)\n",
        "        self.maxpooling = nn.MaxPool1d(kernel_size=2, stride=2)\n",
        "        self.linear = nn.Linear(filter_multiplier * ((sentence_length - window_size + 1) // 2),1)\n",
        "        \n",
        "    def forward(self, inputs): \n",
        "        # A compléter\n",
        "        x = self.embeddings(inputs)  \n",
        "        x = self.convolution(torch.transpose(x, 1, 2))  \n",
        "        x = torch.relu(x)\n",
        "        x = self.maxpooling(x)\n",
        "        x =torch.flatten(x,1)\n",
        "        o = self.linear(x).squeeze(dim=1) \n",
        "        return o"
      ],
      "execution_count": null,
      "outputs": []
    },
    {
      "cell_type": "code",
      "metadata": {
        "id": "BgIwbWT8Xaao",
        "outputId": "8e6524a2-dc0f-416e-a1ad-85681ae4702d"
      },
      "source": [
        "model_CNN = CNNModel(256, len(training_word2idx),None)\n",
        "# optimizer\n",
        "opt = optim.Adam(model_CNN.parameters(),lr=0.0025, betas=(0.9, 0.999))\n",
        "# binary cross entropy loss  \n",
        "criterion = nn.BCEWithLogitsLoss()\n",
        "train_losses = experiment(model_CNN, opt, criterion)"
      ],
      "execution_count": null,
      "outputs": [
        {
          "output_type": "stream",
          "text": [
            "Beginning training...\n",
            "Epoch 1:\n",
            "Epoch 1 : Validation loss = 0.6167683216929436; Validation acc = 65.36\n",
            "Epoch 2:\n",
            "Epoch 2 : Validation loss = 0.6338418108224869; Validation acc = 71.44\n",
            "Early stopping.\n",
            "Epoch 2 : Test loss = 0.6176056364178657; Test acc = 71.64\n"
          ],
          "name": "stdout"
        }
      ]
    },
    {
      "cell_type": "markdown",
      "metadata": {
        "id": "jS6tRm1YdXM5"
      },
      "source": [
        "### Questions: \n",
        "- What do you see with a simple application of LSTMs and CNNs models ? \n",
        "\n",
        "**A**\n",
        "\n",
        "\n",
        "We see that the simple averaging model performs better than both simple applications of LSTM and CNN, both not using pre-trained embedding.\n",
        "- Similarly, make hypothesis based on your intuition and the class on how\n",
        "    - the number of documents \n",
        "    - the size of the vocabulary \n",
        "  will impact results, in the three cases (No pre-training, pre-training without fine-tuning, pretraining with fine-tuning) for the LSTM **or** CNN (and the CNN should be quite faster !) and verify your hypothesis with experiments and analyze your results !\n",
        "\n",
        "**B**\n",
        "\n",
        "We make the same assumptions as previously, where more documents and larger vocabulary are likely to improve the averaging model and the fine-tuned model, and the non fite-tuned one is unaffected.\n",
        "\n",
        "- Present your results in a clear and synthetic way (table, figures) and be careful to experimental methodology. Notably, you should fix hyperparameters before making comparisons (you should use maximum length of sentences and batch sizes to accelerate training - similarly, using a SGD optimizer will be faster than Adam) ! "
      ]
    },
    {
      "cell_type": "markdown",
      "metadata": {
        "id": "D3IGWRVlXaao"
      },
      "source": [
        "## Number of documents\n",
        "\n",
        "In this part, we will see the impact of varying the number of documents used on the performance of our models.\n",
        "\n",
        "### Not pre-trained model"
      ]
    },
    {
      "cell_type": "code",
      "metadata": {
        "id": "lR99JViFXaao"
      },
      "source": [
        "def doc_compare(number_of_files, min_freq=2,num_epochs = 5, early_stopping = True):\n",
        "    \n",
        "    training_dataset = TextClassificationDataset(train_f[:number_of_files], train_c[:number_of_files],min_freq = min_freq)\n",
        "    training_word2idx, training_idx2word = training_dataset.get_vocab()\n",
        "    print(\"vocabulary size : \",len(training_word2idx))\n",
        "    valid_dataset = TextClassificationDataset(valid_f, valid_c, (training_word2idx, training_idx2word))\n",
        "    test_dataset = TextClassificationDataset(test_f, test_c, (training_word2idx, training_idx2word))\n",
        "    training_dataloader = DataLoader(training_dataset, batch_size = 200, shuffle=True)\n",
        "    valid_dataloader = DataLoader(valid_dataset, batch_size = 25)\n",
        "    test_dataloader = DataLoader(test_dataset, batch_size = 25)\n",
        "    \n",
        "    model =  CNNModel(256, len(training_word2idx),None)\n",
        "    opt = optim.Adam(model.parameters(), lr=0.0025, betas=(0.9, 0.999)) \n",
        "    criterion = nn.BCEWithLogitsLoss()\n",
        "\n",
        "    train_losses = []\n",
        "    if early_stopping: \n",
        "        best_valid_loss = 10. \n",
        "    print(\"Beginning training...\")\n",
        "    for e in range(num_epochs):\n",
        "        print(\"Epoch \" + str(e+1) + \":\")\n",
        "        train_losses += train_epoch(model, opt, criterion, training_dataloader)\n",
        "        valid_loss, valid_acc = eval_model(model, criterion, valid_dataloader)#valid_dataloader\n",
        "        print(\"Epoch \" + str(e+1) + \" : Validation loss = \" + str(valid_loss) + \"; Validation acc = \" + str(valid_acc))\n",
        "        if early_stopping:\n",
        "            if valid_loss < best_valid_loss:\n",
        "                best_valid_loss = valid_loss\n",
        "            else:\n",
        "                print(\"Early stopping.\")\n",
        "                break  \n",
        "    test_loss, test_acc = eval_model(model, criterion, test_dataloader)\n",
        "    print(\"Epoch \" + str(e+1) + \" : Test loss = \" + str(test_loss) + \"; Test acc = \" + str(test_acc))\n",
        "\n",
        "\n",
        "    return test_acc,number_of_files"
      ],
      "execution_count": null,
      "outputs": []
    },
    {
      "cell_type": "code",
      "metadata": {
        "id": "B6j9wBZ5Xaap",
        "outputId": "3a95ddf6-553c-45c8-9406-cb9fea2af3b0"
      },
      "source": [
        "res_acc=[]\n",
        "res_size = []\n",
        "for nb_files in [100,1000,5000,10000,15000,20000,25000] : \n",
        "    print(\"Number of documents : \",nb_files)\n",
        "    acc, size = doc_compare(nb_files)\n",
        "    res_acc.append(acc)\n",
        "    res_size.append(size)"
      ],
      "execution_count": null,
      "outputs": [
        {
          "output_type": "stream",
          "text": [
            "Number of documents :  100\n",
            "vocabulary size :  1886\n",
            "Beginning training...\n",
            "Epoch 1:\n",
            "Epoch 1 : Validation loss = 1.8166296100616455; Validation acc = 50.24\n",
            "Epoch 2:\n",
            "Epoch 2 : Validation loss = 0.7294341427087784; Validation acc = 50.44\n",
            "Epoch 3:\n",
            "Epoch 3 : Validation loss = 0.7008025515079498; Validation acc = 51.8\n",
            "Epoch 4:\n",
            "Epoch 4 : Validation loss = 0.7431658148765564; Validation acc = 51.24\n",
            "Early stopping.\n",
            "Epoch 4 : Test loss = 0.7535910212993622; Test acc = 49.36\n",
            "Number of documents :  1000\n",
            "vocabulary size :  10879\n",
            "Beginning training...\n",
            "Epoch 1:\n",
            "Epoch 1 : Validation loss = 0.7068175393342971; Validation acc = 51.08\n",
            "Epoch 2:\n",
            "Epoch 2 : Validation loss = 0.7379214060306549; Validation acc = 51.24\n",
            "Early stopping.\n",
            "Epoch 2 : Test loss = 0.7397968709468842; Test acc = 51.0\n",
            "Number of documents :  5000\n",
            "vocabulary size :  28203\n",
            "Beginning training...\n",
            "Epoch 1:\n",
            "Epoch 1 : Validation loss = 0.6935238599777221; Validation acc = 52.8\n",
            "Epoch 2:\n",
            "Epoch 2 : Validation loss = 0.7910275721549987; Validation acc = 56.64\n",
            "Early stopping.\n",
            "Epoch 2 : Test loss = 0.7977462431788445; Test acc = 57.0\n",
            "Number of documents :  10000\n",
            "vocabulary size :  41069\n",
            "Beginning training...\n",
            "Epoch 1:\n",
            "Epoch 1 : Validation loss = 0.6944635170698166; Validation acc = 51.76\n",
            "Epoch 2:\n",
            "Epoch 2 : Validation loss = 0.6599728429317474; Validation acc = 65.36\n",
            "Epoch 3:\n",
            "Epoch 3 : Validation loss = 0.7530508252978325; Validation acc = 65.92\n",
            "Early stopping.\n",
            "Epoch 3 : Test loss = 0.772342340350151; Test acc = 66.6\n",
            "Number of documents :  15000\n",
            "vocabulary size :  50837\n",
            "Beginning training...\n",
            "Epoch 1:\n",
            "Epoch 1 : Validation loss = 0.626417127251625; Validation acc = 64.64\n",
            "Epoch 2:\n",
            "Epoch 2 : Validation loss = 0.6246691593527793; Validation acc = 69.04\n",
            "Epoch 3:\n",
            "Epoch 3 : Validation loss = 0.7900310495495796; Validation acc = 70.28\n",
            "Early stopping.\n",
            "Epoch 3 : Test loss = 0.7890901371836663; Test acc = 70.44\n",
            "Number of documents :  20000\n",
            "vocabulary size :  58921\n",
            "Beginning training...\n",
            "Epoch 1:\n",
            "Epoch 1 : Validation loss = 0.574391537308693; Validation acc = 69.2\n",
            "Epoch 2:\n",
            "Epoch 2 : Validation loss = 0.5780757015943527; Validation acc = 73.56\n",
            "Early stopping.\n",
            "Epoch 2 : Test loss = 0.5681423708796501; Test acc = 74.36\n",
            "Number of documents :  25000\n",
            "vocabulary size :  58921\n",
            "Beginning training...\n",
            "Epoch 1:\n",
            "Epoch 1 : Validation loss = 0.5833924427628517; Validation acc = 68.56\n",
            "Epoch 2:\n",
            "Epoch 2 : Validation loss = 0.5828151413798333; Validation acc = 73.44\n",
            "Epoch 3:\n",
            "Epoch 3 : Validation loss = 0.8129925468564033; Validation acc = 73.2\n",
            "Early stopping.\n",
            "Epoch 3 : Test loss = 0.7884483686089516; Test acc = 74.36\n"
          ],
          "name": "stdout"
        }
      ]
    },
    {
      "cell_type": "code",
      "metadata": {
        "id": "3cmA5ih-Xaap",
        "outputId": "06939db4-cd7b-4587-bda4-d7cd30c55a4b"
      },
      "source": [
        "plt.plot(res_size, res_acc)\n",
        "plt.xlabel('Number of documents')\n",
        "plt.ylabel('Test Accuracy')\n",
        "plt.title(\"The effect of the number of document on accuracy for non pre-trained CNN model\")\n",
        "plt.show()"
      ],
      "execution_count": null,
      "outputs": [
        {
          "output_type": "display_data",
          "data": {
            "image/png": "[encoded data removed]",
            "text/plain": [
              "<Figure size 432x288 with 1 Axes>"
            ]
          },
          "metadata": {
            "tags": [],
            "needs_background": "light"
          }
        }
      ]
    },
    {
      "cell_type": "markdown",
      "metadata": {
        "id": "LEGif_z0Xaap"
      },
      "source": [
        "### Pre trained model and fine-tuned"
      ]
    },
    {
      "cell_type": "code",
      "metadata": {
        "id": "13zyGamUXaap"
      },
      "source": [
        "def doc_compare(number_of_files, min_freq=2,num_epochs = 5, early_stopping = True):\n",
        "    \n",
        "    training_dataset = TextClassificationDataset(train_f[:number_of_files], train_c[:number_of_files],min_freq = min_freq)\n",
        "    training_word2idx, training_idx2word = training_dataset.get_vocab()\n",
        "    print(\"vocabulary size : \",len(training_word2idx))\n",
        "    valid_dataset = TextClassificationDataset(valid_f, valid_c, (training_word2idx, training_idx2word))\n",
        "    test_dataset = TextClassificationDataset(test_f, test_c, (training_word2idx, training_idx2word))\n",
        "    training_dataloader = DataLoader(training_dataset, batch_size = 200, shuffle=True)\n",
        "    valid_dataloader = DataLoader(valid_dataset, batch_size = 25)\n",
        "    test_dataloader = DataLoader(test_dataset, batch_size = 25)\n",
        "    GloveEmbeddings = get_glove_adapted_embeddings(loaded_glove_model, training_word2idx)\n",
        "    model =  CNNModel(embeddings = GloveEmbeddings)\n",
        "    opt = optim.Adam(model.parameters(), lr=0.0025, betas=(0.9, 0.999)) \n",
        "    criterion = nn.BCEWithLogitsLoss()\n",
        "\n",
        "    train_losses = []\n",
        "    if early_stopping: \n",
        "        best_valid_loss = 10. \n",
        "    print(\"Beginning training...\")\n",
        "    for e in range(num_epochs):\n",
        "        print(\"Epoch \" + str(e+1) + \":\")\n",
        "        train_losses += train_epoch(model, opt, criterion, training_dataloader)\n",
        "        valid_loss, valid_acc = eval_model(model, criterion, valid_dataloader)\n",
        "        print(\"Epoch \" + str(e+1) + \" : Validation loss = \" + str(valid_loss) + \"; Validation acc = \" + str(valid_acc))\n",
        "        if early_stopping:\n",
        "            if valid_loss < best_valid_loss:\n",
        "                best_valid_loss = valid_loss\n",
        "            else:\n",
        "                print(\"Early stopping.\")\n",
        "                break  \n",
        "    test_loss, test_acc = eval_model(model, criterion, test_dataloader)\n",
        "    print(\"Epoch \" + str(e+1) + \" : Test loss = \" + str(test_loss) + \"; Test acc = \" + str(test_acc))\n",
        "\n",
        "\n",
        "    return test_acc,number_of_files"
      ],
      "execution_count": null,
      "outputs": []
    },
    {
      "cell_type": "code",
      "metadata": {
        "id": "h2AXrQvFXaap",
        "outputId": "4fad9e53-150b-491b-9914-fc324ee59cd9"
      },
      "source": [
        "res_acc=[]\n",
        "res_size = []\n",
        "for nb_files in [100,1000,5000,10000,15000,20000,25000] : \n",
        "    print(\"Number of documents : \",nb_files)\n",
        "    acc, size = doc_compare(nb_files)\n",
        "    res_acc.append(acc)\n",
        "    res_size.append(size)\n"
      ],
      "execution_count": null,
      "outputs": [
        {
          "output_type": "stream",
          "text": [
            "Number of documents :  100\n",
            "vocabulary size :  1886\n",
            "Beginning training...\n",
            "Epoch 1:\n",
            "Epoch 1 : Validation loss = 0.8400729006528854; Validation acc = 50.24\n",
            "Epoch 2:\n",
            "Epoch 2 : Validation loss = 0.7065360558032989; Validation acc = 51.44\n",
            "Epoch 3:\n",
            "Epoch 3 : Validation loss = 0.7090814572572708; Validation acc = 49.84\n",
            "Early stopping.\n",
            "Epoch 3 : Test loss = 0.7117868500947953; Test acc = 50.6\n",
            "Number of documents :  1000\n",
            "vocabulary size :  10879\n",
            "Beginning training...\n",
            "Epoch 1:\n",
            "Epoch 1 : Validation loss = 0.6993868935108185; Validation acc = 49.88\n",
            "Epoch 2:\n",
            "Epoch 2 : Validation loss = 0.6973586165904999; Validation acc = 50.96\n",
            "Epoch 3:\n",
            "Epoch 3 : Validation loss = 0.6860819947719574; Validation acc = 57.2\n",
            "Epoch 4:\n",
            "Epoch 4 : Validation loss = 0.683758391737938; Validation acc = 60.2\n",
            "Epoch 5:\n",
            "Epoch 5 : Validation loss = 0.6731149411201477; Validation acc = 61.64\n",
            "Epoch 5 : Test loss = 0.6649391904473305; Test acc = 61.88\n",
            "Number of documents :  5000\n",
            "vocabulary size :  28203\n",
            "Beginning training...\n",
            "Epoch 1:\n",
            "Epoch 1 : Validation loss = 0.6785460823774337; Validation acc = 51.52\n",
            "Epoch 2:\n",
            "Epoch 2 : Validation loss = 0.6212586736679078; Validation acc = 66.32\n",
            "Epoch 3:\n",
            "Epoch 3 : Validation loss = 0.4964692458510399; Validation acc = 76.0\n",
            "Epoch 4:\n",
            "Epoch 4 : Validation loss = 0.4993329481780529; Validation acc = 77.96\n",
            "Early stopping.\n",
            "Epoch 4 : Test loss = 0.4918294414877892; Test acc = 77.92\n",
            "Number of documents :  10000\n",
            "vocabulary size :  41069\n",
            "Beginning training...\n",
            "Epoch 1:\n",
            "Epoch 1 : Validation loss = 0.6114572691917419; Validation acc = 60.0\n",
            "Epoch 2:\n",
            "Epoch 2 : Validation loss = 0.5254225882887841; Validation acc = 75.36\n",
            "Epoch 3:\n",
            "Epoch 3 : Validation loss = 0.4893895776569843; Validation acc = 79.28\n",
            "Epoch 4:\n",
            "Epoch 4 : Validation loss = 0.5647456569969654; Validation acc = 79.04\n",
            "Early stopping.\n",
            "Epoch 4 : Test loss = 0.5451533527672291; Test acc = 79.12\n",
            "Number of documents :  15000\n",
            "vocabulary size :  50837\n",
            "Beginning training...\n",
            "Epoch 1:\n",
            "Epoch 1 : Validation loss = 0.5242195293307305; Validation acc = 74.96\n",
            "Epoch 2:\n",
            "Epoch 2 : Validation loss = 0.4128211104869843; Validation acc = 81.68\n",
            "Epoch 3:\n",
            "Epoch 3 : Validation loss = 0.47159388437867167; Validation acc = 81.88\n",
            "Early stopping.\n",
            "Epoch 3 : Test loss = 0.47637053102254867; Test acc = 81.2\n",
            "Number of documents :  20000\n",
            "vocabulary size :  58921\n",
            "Beginning training...\n",
            "Epoch 1:\n",
            "Epoch 1 : Validation loss = 0.4450339911878109; Validation acc = 79.56\n",
            "Epoch 2:\n",
            "Epoch 2 : Validation loss = 0.42571499064564705; Validation acc = 80.96\n",
            "Epoch 3:\n",
            "Epoch 3 : Validation loss = 0.548860347494483; Validation acc = 78.48\n",
            "Early stopping.\n",
            "Epoch 3 : Test loss = 0.5314038518071175; Test acc = 80.24\n",
            "Number of documents :  25000\n",
            "vocabulary size :  58921\n",
            "Beginning training...\n",
            "Epoch 1:\n",
            "Epoch 1 : Validation loss = 0.4551558268070221; Validation acc = 79.04\n",
            "Epoch 2:\n",
            "Epoch 2 : Validation loss = 0.41546926982700827; Validation acc = 81.28\n",
            "Epoch 3:\n",
            "Epoch 3 : Validation loss = 0.4988488046824932; Validation acc = 80.0\n",
            "Early stopping.\n",
            "Epoch 3 : Test loss = 0.47823804095387457; Test acc = 81.24\n"
          ],
          "name": "stdout"
        }
      ]
    },
    {
      "cell_type": "code",
      "metadata": {
        "id": "2CWnMRUwXaap",
        "outputId": "b6aab1ca-8072-4aa8-e638-18cf71551c97"
      },
      "source": [
        "plt.plot(res_size, res_acc)\n",
        "plt.xlabel('Number of documents')\n",
        "plt.ylabel('Test Accuracy')\n",
        "plt.title(\"Effect of the number of document on accuracy on a fine_tuned, pre-trained CNN model\")\n",
        "plt.show()"
      ],
      "execution_count": null,
      "outputs": [
        {
          "output_type": "display_data",
          "data": {
            "image/png": "[encoded data removed]",
            "text/plain": [
              "<Figure size 432x288 with 1 Axes>"
            ]
          },
          "metadata": {
            "tags": [],
            "needs_background": "light"
          }
        }
      ]
    },
    {
      "cell_type": "markdown",
      "metadata": {
        "id": "tn-pBpmEXaaq"
      },
      "source": [
        "### Pre trained model without fine-tuning"
      ]
    },
    {
      "cell_type": "code",
      "metadata": {
        "id": "qnSlcr9mXaaq"
      },
      "source": [
        "def doc_compare(number_of_files, min_freq=2,num_epochs = 5, early_stopping = True):\n",
        "    \n",
        "    training_dataset = TextClassificationDataset(train_f[:number_of_files], train_c[:number_of_files],min_freq = min_freq)\n",
        "    training_word2idx, training_idx2word = training_dataset.get_vocab()\n",
        "    print(\"vocabulary size : \",len(training_word2idx))\n",
        "    valid_dataset = TextClassificationDataset(valid_f, valid_c, (training_word2idx, training_idx2word))\n",
        "    test_dataset = TextClassificationDataset(test_f, test_c, (training_word2idx, training_idx2word))\n",
        "    training_dataloader = DataLoader(training_dataset, batch_size = 200, shuffle=True)\n",
        "    valid_dataloader = DataLoader(valid_dataset, batch_size = 25)\n",
        "    test_dataloader = DataLoader(test_dataset, batch_size = 25)\n",
        "    GloveEmbeddings = get_glove_adapted_embeddings(loaded_glove_model, training_word2idx)\n",
        "    model =  CNNModel(embeddings = GloveEmbeddings,no_fine_tuning = True)\n",
        "    opt = optim.Adam(model.parameters(), lr=0.0025, betas=(0.9, 0.999)) \n",
        "    criterion = nn.BCEWithLogitsLoss()\n",
        "\n",
        "    train_losses = []\n",
        "    if early_stopping: \n",
        "        best_valid_loss = 10. \n",
        "    print(\"Beginning training...\")\n",
        "    for e in range(num_epochs):\n",
        "        print(\"Epoch \" + str(e+1) + \":\")\n",
        "        train_losses += train_epoch(model, opt, criterion, training_dataloader)\n",
        "        valid_loss, valid_acc = eval_model(model, criterion, valid_dataloader)\n",
        "        print(\"Epoch \" + str(e+1) + \" : Validation loss = \" + str(valid_loss) + \"; Validation acc = \" + str(valid_acc))\n",
        "        if early_stopping:\n",
        "            if valid_loss < best_valid_loss:\n",
        "                best_valid_loss = valid_loss\n",
        "            else:\n",
        "                print(\"Early stopping.\")\n",
        "                break  \n",
        "    test_loss, test_acc = eval_model(model, criterion, test_dataloader)\n",
        "    print(\"Epoch \" + str(e+1) + \" : Test loss = \" + str(test_loss) + \"; Test acc = \" + str(test_acc))\n",
        "\n",
        "\n",
        "    return test_acc,number_of_files"
      ],
      "execution_count": null,
      "outputs": []
    },
    {
      "cell_type": "code",
      "metadata": {
        "id": "0ADpiyuuXaaq",
        "outputId": "97284cbe-b8c9-42c3-99ed-12111bea3c70"
      },
      "source": [
        "res_acc=[]\n",
        "res_size = []\n",
        "for nb_files in [100,1000,5000,10000,15000,20000,25000] : \n",
        "    print(\"Number of documents : \",nb_files)\n",
        "    acc, size = doc_compare(nb_files)\n",
        "    res_acc.append(acc)\n",
        "    res_size.append(size)"
      ],
      "execution_count": null,
      "outputs": [
        {
          "output_type": "stream",
          "text": [
            "Number of documents :  100\n",
            "vocabulary size :  1886\n",
            "Beginning training...\n",
            "Epoch 1:\n",
            "Epoch 1 : Validation loss = 0.7780500036478043; Validation acc = 50.28\n",
            "Epoch 2:\n",
            "Epoch 2 : Validation loss = 0.7499549329280853; Validation acc = 50.32\n",
            "Epoch 3:\n",
            "Epoch 3 : Validation loss = 0.7548977696895599; Validation acc = 50.0\n",
            "Early stopping.\n",
            "Epoch 3 : Test loss = 0.7499304682016372; Test acc = 50.4\n",
            "Number of documents :  1000\n",
            "vocabulary size :  10879\n",
            "Beginning training...\n",
            "Epoch 1:\n",
            "Epoch 1 : Validation loss = 0.6965560895204544; Validation acc = 50.88\n",
            "Epoch 2:\n",
            "Epoch 2 : Validation loss = 0.708443021774292; Validation acc = 52.12\n",
            "Early stopping.\n",
            "Epoch 2 : Test loss = 0.714998305439949; Test acc = 49.72\n",
            "Number of documents :  5000\n",
            "vocabulary size :  28203\n",
            "Beginning training...\n",
            "Epoch 1:\n",
            "Epoch 1 : Validation loss = 0.6833689731359481; Validation acc = 50.64\n",
            "Epoch 2:\n",
            "Epoch 2 : Validation loss = 0.6485039836168289; Validation acc = 60.28\n",
            "Epoch 3:\n",
            "Epoch 3 : Validation loss = 0.5416684052348137; Validation acc = 72.6\n",
            "Epoch 4:\n",
            "Epoch 4 : Validation loss = 0.538329146206379; Validation acc = 71.96\n",
            "Epoch 5:\n",
            "Epoch 5 : Validation loss = 0.5666060325503349; Validation acc = 70.52\n",
            "Early stopping.\n",
            "Epoch 5 : Test loss = 0.5599371975660324; Test acc = 70.92\n",
            "Number of documents :  10000\n",
            "vocabulary size :  41069\n",
            "Beginning training...\n",
            "Epoch 1:\n",
            "Epoch 1 : Validation loss = 0.5631094953417778; Validation acc = 70.8\n",
            "Epoch 2:\n",
            "Epoch 2 : Validation loss = 0.5397192925214768; Validation acc = 73.2\n",
            "Epoch 3:\n",
            "Epoch 3 : Validation loss = 0.5233555760979652; Validation acc = 73.72\n",
            "Epoch 4:\n",
            "Epoch 4 : Validation loss = 0.5551220047473907; Validation acc = 72.6\n",
            "Early stopping.\n",
            "Epoch 4 : Test loss = 0.5512707713246345; Test acc = 72.84\n",
            "Number of documents :  15000\n",
            "vocabulary size :  50837\n",
            "Beginning training...\n",
            "Epoch 1:\n",
            "Epoch 1 : Validation loss = 0.5294475555419922; Validation acc = 74.44\n",
            "Epoch 2:\n",
            "Epoch 2 : Validation loss = 0.5027173021435738; Validation acc = 75.4\n",
            "Epoch 3:\n",
            "Epoch 3 : Validation loss = 0.500572252869606; Validation acc = 75.16\n",
            "Epoch 4:\n",
            "Epoch 4 : Validation loss = 0.5258965700864792; Validation acc = 74.32\n",
            "Early stopping.\n",
            "Epoch 4 : Test loss = 0.518138390481472; Test acc = 75.24\n",
            "Number of documents :  20000\n",
            "vocabulary size :  58921\n",
            "Beginning training...\n",
            "Epoch 1:\n",
            "Epoch 1 : Validation loss = 0.5378689575195312; Validation acc = 73.28\n",
            "Epoch 2:\n",
            "Epoch 2 : Validation loss = 0.4940101557970047; Validation acc = 76.32\n",
            "Epoch 3:\n",
            "Epoch 3 : Validation loss = 0.47222318440675737; Validation acc = 76.84\n",
            "Epoch 4:\n",
            "Epoch 4 : Validation loss = 0.5103349786996841; Validation acc = 75.56\n",
            "Early stopping.\n",
            "Epoch 4 : Test loss = 0.5091619192063809; Test acc = 75.96\n",
            "Number of documents :  25000\n",
            "vocabulary size :  58921\n",
            "Beginning training...\n",
            "Epoch 1:\n",
            "Epoch 1 : Validation loss = 0.5713017609715462; Validation acc = 70.72\n",
            "Epoch 2:\n",
            "Epoch 2 : Validation loss = 0.5018916538357735; Validation acc = 75.8\n",
            "Epoch 3:\n",
            "Epoch 3 : Validation loss = 0.4788603419065475; Validation acc = 76.16\n",
            "Epoch 4:\n",
            "Epoch 4 : Validation loss = 0.4869116871058941; Validation acc = 76.24\n",
            "Early stopping.\n",
            "Epoch 4 : Test loss = 0.4830900852382183; Test acc = 77.2\n"
          ],
          "name": "stdout"
        }
      ]
    },
    {
      "cell_type": "code",
      "metadata": {
        "id": "FoBJrimvXaaq",
        "outputId": "02fc93eb-19a0-4958-b21c-316e70e0c957"
      },
      "source": [
        "plt.plot(res_size, res_acc)\n",
        "plt.xlabel('Number of documents')\n",
        "plt.ylabel('Test Accuracy')\n",
        "plt.title(\"Effect of the number of document on accuracy for non fine-tuned, pre-trained CNN model\")\n",
        "plt.show()"
      ],
      "execution_count": null,
      "outputs": [
        {
          "output_type": "display_data",
          "data": {
            "image/png": "[encoded data removed]",
            "text/plain": [
              "<Figure size 432x288 with 1 Axes>"
            ]
          },
          "metadata": {
            "tags": [],
            "needs_background": "light"
          }
        }
      ]
    },
    {
      "cell_type": "markdown",
      "metadata": {
        "id": "HramZNdiXaas"
      },
      "source": [
        "## Comments on number of documents\n",
        "\n",
        "From the obtained plots, it is apparent that the pre-trained models are less dependant from the number of document then the classical embedding models, where we can see them be close to their maximum accuracy for a relatively low number of documents (approximately 5000) compared to the other model. This is due to the fact that the embedding layer is pre-trained on a large corpus, therefore, does not need a lot of documents to build a good representation of the words.\n",
        "\n",
        "## Impact of the size of the vocabulary\n",
        "\n",
        "This time, we proceed by testing the impact of the size of the vocabulary by varying the count threshhold, where we start with a low count threshhold, which builds a rich vocabulary, and restrain it by increasing this threshhold. We consider all the documents for this task.\n",
        "\n",
        "### Not pre-trained model"
      ]
    },
    {
      "cell_type": "code",
      "metadata": {
        "id": "s0qrQ7UDXaas"
      },
      "source": [
        "def compare_vocab(min_freq=2, num_epochs = 5, early_stopping = True):\n",
        "    training_dataset = TextClassificationDataset(train_f, train_c,min_freq = min_freq)\n",
        "    training_word2idx, training_idx2word = training_dataset.get_vocab()\n",
        "    valid_dataset = TextClassificationDataset(valid_f, valid_c, (training_word2idx, training_idx2word))\n",
        "    test_dataset = TextClassificationDataset(test_f, test_c, (training_word2idx, training_idx2word))\n",
        "    training_dataloader = DataLoader(training_dataset, batch_size = 200, shuffle=True)\n",
        "    valid_dataloader = DataLoader(valid_dataset, batch_size = 25)\n",
        "    test_dataloader = DataLoader(test_dataset, batch_size = 25)\n",
        "    model = CNNModel(256, len(training_word2idx),None)\n",
        "    opt = optim.Adam(model.parameters(), lr=0.0025, betas=(0.9, 0.999))\n",
        "    criterion = nn.BCEWithLogitsLoss()\n",
        "\n",
        "    train_losses = []\n",
        "    if early_stopping: \n",
        "        best_valid_loss = 10. \n",
        "    print(\"Beginning training...\")\n",
        "    for e in range(num_epochs):\n",
        "        print(\"Epoch \" + str(e+1) + \":\")\n",
        "        train_losses += train_epoch(model, opt, criterion, training_dataloader)\n",
        "        valid_loss, valid_acc = eval_model(model, criterion, valid_dataloader)#valid_dataloader\n",
        "        print(\"Epoch \" + str(e+1) + \" : Validation loss = \" + str(valid_loss) + \"; Validation acc = \" + str(valid_acc))\n",
        "        if early_stopping:\n",
        "            if valid_loss < best_valid_loss:\n",
        "                best_valid_loss = valid_loss\n",
        "            else:\n",
        "                print(\"Early stopping.\")\n",
        "                break  \n",
        "    test_loss, test_acc = eval_model(model, criterion, test_dataloader)\n",
        "    print(\"Epoch \" + str(e+1) + \" : Test loss = \" + str(test_loss) + \"; Test acc = \" + str(test_acc))\n",
        "\n",
        "\n",
        "    return test_acc,len(training_word2idx)"
      ],
      "execution_count": null,
      "outputs": []
    },
    {
      "cell_type": "code",
      "metadata": {
        "id": "x2q2qmn3Xaas",
        "outputId": "f3e86f02-2581-4c7d-99bb-d1babd670933"
      },
      "source": [
        "res_acc=[]\n",
        "res_size = []\n",
        "for min_freq in [2,5,10,20,100,200] : \n",
        "    print(\"min_freq : \",min_freq)\n",
        "    acc, size = compare_vocab(min_freq)\n",
        "    res_acc.append(acc)\n",
        "    res_size.append(size)"
      ],
      "execution_count": null,
      "outputs": [
        {
          "output_type": "stream",
          "text": [
            "min_freq :  2\n",
            "Beginning training...\n",
            "Epoch 1:\n",
            "Epoch 1 : Validation loss = 0.5861328798532486; Validation acc = 68.76\n",
            "Epoch 2:\n",
            "Epoch 2 : Validation loss = 0.5774296534061432; Validation acc = 73.2\n",
            "Epoch 3:\n",
            "Epoch 3 : Validation loss = 0.7131867311894894; Validation acc = 75.24\n",
            "Early stopping.\n",
            "Epoch 3 : Test loss = 0.7120954193174839; Test acc = 75.04\n",
            "min_freq :  5\n",
            "Beginning training...\n",
            "Epoch 1:\n",
            "Epoch 1 : Validation loss = 0.586004790365696; Validation acc = 67.52\n",
            "Epoch 2:\n",
            "Epoch 2 : Validation loss = 0.5923625254631042; Validation acc = 73.16\n",
            "Early stopping.\n",
            "Epoch 2 : Test loss = 0.577078428864479; Test acc = 73.64\n",
            "min_freq :  10\n",
            "Beginning training...\n",
            "Epoch 1:\n",
            "Epoch 1 : Validation loss = 0.5836719152331352; Validation acc = 68.24\n",
            "Epoch 2:\n",
            "Epoch 2 : Validation loss = 0.5837490975856781; Validation acc = 73.56\n",
            "Early stopping.\n",
            "Epoch 2 : Test loss = 0.5886551584303379; Test acc = 73.48\n",
            "min_freq :  20\n",
            "Beginning training...\n",
            "Epoch 1:\n",
            "Epoch 1 : Validation loss = 0.6060612362623214; Validation acc = 66.08\n",
            "Epoch 2:\n",
            "Epoch 2 : Validation loss = 0.5413414771854878; Validation acc = 74.32\n",
            "Epoch 3:\n",
            "Epoch 3 : Validation loss = 0.7074145410954952; Validation acc = 74.8\n",
            "Early stopping.\n",
            "Epoch 3 : Test loss = 0.6900608678162098; Test acc = 75.8\n",
            "min_freq :  100\n",
            "Beginning training...\n",
            "Epoch 1:\n",
            "Epoch 1 : Validation loss = 0.5569763815402985; Validation acc = 70.52\n",
            "Epoch 2:\n",
            "Epoch 2 : Validation loss = 0.6122180339694023; Validation acc = 71.68\n",
            "Early stopping.\n",
            "Epoch 2 : Test loss = 0.5959828293323517; Test acc = 72.56\n",
            "min_freq :  200\n",
            "Beginning training...\n",
            "Epoch 1:\n",
            "Epoch 1 : Validation loss = 0.5758485713601112; Validation acc = 70.04\n",
            "Epoch 2:\n",
            "Epoch 2 : Validation loss = 0.554034942984581; Validation acc = 73.52\n",
            "Epoch 3:\n",
            "Epoch 3 : Validation loss = 0.6423367269337177; Validation acc = 73.56\n",
            "Early stopping.\n",
            "Epoch 3 : Test loss = 0.6358245614171029; Test acc = 74.44\n"
          ],
          "name": "stdout"
        }
      ]
    },
    {
      "cell_type": "code",
      "metadata": {
        "id": "UDfc7plnXaas",
        "outputId": "6574e13f-33e4-4d18-d3e3-1dc0d5b39ed8"
      },
      "source": [
        "plt.plot(res_size, res_acc)\n",
        "plt.xlabel('Vocabulary size')\n",
        "plt.ylabel('Test Accuracy')\n",
        "plt.title(\"The effect of the number of document on accuracy for pre-trained and fintuned CNN model\")\n",
        "plt.show()"
      ],
      "execution_count": null,
      "outputs": [
        {
          "output_type": "display_data",
          "data": {
            "image/png": "[encoded data removed]",
            "text/plain": [
              "<Figure size 432x288 with 1 Axes>"
            ]
          },
          "metadata": {
            "tags": [],
            "needs_background": "light"
          }
        }
      ]
    },
    {
      "cell_type": "markdown",
      "metadata": {
        "id": "5QaPNFYPXaas"
      },
      "source": [
        "### Pre-trained model with finetuning"
      ]
    },
    {
      "cell_type": "code",
      "metadata": {
        "id": "m_SBo2SpXaat"
      },
      "source": [
        "def compare_vocab(min_freq=2, num_epochs = 5, early_stopping = True):\n",
        "    training_dataset = TextClassificationDataset(train_f, train_c,min_freq = min_freq)\n",
        "    training_word2idx, training_idx2word = training_dataset.get_vocab()\n",
        "    valid_dataset = TextClassificationDataset(valid_f, valid_c, (training_word2idx, training_idx2word))\n",
        "    test_dataset = TextClassificationDataset(test_f, test_c, (training_word2idx, training_idx2word))\n",
        "    training_dataloader = DataLoader(training_dataset, batch_size = 200, shuffle=True)\n",
        "    valid_dataloader = DataLoader(valid_dataset, batch_size = 25)\n",
        "    test_dataloader = DataLoader(test_dataset, batch_size = 25)\n",
        "    GloveEmbeddings = get_glove_adapted_embeddings(loaded_glove_model, training_word2idx)\n",
        "    model =  CNNModel(embeddings = GloveEmbeddings)\n",
        "    opt = optim.Adam(model.parameters(), lr=0.0025, betas=(0.9, 0.999)) \n",
        "    criterion = nn.BCEWithLogitsLoss()\n",
        "\n",
        "    train_losses = []\n",
        "    if early_stopping: \n",
        "        best_valid_loss = 10. \n",
        "    print(\"Beginning training...\")\n",
        "    for e in range(num_epochs):\n",
        "        print(\"Epoch \" + str(e+1) + \":\")\n",
        "        train_losses += train_epoch(model, opt, criterion, training_dataloader)\n",
        "        valid_loss, valid_acc = eval_model(model, criterion, valid_dataloader)#valid_dataloader\n",
        "        print(\"Epoch \" + str(e+1) + \" : Validation loss = \" + str(valid_loss) + \"; Validation acc = \" + str(valid_acc))\n",
        "        if early_stopping:\n",
        "            if valid_loss < best_valid_loss:\n",
        "                best_valid_loss = valid_loss\n",
        "            else:\n",
        "                print(\"Early stopping.\")\n",
        "                break  \n",
        "    test_loss, test_acc = eval_model(model, criterion, test_dataloader)\n",
        "    print(\"Epoch \" + str(e+1) + \" : Test loss = \" + str(test_loss) + \"; Test acc = \" + str(test_acc))\n",
        "\n",
        "\n",
        "    return test_acc,len(training_word2idx)"
      ],
      "execution_count": null,
      "outputs": []
    },
    {
      "cell_type": "code",
      "metadata": {
        "id": "sE1gKUCEXaat",
        "outputId": "92b64a9f-02ab-43df-9922-8060e2bfdb54"
      },
      "source": [
        "res_acc=[]\n",
        "res_size = []\n",
        "for min_freq in [2,5,10,20,100,200] : \n",
        "    print(\"min_freq : \",min_freq)\n",
        "    acc, size = compare_vocab(min_freq)\n",
        "    res_acc.append(acc)\n",
        "    res_size.append(size)"
      ],
      "execution_count": null,
      "outputs": [
        {
          "output_type": "stream",
          "text": [
            "min_freq :  2\n",
            "Beginning training...\n",
            "Epoch 1:\n",
            "Epoch 1 : Validation loss = 0.4197290936112404; Validation acc = 80.6\n",
            "Epoch 2:\n",
            "Epoch 2 : Validation loss = 0.4248141684383154; Validation acc = 81.52\n",
            "Early stopping.\n",
            "Epoch 2 : Test loss = 0.4082941138744354; Test acc = 82.8\n",
            "min_freq :  5\n",
            "Beginning training...\n",
            "Epoch 1:\n",
            "Epoch 1 : Validation loss = 0.44078025057911874; Validation acc = 79.24\n",
            "Epoch 2:\n",
            "Epoch 2 : Validation loss = 0.4079608109593391; Validation acc = 81.36\n",
            "Epoch 3:\n",
            "Epoch 3 : Validation loss = 0.4719274215400219; Validation acc = 80.48\n",
            "Early stopping.\n",
            "Epoch 3 : Test loss = 0.46916236221790314; Test acc = 81.68\n",
            "min_freq :  10\n",
            "Beginning training...\n",
            "Epoch 1:\n",
            "Epoch 1 : Validation loss = 0.646539318561554; Validation acc = 67.68\n",
            "Epoch 2:\n",
            "Epoch 2 : Validation loss = 0.41889016404747964; Validation acc = 81.64\n",
            "Epoch 3:\n",
            "Epoch 3 : Validation loss = 0.43441498540341855; Validation acc = 80.8\n",
            "Early stopping.\n",
            "Epoch 3 : Test loss = 0.41182470962405204; Test acc = 81.64\n",
            "min_freq :  20\n",
            "Beginning training...\n",
            "Epoch 1:\n",
            "Epoch 1 : Validation loss = 0.44988791838288306; Validation acc = 78.92\n",
            "Epoch 2:\n",
            "Epoch 2 : Validation loss = 0.5117432016134262; Validation acc = 76.76\n",
            "Early stopping.\n",
            "Epoch 2 : Test loss = 0.503700350522995; Test acc = 77.56\n",
            "min_freq :  100\n",
            "Beginning training...\n",
            "Epoch 1:\n",
            "Epoch 1 : Validation loss = 0.4772933235764503; Validation acc = 77.16\n",
            "Epoch 2:\n",
            "Epoch 2 : Validation loss = 0.4360967256128788; Validation acc = 79.68\n",
            "Epoch 3:\n",
            "Epoch 3 : Validation loss = 0.45720366716384886; Validation acc = 79.6\n",
            "Early stopping.\n",
            "Epoch 3 : Test loss = 0.42529559418559076; Test acc = 81.64\n",
            "min_freq :  200\n",
            "Beginning training...\n",
            "Epoch 1:\n",
            "Epoch 1 : Validation loss = 0.4729167583584786; Validation acc = 77.16\n",
            "Epoch 2:\n",
            "Epoch 2 : Validation loss = 0.4488948926329613; Validation acc = 79.48\n",
            "Epoch 3:\n",
            "Epoch 3 : Validation loss = 0.46490565717220306; Validation acc = 77.6\n",
            "Early stopping.\n",
            "Epoch 3 : Test loss = 0.44642072707414626; Test acc = 79.76\n"
          ],
          "name": "stdout"
        }
      ]
    },
    {
      "cell_type": "code",
      "metadata": {
        "id": "hmYGJPi6Xaat",
        "outputId": "9369c710-7e09-489c-ff5e-123d59c59ca7"
      },
      "source": [
        "plt.plot(res_size, res_acc)\n",
        "plt.xlabel('Vocabulary size')\n",
        "plt.ylabel('Test Accuracy')\n",
        "plt.title(\"The effect of the number of document on accuracy for pre-trained and finetuned CNN model\")\n",
        "plt.show()"
      ],
      "execution_count": null,
      "outputs": [
        {
          "output_type": "display_data",
          "data": {
            "image/png": "[encoded data removed]",
            "text/plain": [
              "<Figure size 432x288 with 1 Axes>"
            ]
          },
          "metadata": {
            "tags": [],
            "needs_background": "light"
          }
        }
      ]
    },
    {
      "cell_type": "markdown",
      "metadata": {
        "id": "nu5JCUDDXaat"
      },
      "source": [
        "### Pre-trained model without fine-tuning"
      ]
    },
    {
      "cell_type": "code",
      "metadata": {
        "id": "o7v_Lg1_Xaat"
      },
      "source": [
        "def compare_vocab(min_freq=2, num_epochs = 5, early_stopping = True):\n",
        "    training_dataset = TextClassificationDataset(train_f, train_c,min_freq = min_freq)\n",
        "    training_word2idx, training_idx2word = training_dataset.get_vocab()\n",
        "    valid_dataset = TextClassificationDataset(valid_f, valid_c, (training_word2idx, training_idx2word))\n",
        "    test_dataset = TextClassificationDataset(test_f, test_c, (training_word2idx, training_idx2word))\n",
        "    training_dataloader = DataLoader(training_dataset, batch_size = 200, shuffle=True)\n",
        "    valid_dataloader = DataLoader(valid_dataset, batch_size = 25)\n",
        "    test_dataloader = DataLoader(test_dataset, batch_size = 25)\n",
        "    GloveEmbeddings = get_glove_adapted_embeddings(loaded_glove_model, training_word2idx)\n",
        "    model =  CNNModel(embeddings = GloveEmbeddings,no_fine_tuning = True)\n",
        "    opt = optim.Adam(model.parameters(), lr=0.0025, betas=(0.9, 0.999)) \n",
        "    criterion = nn.BCEWithLogitsLoss()\n",
        "\n",
        "    train_losses = []\n",
        "    if early_stopping: \n",
        "        best_valid_loss = 10. \n",
        "    print(\"Beginning training...\")\n",
        "    for e in range(num_epochs):\n",
        "        print(\"Epoch \" + str(e+1) + \":\")\n",
        "        train_losses += train_epoch(model, opt, criterion, training_dataloader)\n",
        "        valid_loss, valid_acc = eval_model(model, criterion, valid_dataloader)#valid_dataloader\n",
        "        print(\"Epoch \" + str(e+1) + \" : Validation loss = \" + str(valid_loss) + \"; Validation acc = \" + str(valid_acc))\n",
        "        if early_stopping:\n",
        "            if valid_loss < best_valid_loss:\n",
        "                best_valid_loss = valid_loss\n",
        "            else:\n",
        "                print(\"Early stopping.\")\n",
        "                break  \n",
        "    test_loss, test_acc = eval_model(model, criterion, test_dataloader)\n",
        "    print(\"Epoch \" + str(e+1) + \" : Test loss = \" + str(test_loss) + \"; Test acc = \" + str(test_acc))\n",
        "\n",
        "\n",
        "    return test_acc,len(training_word2idx)"
      ],
      "execution_count": null,
      "outputs": []
    },
    {
      "cell_type": "code",
      "metadata": {
        "id": "WxG63iPxXaat",
        "outputId": "77e47ad5-d1b7-4393-cc7d-e1a71964cdf4"
      },
      "source": [
        "res_acc=[]\n",
        "res_size = []\n",
        "for min_freq in [2,5,10,20,100,200] : \n",
        "    print(\"min_freq : \",min_freq)\n",
        "    acc, size = compare_vocab(min_freq)\n",
        "    res_acc.append(acc)\n",
        "    res_size.append(size)\n",
        "plt.plot(res_size, res_acc)\n",
        "plt.xlabel('Vocabulary size')\n",
        "plt.ylabel('Test Accuracy')\n",
        "plt.title(\"The effect of the number of document on accuracy for pre-trained and non finetuned CNN model\")\n",
        "plt.show()"
      ],
      "execution_count": null,
      "outputs": [
        {
          "output_type": "stream",
          "text": [
            "min_freq :  2\n",
            "Beginning training...\n",
            "Epoch 1:\n",
            "Epoch 1 : Validation loss = 0.5349540641903877; Validation acc = 72.88\n",
            "Epoch 2:\n",
            "Epoch 2 : Validation loss = 0.5416274479031563; Validation acc = 72.48\n",
            "Early stopping.\n",
            "Epoch 2 : Test loss = 0.5273475393652916; Test acc = 73.04\n",
            "min_freq :  5\n",
            "Beginning training...\n",
            "Epoch 1:\n",
            "Epoch 1 : Validation loss = 0.5150906148552895; Validation acc = 74.72\n",
            "Epoch 2:\n",
            "Epoch 2 : Validation loss = 0.5065351262688637; Validation acc = 75.08\n",
            "Epoch 3:\n",
            "Epoch 3 : Validation loss = 0.5146688565611839; Validation acc = 74.88\n",
            "Early stopping.\n",
            "Epoch 3 : Test loss = 0.5117296847701073; Test acc = 75.0\n",
            "min_freq :  10\n",
            "Beginning training...\n",
            "Epoch 1:\n",
            "Epoch 1 : Validation loss = 0.692631620168686; Validation acc = 50.72\n",
            "Epoch 2:\n",
            "Epoch 2 : Validation loss = 0.6012147554755211; Validation acc = 69.68\n",
            "Epoch 3:\n",
            "Epoch 3 : Validation loss = 0.5133926343917846; Validation acc = 74.32\n",
            "Epoch 4:\n",
            "Epoch 4 : Validation loss = 0.48913553476333615; Validation acc = 75.88\n",
            "Epoch 5:\n",
            "Epoch 5 : Validation loss = 0.495714151263237; Validation acc = 74.8\n",
            "Early stopping.\n",
            "Epoch 5 : Test loss = 0.48253795117139814; Test acc = 77.04\n",
            "min_freq :  20\n",
            "Beginning training...\n",
            "Epoch 1:\n",
            "Epoch 1 : Validation loss = 0.5128916698694229; Validation acc = 75.28\n",
            "Epoch 2:\n",
            "Epoch 2 : Validation loss = 0.48592071831226347; Validation acc = 76.44\n",
            "Epoch 3:\n",
            "Epoch 3 : Validation loss = 0.47938564240932463; Validation acc = 76.48\n",
            "Epoch 4:\n",
            "Epoch 4 : Validation loss = 0.47924815118312836; Validation acc = 76.76\n",
            "Epoch 5:\n",
            "Epoch 5 : Validation loss = 0.4966840846836567; Validation acc = 75.76\n",
            "Early stopping.\n",
            "Epoch 5 : Test loss = 0.4936436977982521; Test acc = 76.64\n",
            "min_freq :  100\n",
            "Beginning training...\n",
            "Epoch 1:\n",
            "Epoch 1 : Validation loss = 0.5420763349533081; Validation acc = 73.04\n",
            "Epoch 2:\n",
            "Epoch 2 : Validation loss = 0.5042919564247131; Validation acc = 75.08\n",
            "Epoch 3:\n",
            "Epoch 3 : Validation loss = 0.500051021873951; Validation acc = 75.04\n",
            "Epoch 4:\n",
            "Epoch 4 : Validation loss = 0.49814102590084075; Validation acc = 75.8\n",
            "Epoch 5:\n",
            "Epoch 5 : Validation loss = 0.5131316386163235; Validation acc = 74.96\n",
            "Early stopping.\n",
            "Epoch 5 : Test loss = 0.5005258014798164; Test acc = 75.36\n",
            "min_freq :  200\n",
            "Beginning training...\n",
            "Epoch 1:\n",
            "Epoch 1 : Validation loss = 0.6722192800045014; Validation acc = 57.48\n",
            "Epoch 2:\n",
            "Epoch 2 : Validation loss = 0.5245332390069961; Validation acc = 73.32\n",
            "Epoch 3:\n",
            "Epoch 3 : Validation loss = 0.5297142162919044; Validation acc = 72.92\n",
            "Early stopping.\n",
            "Epoch 3 : Test loss = 0.5186605820059776; Test acc = 73.72\n"
          ],
          "name": "stdout"
        },
        {
          "output_type": "display_data",
          "data": {
            "image/png": "[encoded data removed]",
            "text/plain": [
              "<Figure size 432x288 with 1 Axes>"
            ]
          },
          "metadata": {
            "tags": [],
            "needs_background": "light"
          }
        }
      ]
    },
    {
      "cell_type": "markdown",
      "metadata": {
        "id": "e0t3SGqIcNvv"
      },
      "source": [
        "## Comments on the impact of the vocabulary size on model's performance.\n",
        "\n",
        "We can note that for the classical embedding and non finetuned model, the accuracy increases with the size of the vocabulary, until it reaches it's maximum value, then starts decreasing. This is not the case for the fine tuned model, where it reaches it's maximum values for the maximum size of the vocabulary considered.\n",
        "For the non fine-tuned model, the performance increases faster, but keeps a values close to it's maximum if we keep increasing the size.\n",
        "In terms of performance, the best model is the fine-tuned model which achieves the best test accuracy of 82.8%.\n",
        "We have the classical embedding model which achieves approximately 75.75% for the best test accuracy.\n",
        "Finally the non fine tuned model peaks at 77% test accuracy."
      ]
    }
  ]
}