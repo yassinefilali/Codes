{
 "cells": [
  {
   "cell_type": "markdown",
   "metadata": {},
   "source": [
    "# Data completion task"
   ]
  },
  {
   "cell_type": "code",
   "execution_count": 1,
   "metadata": {},
   "outputs": [],
   "source": [
    "import pandas as pd\n",
    "import numpy as np\n",
    "import seaborn as sns\n",
    "from sklearn.ensemble import RandomForestClassifier, RandomForestRegressor\n",
    "from sklearn.model_selection import train_test_split\n",
    "from sklearn.metrics import accuracy_score, mean_squared_error, mean_absolute_error\n",
    "from sklearn.metrics import f1_score, precision_score, recall_score\n",
    "from sklearn.model_selection import cross_validate\n",
    "import warnings\n",
    "from xgboost import XGBClassifier,XGBRegressor\n",
    "from sklearn.model_selection import GridSearchCV\n",
    "import matplotlib.pyplot as plt\n",
    "warnings.simplefilter(\"ignore\")"
   ]
  },
  {
   "cell_type": "markdown",
   "metadata": {},
   "source": [
    "The dataset contains some missing values in the gender and yob columns, some rows are missing one of these two features, some are missing both. The goal is to fill the missing values in gender and yob."
   ]
  },
  {
   "cell_type": "code",
   "execution_count": 2,
   "metadata": {},
   "outputs": [
    {
     "name": "stdout",
     "output_type": "stream",
     "text": [
      "    yob        domain        firstname  zipcode gender\n",
      "0  1985   @wanadoo.fr  b08253b305fb5ec  94450.0      F\n",
      "1  1961       @sfr.fr  7ff135854376850  78580.0      M\n",
      "2  1977      @free.fr  172522ec1028ab7  62640.0    NaN\n",
      "3    -1  @hotmail.com  d3ca5dde60f88db  94100.0      M\n",
      "4    -1    @gmail.com  bdaae16837dd576  78100.0    NaN\n"
     ]
    }
   ],
   "source": [
    "initial_df=pd.read_csv(\"user_exo_2M.csv\")\n",
    "print(initial_df.head())"
   ]
  },
  {
   "cell_type": "markdown",
   "metadata": {},
   "source": [
    "The features domain, firstname and zipcode are categorical data, Their cardinality is as follows"
   ]
  },
  {
   "cell_type": "code",
   "execution_count": 3,
   "metadata": {},
   "outputs": [
    {
     "name": "stdout",
     "output_type": "stream",
     "text": [
      "number of possible categories in domain :  43\n",
      "number of possible categories in zipcodes :  2316\n",
      "number of possible categories in firstnames :  15682\n"
     ]
    }
   ],
   "source": [
    "print('number of possible categories in domain : ',len(initial_df.domain.unique()))\n",
    "print('number of possible categories in zipcodes : ',len(initial_df.zipcode.unique()))\n",
    "print('number of possible categories in firstnames : ',len(initial_df.firstname.unique()))"
   ]
  },
  {
   "cell_type": "markdown",
   "metadata": {},
   "source": [
    "We convert them to category type data"
   ]
  },
  {
   "cell_type": "code",
   "execution_count": 4,
   "metadata": {},
   "outputs": [
    {
     "name": "stdout",
     "output_type": "stream",
     "text": [
      "yob             int64\n",
      "domain       category\n",
      "firstname    category\n",
      "zipcode      category\n",
      "gender       category\n",
      "dtype: object\n"
     ]
    }
   ],
   "source": [
    "initial_df['domain']=initial_df['domain'].astype('category')\n",
    "initial_df['zipcode']=initial_df['zipcode'].astype('category')\n",
    "initial_df['firstname']=initial_df['firstname'].astype('category')\n",
    "initial_df['gender']=initial_df['gender'].astype('category')\n",
    "print(initial_df.dtypes)"
   ]
  },
  {
   "cell_type": "markdown",
   "metadata": {},
   "source": [
    "Let us check if there are missing values, other than gender values."
   ]
  },
  {
   "cell_type": "code",
   "execution_count": 5,
   "metadata": {},
   "outputs": [
    {
     "data": {
      "text/plain": [
       "yob               0\n",
       "domain            0\n",
       "firstname         0\n",
       "zipcode       17194\n",
       "gender       804954\n",
       "dtype: int64"
      ]
     },
     "execution_count": 5,
     "metadata": {},
     "output_type": "execute_result"
    }
   ],
   "source": [
    "np.sum(initial_df.isna())"
   ]
  },
  {
   "cell_type": "markdown",
   "metadata": {},
   "source": [
    "Since it is known that there are missing values on the gender feature, we will impute the zipcode variables. The imputation strategy is to take an element from existing zipcodes, with their actual distribution. We impute with a random value from the list of zipcodes, where zipcodes can be counted multiple times. With this, the chosen zipcode to fill the values follows the distribution of the known zipcodes, where the most frequent zipcode has the highest chances to be picked. "
   ]
  },
  {
   "cell_type": "code",
   "execution_count": 6,
   "metadata": {},
   "outputs": [
    {
     "name": "stdout",
     "output_type": "stream",
     "text": [
      "yob               0\n",
      "domain            0\n",
      "firstname         0\n",
      "zipcode           0\n",
      "gender       804954\n",
      "dtype: int64\n"
     ]
    }
   ],
   "source": [
    "zipcodes=list(initial_df.zipcode[initial_df.zipcode.isna()==False])\n",
    "initial_df['zipcode'].fillna(np.random.choice(zipcodes),inplace=True)\n",
    "print(np.sum(initial_df.isna()))"
   ]
  },
  {
   "cell_type": "code",
   "execution_count": 7,
   "metadata": {
    "scrolled": true
   },
   "outputs": [
    {
     "name": "stdout",
     "output_type": "stream",
     "text": [
      "    yob        domain        firstname  zipcode gender\n",
      "0  1985   @wanadoo.fr  b08253b305fb5ec  94450.0      F\n",
      "1  1961       @sfr.fr  7ff135854376850  78580.0      M\n",
      "2  1977      @free.fr  172522ec1028ab7  62640.0    NaN\n",
      "3    -1  @hotmail.com  d3ca5dde60f88db  94100.0      M\n",
      "4    -1    @gmail.com  bdaae16837dd576  78100.0    NaN\n",
      "5  1975   @wanadoo.fr  57c2877c1d84c4b  92600.0      M\n",
      "6  1974    @gmail.com  d47de916cacd0b7  65200.0      M\n",
      "7  1957      @free.fr  7ff135854376850  83250.0    NaN\n",
      "8    -1      @live.fr  a5410ee37744c57   5100.0      M\n",
      "9    -1   @wanadoo.fr  60784186ea5b29f  68300.0    NaN\n",
      "(2000000, 5)\n"
     ]
    }
   ],
   "source": [
    "print(initial_df.head(10))\n",
    "print(initial_df.shape)"
   ]
  },
  {
   "cell_type": "markdown",
   "metadata": {},
   "source": [
    "After this, we need to encode our categorical features in order to feed them to the models later. Since their cardinality is kind of high, we choose an ordinal encoding for them."
   ]
  },
  {
   "cell_type": "code",
   "execution_count": 8,
   "metadata": {},
   "outputs": [],
   "source": [
    "from sklearn.preprocessing import OrdinalEncoder\n",
    "df = initial_df\n",
    "cols=['domain','zipcode','firstname']\n",
    "for c in cols:\n",
    "        df.loc[:,c] = OrdinalEncoder().fit_transform(np.asarray(df[c]).reshape(-1,1))"
   ]
  },
  {
   "cell_type": "markdown",
   "metadata": {},
   "source": [
    "We then divide our dataset into 4 groups : data missing only yob, data missing only gender, data missing both, and data that doesn't miss any value."
   ]
  },
  {
   "cell_type": "code",
   "execution_count": 9,
   "metadata": {},
   "outputs": [],
   "source": [
    "cond1 = (df.yob==-1) & [not(x) for x in df.gender.isna()]\n",
    "cond2 = (df.yob!=-1) & (df.gender.isna())\n",
    "cond3 = [not(x) for x in (df.yob==-1) | (df.gender.isna())]\n",
    "cond4 = (df.yob==-1) & (df.gender.isna())\n",
    "missing_yob = df[cond1]\n",
    "missing_gender = df[cond2]\n",
    "complete_df = df[cond3]\n",
    "missing_both = df[cond4]"
   ]
  },
  {
   "cell_type": "code",
   "execution_count": 10,
   "metadata": {},
   "outputs": [
    {
     "name": "stdout",
     "output_type": "stream",
     "text": [
      "          yob  domain  firstname  zipcode gender\n",
      "2        1977    10.0     1393.0   1373.0    NaN\n",
      "7        1957    10.0     7717.0   1948.0    NaN\n",
      "12       1980    39.0    13318.0    626.0    NaN\n",
      "17       1965    10.0     2629.0    530.0    NaN\n",
      "22       1977    41.0     7518.0   1686.0    NaN\n",
      "...       ...     ...        ...      ...    ...\n",
      "1999977  1980    11.0      791.0   2105.0    NaN\n",
      "1999982  1958    11.0    11132.0    565.0    NaN\n",
      "1999987  1994    17.0    11047.0   1801.0    NaN\n",
      "1999992  1979    11.0    12416.0   1686.0    NaN\n",
      "1999997  1998    11.0      134.0    328.0    NaN\n",
      "\n",
      "[403281 rows x 5 columns]\n",
      "         yob  domain  firstname  zipcode gender\n",
      "3         -1    16.0    12922.0   2214.0      M\n",
      "8         -1    24.0    10046.0     73.0      M\n",
      "13        -1    10.0    13172.0    366.0      M\n",
      "18        -1    33.0     6742.0   1658.0      M\n",
      "23        -1    17.0      829.0   2096.0      M\n",
      "...      ...     ...        ...      ...    ...\n",
      "1999978   -1    33.0    10392.0   1688.0      F\n",
      "1999983   -1    33.0    13619.0   2139.0      F\n",
      "1999988   -1    11.0    11954.0   1257.0      F\n",
      "1999993   -1    11.0     2780.0   1884.0      F\n",
      "1999998   -1    16.0    13612.0    403.0      M\n",
      "\n",
      "[398327 rows x 5 columns]\n",
      "         yob  domain  firstname  zipcode gender\n",
      "4         -1    11.0    11559.0   1812.0    NaN\n",
      "9         -1    39.0     5769.0   1505.0    NaN\n",
      "14        -1    40.0      758.0   1679.0    NaN\n",
      "19        -1     7.0     2548.0   1437.0    NaN\n",
      "24        -1    39.0    10802.0   2096.0    NaN\n",
      "...      ...     ...        ...      ...    ...\n",
      "1999979   -1     4.0    14371.0   1987.0    NaN\n",
      "1999984   -1    11.0     1015.0   2245.0    NaN\n",
      "1999989   -1    36.0    13930.0   2006.0    NaN\n",
      "1999994   -1    33.0     5171.0    778.0    NaN\n",
      "1999999   -1    33.0    14772.0    105.0    NaN\n",
      "\n",
      "[401673 rows x 5 columns]\n",
      "          yob  domain  firstname  zipcode gender\n",
      "0        1985    39.0    10757.0   2244.0      F\n",
      "1        1961    36.0     7717.0   1857.0      M\n",
      "5        1975    39.0     5249.0   2172.0      M\n",
      "6        1974    11.0    12976.0   1437.0      M\n",
      "10       1961    11.0    10392.0   1484.0      M\n",
      "...       ...     ...        ...      ...    ...\n",
      "1999986  1973    10.0     7986.0    184.0      M\n",
      "1999990  1959    17.0    10722.0    348.0      F\n",
      "1999991  1998    18.0     2158.0   2108.0      F\n",
      "1999995  1994    11.0      576.0   1357.0      F\n",
      "1999996  1997    11.0     7851.0    113.0      M\n",
      "\n",
      "[796719 rows x 5 columns]\n"
     ]
    }
   ],
   "source": [
    "print(missing_gender)\n",
    "print(missing_yob)\n",
    "print(missing_both)\n",
    "print(complete_df)"
   ]
  },
  {
   "cell_type": "markdown",
   "metadata": {},
   "source": [
    "We can see their respective shapes, and verify that our decomposition is a partition of the whole dataset."
   ]
  },
  {
   "cell_type": "code",
   "execution_count": 11,
   "metadata": {},
   "outputs": [
    {
     "name": "stdout",
     "output_type": "stream",
     "text": [
      "not missing anything : 796719\n",
      "missing yob :  398327\n",
      "missing gender :  403281\n",
      "missing both :  401673\n"
     ]
    }
   ],
   "source": [
    "print('not missing anything :',complete_df.shape[0])\n",
    "print('missing yob : ',missing_yob.shape[0])\n",
    "print('missing gender : ',missing_gender.shape[0])\n",
    "print('missing both : ',missing_both.shape[0])"
   ]
  },
  {
   "cell_type": "code",
   "execution_count": 12,
   "metadata": {},
   "outputs": [
    {
     "data": {
      "text/plain": [
       "2000000"
      ]
     },
     "execution_count": 12,
     "metadata": {},
     "output_type": "execute_result"
    }
   ],
   "source": [
    "complete_df.shape[0]+missing_yob.shape[0]+missing_gender.shape[0]+missing_both.shape[0]\n"
   ]
  },
  {
   "cell_type": "markdown",
   "metadata": {},
   "source": [
    "For the non missing values data, we can see that the proportion of males and females is nearly the same (slightly higher males)."
   ]
  },
  {
   "cell_type": "code",
   "execution_count": 52,
   "metadata": {},
   "outputs": [
    {
     "data": {
      "text/plain": [
       "<seaborn.axisgrid.FacetGrid at 0x2a91610d308>"
      ]
     },
     "execution_count": 52,
     "metadata": {},
     "output_type": "execute_result"
    },
    {
     "data": {
      "image/png": "[encoded data removed]",
      "text/plain": [
       "<Figure size 360x360 with 1 Axes>"
      ]
     },
     "metadata": {
      "needs_background": "light"
     },
     "output_type": "display_data"
    }
   ],
   "source": [
    "sns.catplot(data=complete_df,x='gender',kind='count')"
   ]
  },
  {
   "cell_type": "markdown",
   "metadata": {},
   "source": [
    "The strategy we will use to predict the missing values is as follows :\n",
    "\n",
    "- Starting from dataset that does not miss anything, we will fit a model that predicts either yob or gender. Since logically, the gender is highly related to the firstname, we chose to predict the gender, using yob, domain, firstname and zipcode, let's call this model model_1.\n",
    "\n",
    "- We then use model_1 to predict the missing genders from the dataset that only misses genders. After the prediction, we concate the non missing dataset and the gender missing dataset plus the prediction. With this strategy, we get more training data.\n",
    "\n",
    "- Having a larger dataset with non missing values now, we fit a regressor to predict yob, with the same principle as in the first step. We fit a model to predict yob, let's call it model_2.\n",
    "\n",
    "- We use model_2 to predict missing yob values from the dataset that misses only yob, and we concate like usual.\n",
    "\n",
    "- Now only the data that is missing both remains, we can proceed in two ways: either start by predicting gender, using (zipcode, domain and firstname) then predict yob using all 4 features (yob, gender, firstname and domain), or we can use only the 3 non missing features to predict both.\n",
    "\n",
    "- With this, we have filled our dataset."
   ]
  },
  {
   "cell_type": "markdown",
   "metadata": {},
   "source": [
    "We first encode the gender, 1 is for male and 0 is for female."
   ]
  },
  {
   "cell_type": "code",
   "execution_count": 13,
   "metadata": {},
   "outputs": [
    {
     "name": "stdout",
     "output_type": "stream",
     "text": [
      "          yob  domain  firstname  zipcode  gender\n",
      "0        1985    39.0    10757.0   2244.0       0\n",
      "1        1961    36.0     7717.0   1857.0       1\n",
      "5        1975    39.0     5249.0   2172.0       1\n",
      "6        1974    11.0    12976.0   1437.0       1\n",
      "10       1961    11.0    10392.0   1484.0       1\n",
      "...       ...     ...        ...      ...     ...\n",
      "1999986  1973    10.0     7986.0    184.0       1\n",
      "1999990  1959    17.0    10722.0    348.0       0\n",
      "1999991  1998    18.0     2158.0   2108.0       0\n",
      "1999995  1994    11.0      576.0   1357.0       0\n",
      "1999996  1997    11.0     7851.0    113.0       1\n",
      "\n",
      "[796719 rows x 5 columns]\n",
      "         yob  domain  firstname  zipcode  gender\n",
      "3         -1    16.0    12922.0   2214.0       1\n",
      "8         -1    24.0    10046.0     73.0       1\n",
      "13        -1    10.0    13172.0    366.0       1\n",
      "18        -1    33.0     6742.0   1658.0       1\n",
      "23        -1    17.0      829.0   2096.0       1\n",
      "...      ...     ...        ...      ...     ...\n",
      "1999978   -1    33.0    10392.0   1688.0       0\n",
      "1999983   -1    33.0    13619.0   2139.0       0\n",
      "1999988   -1    11.0    11954.0   1257.0       0\n",
      "1999993   -1    11.0     2780.0   1884.0       0\n",
      "1999998   -1    16.0    13612.0    403.0       1\n",
      "\n",
      "[398327 rows x 5 columns]\n"
     ]
    }
   ],
   "source": [
    "encoding = {\"gender\":{'M' : 1, 'F':0}}\n",
    "complete_df = complete_df.replace(encoding)\n",
    "missing_yob = missing_yob.replace(encoding)\n",
    "print(complete_df)\n",
    "print(missing_yob)"
   ]
  },
  {
   "cell_type": "markdown",
   "metadata": {},
   "source": [
    "## Gender prediction\n",
    "\n",
    "We divide our dataset into training and testing sets in order to be able to evaluate the model."
   ]
  },
  {
   "cell_type": "code",
   "execution_count": 14,
   "metadata": {},
   "outputs": [],
   "source": [
    "X = complete_df.iloc[:,0:complete_df.shape[1]-1]\n",
    "y = complete_df['gender']\n",
    "\n",
    "X_train, X_test, y_train, y_test = train_test_split(X, y, test_size=0.25, random_state=42)\n"
   ]
  },
  {
   "cell_type": "code",
   "execution_count": 15,
   "metadata": {},
   "outputs": [
    {
     "name": "stdout",
     "output_type": "stream",
     "text": [
      "          yob  domain  firstname  zipcode\n",
      "459035   1980    19.0     3211.0    141.0\n",
      "194616   1979    33.0     2629.0    377.0\n",
      "381995   1956    33.0     6244.0    492.0\n",
      "1995110  1991    17.0    10929.0     77.0\n",
      "1679996  1984    40.0     3170.0   1069.0\n"
     ]
    }
   ],
   "source": [
    "print(X_test.head())"
   ]
  },
  {
   "cell_type": "markdown",
   "metadata": {},
   "source": [
    "We first try a random forest with 100 estimator, normally the parameters should be tuned, but it takes too much time to do it, so we try several values by hand (done later for xgb model)"
   ]
  },
  {
   "cell_type": "code",
   "execution_count": 16,
   "metadata": {},
   "outputs": [],
   "source": [
    "model = RandomForestClassifier(n_estimators=100,n_jobs=-1)\n",
    "res=cross_validate(model,X,y,cv=4,scoring=('precision', 'recall','f1'),return_train_score=True)"
   ]
  },
  {
   "cell_type": "markdown",
   "metadata": {},
   "source": [
    "To evaluate the model, we will take the mean of scores from a 4 folds cross validation. The metrics used are precision, recall and F1-score."
   ]
  },
  {
   "cell_type": "code",
   "execution_count": 17,
   "metadata": {},
   "outputs": [
    {
     "name": "stdout",
     "output_type": "stream",
     "text": [
      "fit_time  :  [33.75831985 31.1830802  29.528337   30.50311828]\n",
      "score_time  :  [1.9974463  2.11321497 2.17545795 1.7283783 ]\n",
      "test_precision  :  [0.88398446 0.87229736 0.85549292 0.86826746]\n",
      "train_precision  :  [0.99955215 0.999645   0.99961618 0.99976013]\n",
      "test_recall  :  [0.89925291 0.83071995 0.83540006 0.83888942]\n",
      "train_recall  :  [0.99888751 0.9991976  0.99907932 0.99931908]\n",
      "test_f1  :  [0.89155332 0.85100112 0.84532711 0.85332566]\n",
      "train_f1  :  [0.99921972 0.99942125 0.99934768 0.99953956]\n",
      "mean f1_score =  0.8603018021604915\n"
     ]
    }
   ],
   "source": [
    "for i in res:\n",
    "    print(i,' : ',res[i])\n",
    "print('mean f1_score = ',np.mean(res['test_f1']))"
   ]
  },
  {
   "cell_type": "markdown",
   "metadata": {},
   "source": [
    "We can view the variable importance in the splitting process, where it shows that the importance of yob is low for this task."
   ]
  },
  {
   "cell_type": "code",
   "execution_count": 18,
   "metadata": {},
   "outputs": [
    {
     "data": {
      "image/png": "[encoded data removed]",
      "text/plain": [
       "<Figure size 432x288 with 1 Axes>"
      ]
     },
     "metadata": {
      "needs_background": "light"
     },
     "output_type": "display_data"
    }
   ],
   "source": [
    "model.fit(X_train,y_train)\n",
    "features = X_test.columns\n",
    "importance = model.feature_importances_\n",
    "plt.barh(np.arange(importance.size), importance)\n",
    "plt.yticks(np.arange(importance.size), features)\n",
    "plt.tight_layout()"
   ]
  },
  {
   "cell_type": "markdown",
   "metadata": {},
   "source": [
    "## XGBoost classifier model\n",
    "Normally, the hyperparameters should be hypertuned for example using a grid search cross validation, however this is not done since it takes too much time, instead, parameters were manually tested and the once who give the mean F1-score through a 4 folds cross validation were picked. "
   ]
  },
  {
   "cell_type": "code",
   "execution_count": 19,
   "metadata": {},
   "outputs": [],
   "source": [
    "def hyperParameterTuning(X_train, y_train):\n",
    "    param_tuning = {\n",
    "        'learning_rate': [0.01, 0.1],\n",
    "        'max_depth': [3, 5, 7, 10],\n",
    "        'min_child_weight': [1, 3, 5],\n",
    "        'subsample': [0.5, 0.7],\n",
    "        'colsample_bytree': [0.5, 0.7],\n",
    "        'n_estimators' : [100, 200, 500, 1000],\n",
    "        'objective': ['binary:logistic']\n",
    "    }\n",
    "\n",
    "    xgb_model = XGBClassifier()\n",
    "\n",
    "    gsearch = GridSearchCV(estimator = xgb_model,\n",
    "                           param_grid = param_tuning,                        \n",
    "                           cv = 5,\n",
    "                           n_jobs = -1,\n",
    "                           verbose = 1)\n",
    "\n",
    "    gsearch.fit(X_train,y_train)\n",
    "\n",
    "    return gsearch.best_params_\n"
   ]
  },
  {
   "cell_type": "code",
   "execution_count": 20,
   "metadata": {},
   "outputs": [
    {
     "name": "stdout",
     "output_type": "stream",
     "text": [
      "[06:56:07] WARNING: C:/Users/Administrator/workspace/xgboost-win64_release_1.3.0/src/learner.cc:1061: Starting in XGBoost 1.3.0, the default evaluation metric used with the objective 'binary:logistic' was changed from 'error' to 'logloss'. Explicitly set eval_metric if you'd like to restore the old behavior.\n"
     ]
    },
    {
     "data": {
      "text/plain": [
       "XGBClassifier(base_score=0.5, booster='gbtree', colsample_bylevel=1,\n",
       "              colsample_bynode=1, colsample_bytree=0.5, gamma=0, gpu_id=-1,\n",
       "              importance_type='gain', interaction_constraints='',\n",
       "              learning_rate=0.1, max_delta_step=0, max_depth=6,\n",
       "              min_child_weight=1, missing=nan, monotone_constraints='()',\n",
       "              n_estimators=1000, n_jobs=12, num_parallel_tree=1, random_state=0,\n",
       "              reg_alpha=0, reg_lambda=1, scale_pos_weight=1, subsample=0.7,\n",
       "              tree_method='exact', validate_parameters=1, verbosity=None)"
      ]
     },
     "execution_count": 20,
     "metadata": {},
     "output_type": "execute_result"
    }
   ],
   "source": [
    "model = XGBClassifier(colsample_bytree = 0.5,\n",
    "        learning_rate = 0.1,\n",
    "        max_depth = 6,\n",
    "        min_child_weight = 1,\n",
    "        n_estimators = 1000,\n",
    "        subsample = 0.7)\n",
    "model.fit(X_train,y_train)"
   ]
  },
  {
   "cell_type": "code",
   "execution_count": 21,
   "metadata": {},
   "outputs": [
    {
     "name": "stdout",
     "output_type": "stream",
     "text": [
      "[06:58:13] WARNING: C:/Users/Administrator/workspace/xgboost-win64_release_1.3.0/src/learner.cc:1061: Starting in XGBoost 1.3.0, the default evaluation metric used with the objective 'binary:logistic' was changed from 'error' to 'logloss'. Explicitly set eval_metric if you'd like to restore the old behavior.\n",
      "[07:00:26] WARNING: C:/Users/Administrator/workspace/xgboost-win64_release_1.3.0/src/learner.cc:1061: Starting in XGBoost 1.3.0, the default evaluation metric used with the objective 'binary:logistic' was changed from 'error' to 'logloss'. Explicitly set eval_metric if you'd like to restore the old behavior.\n",
      "[07:02:45] WARNING: C:/Users/Administrator/workspace/xgboost-win64_release_1.3.0/src/learner.cc:1061: Starting in XGBoost 1.3.0, the default evaluation metric used with the objective 'binary:logistic' was changed from 'error' to 'logloss'. Explicitly set eval_metric if you'd like to restore the old behavior.\n",
      "[07:05:04] WARNING: C:/Users/Administrator/workspace/xgboost-win64_release_1.3.0/src/learner.cc:1061: Starting in XGBoost 1.3.0, the default evaluation metric used with the objective 'binary:logistic' was changed from 'error' to 'logloss'. Explicitly set eval_metric if you'd like to restore the old behavior.\n"
     ]
    }
   ],
   "source": [
    "\n",
    "\n",
    "res=cross_validate(model,X,y,cv=4,scoring=('precision', 'recall','f1'),return_train_score=True)"
   ]
  },
  {
   "cell_type": "code",
   "execution_count": 22,
   "metadata": {},
   "outputs": [
    {
     "name": "stdout",
     "output_type": "stream",
     "text": [
      "fit_time  :  [129.55933285 135.26603985 135.4487586  125.96725965]\n",
      "score_time  :  [0.85471582 0.97769284 0.82606792 0.83734584]\n",
      "test_precision  :  [0.94756968 0.94384236 0.94005914 0.92694686]\n",
      "train_precision  :  [0.94143555 0.94303793 0.94624657 0.95107852]\n",
      "test_recall  :  [0.93873656 0.87282178 0.88424394 0.87398101]\n",
      "train_recall  :  [0.88559262 0.90332212 0.89690933 0.90252323]\n",
      "test_f1  :  [0.94313244 0.90694384 0.9112977  0.89968507]\n",
      "train_f1  :  [0.91266067 0.92275288 0.92091762 0.92616492]\n",
      "mean f1_score =  0.9152647585228959\n"
     ]
    }
   ],
   "source": [
    "for i in res:\n",
    "    print(i,' : ',res[i])\n",
    "print('mean f1_score = ',np.mean(res['test_f1']))"
   ]
  },
  {
   "cell_type": "markdown",
   "metadata": {},
   "source": [
    "Since the XGboost classifier gives better scores than the random forest model, it will used for what comes next."
   ]
  },
  {
   "cell_type": "markdown",
   "metadata": {},
   "source": [
    "## Predicting missing gender values (yob not missing)\n",
    "\n",
    "We now use the previously fitted model to predict the missing gender values, in the dataset here only gender values are missing"
   ]
  },
  {
   "cell_type": "code",
   "execution_count": 23,
   "metadata": {},
   "outputs": [
    {
     "name": "stdout",
     "output_type": "stream",
     "text": [
      "[07:07:14] WARNING: C:/Users/Administrator/workspace/xgboost-win64_release_1.3.0/src/learner.cc:1061: Starting in XGBoost 1.3.0, the default evaluation metric used with the objective 'binary:logistic' was changed from 'error' to 'logloss'. Explicitly set eval_metric if you'd like to restore the old behavior.\n"
     ]
    },
    {
     "data": {
      "text/plain": [
       "XGBClassifier(base_score=0.5, booster='gbtree', colsample_bylevel=1,\n",
       "              colsample_bynode=1, colsample_bytree=0.5, gamma=0, gpu_id=-1,\n",
       "              importance_type='gain', interaction_constraints='',\n",
       "              learning_rate=0.1, max_delta_step=0, max_depth=6,\n",
       "              min_child_weight=1, missing=nan, monotone_constraints='()',\n",
       "              n_estimators=1000, n_jobs=12, num_parallel_tree=1, random_state=0,\n",
       "              reg_alpha=0, reg_lambda=1, scale_pos_weight=1, subsample=0.7,\n",
       "              tree_method='exact', validate_parameters=1, verbosity=None)"
      ]
     },
     "execution_count": 23,
     "metadata": {},
     "output_type": "execute_result"
    }
   ],
   "source": [
    "model.fit(X_train,y_train)"
   ]
  },
  {
   "cell_type": "code",
   "execution_count": 24,
   "metadata": {},
   "outputs": [
    {
     "name": "stdout",
     "output_type": "stream",
     "text": [
      "['yob', 'domain', 'firstname', 'zipcode']\n"
     ]
    }
   ],
   "source": [
    "columns = list(missing_gender.columns)\n",
    "columns.remove('gender')\n",
    "print(columns)\n",
    "X_test = missing_gender[columns]\n",
    "y_pred = model.predict(X_test)"
   ]
  },
  {
   "cell_type": "code",
   "execution_count": 25,
   "metadata": {},
   "outputs": [
    {
     "name": "stdout",
     "output_type": "stream",
     "text": [
      "          yob  domain  firstname  zipcode  gender\n",
      "2        1977    10.0     1393.0   1373.0       1\n",
      "7        1957    10.0     7717.0   1948.0       1\n",
      "12       1980    39.0    13318.0    626.0       0\n",
      "17       1965    10.0     2629.0    530.0       1\n",
      "22       1977    41.0     7518.0   1686.0       1\n",
      "...       ...     ...        ...      ...     ...\n",
      "1999977  1980    11.0      791.0   2105.0       1\n",
      "1999982  1958    11.0    11132.0    565.0       0\n",
      "1999987  1994    17.0    11047.0   1801.0       0\n",
      "1999992  1979    11.0    12416.0   1686.0       1\n",
      "1999997  1998    11.0      134.0    328.0       0\n",
      "\n",
      "[403281 rows x 5 columns]\n"
     ]
    }
   ],
   "source": [
    "missing_gender['gender']=y_pred\n",
    "print(missing_gender)"
   ]
  },
  {
   "cell_type": "markdown",
   "metadata": {},
   "source": [
    "After this, we concate the non missing data set with the newly completed dataset."
   ]
  },
  {
   "cell_type": "code",
   "execution_count": 26,
   "metadata": {},
   "outputs": [
    {
     "name": "stdout",
     "output_type": "stream",
     "text": [
      "          yob  domain  firstname  zipcode  gender\n",
      "0        1985    39.0    10757.0   2244.0       0\n",
      "1        1961    36.0     7717.0   1857.0       1\n",
      "5        1975    39.0     5249.0   2172.0       1\n",
      "6        1974    11.0    12976.0   1437.0       1\n",
      "10       1961    11.0    10392.0   1484.0       1\n",
      "...       ...     ...        ...      ...     ...\n",
      "1999977  1980    11.0      791.0   2105.0       1\n",
      "1999982  1958    11.0    11132.0    565.0       0\n",
      "1999987  1994    17.0    11047.0   1801.0       0\n",
      "1999992  1979    11.0    12416.0   1686.0       1\n",
      "1999997  1998    11.0      134.0    328.0       0\n",
      "\n",
      "[1200000 rows x 5 columns]\n",
      "(1200000, 5)\n"
     ]
    }
   ],
   "source": [
    "new_df=pd.concat([complete_df,missing_gender])\n",
    "print(new_df)\n",
    "print(new_df.shape)\n"
   ]
  },
  {
   "cell_type": "markdown",
   "metadata": {},
   "source": [
    "## Prediction of yob values\n",
    "\n",
    "We will now use the newly completed dataset to fit a regressor that predicts the yob."
   ]
  },
  {
   "cell_type": "code",
   "execution_count": 27,
   "metadata": {},
   "outputs": [
    {
     "name": "stdout",
     "output_type": "stream",
     "text": [
      "         domain  firstname  zipcode  gender\n",
      "1984975    17.0    11371.0   1602.0       0\n",
      "1540007    35.0     7357.0    677.0       1\n",
      "1831312    17.0     7851.0    632.0       0\n",
      "1799711    39.0     6897.0    564.0       0\n",
      "701340     11.0    12754.0    240.0       1\n",
      "...         ...        ...      ...     ...\n",
      "276701     17.0     6897.0   1961.0       0\n",
      "653276     11.0     5645.0    574.0       0\n",
      "331020     16.0     8183.0    553.0       1\n",
      "1685945    11.0     2509.0   1695.0       1\n",
      "306025     17.0     8489.0    504.0       0\n",
      "\n",
      "[900000 rows x 4 columns]\n"
     ]
    }
   ],
   "source": [
    "columns = list(missing_gender.columns)\n",
    "columns.remove('yob')\n",
    "X = new_df[columns]\n",
    "y = new_df.yob\n",
    "\n",
    "X_train, X_test, y_train, y_test = train_test_split(X, y, test_size=0.25, random_state=42)\n",
    "print(X_train)"
   ]
  },
  {
   "cell_type": "code",
   "execution_count": 28,
   "metadata": {},
   "outputs": [
    {
     "data": {
      "text/plain": [
       "XGBRegressor(base_score=0.5, booster='gbtree', colsample_bylevel=1,\n",
       "             colsample_bynode=1, colsample_bytree=0.5, gamma=0, gpu_id=-1,\n",
       "             importance_type='gain', interaction_constraints='',\n",
       "             learning_rate=0.1, max_delta_step=0, max_depth=6,\n",
       "             min_child_weight=1, missing=nan, monotone_constraints='()',\n",
       "             n_estimators=1000, n_jobs=12, num_parallel_tree=1, random_state=0,\n",
       "             reg_alpha=0, reg_lambda=1, scale_pos_weight=1, subsample=0.7,\n",
       "             tree_method='exact', validate_parameters=1, verbosity=None)"
      ]
     },
     "execution_count": 28,
     "metadata": {},
     "output_type": "execute_result"
    }
   ],
   "source": [
    "model = XGBRegressor(colsample_bytree = 0.5,\n",
    "        learning_rate = 0.1,\n",
    "        max_depth = 6,\n",
    "        min_child_weight = 1,\n",
    "        n_estimators = 1000,\n",
    "        subsample = 0.7)\n",
    "\n",
    "model.fit(X_train,y_train)"
   ]
  },
  {
   "cell_type": "code",
   "execution_count": 29,
   "metadata": {},
   "outputs": [],
   "source": [
    "y_pred=model.predict(X_test).astype(int)\n"
   ]
  },
  {
   "cell_type": "code",
   "execution_count": 30,
   "metadata": {},
   "outputs": [
    {
     "name": "stdout",
     "output_type": "stream",
     "text": [
      "Root mean squared error =  10.815731906194175\n",
      "Mean absolute error =  7.960876666666667\n"
     ]
    }
   ],
   "source": [
    "print('Root mean squared error = ',np.sqrt(mean_squared_error(y_pred,y_test)))\n",
    "print('Mean absolute error = ',mean_absolute_error(y_pred,y_test))    "
   ]
  },
  {
   "cell_type": "markdown",
   "metadata": {},
   "source": [
    "The Mean absolute error is quite high, but this is kind of normal, since the features used are not highly indictive of the age (therefore year of birth) of a person. Let us view it's ditribution."
   ]
  },
  {
   "cell_type": "code",
   "execution_count": 31,
   "metadata": {},
   "outputs": [
    {
     "data": {
      "text/plain": [
       "<matplotlib.axes._subplots.AxesSubplot at 0x2a90a7b0cc8>"
      ]
     },
     "execution_count": 31,
     "metadata": {},
     "output_type": "execute_result"
    },
    {
     "data": {
      "image/png": "[encoded data removed]",
      "text/plain": [
       "<Figure size 432x288 with 1 Axes>"
      ]
     },
     "metadata": {
      "needs_background": "light"
     },
     "output_type": "display_data"
    }
   ],
   "source": [
    "absolute_error=pd.DataFrame()\n",
    "absolute_error['absolute error']=list(abs(y_pred-y_test))\n",
    "sns.histplot(absolute_error,x=\"absolute error\",bins=30,kde=True)"
   ]
  },
  {
   "cell_type": "code",
   "execution_count": 32,
   "metadata": {},
   "outputs": [
    {
     "data": {
      "image/png": "[encoded data removed]",
      "text/plain": [
       "<Figure size 432x288 with 1 Axes>"
      ]
     },
     "metadata": {
      "needs_background": "light"
     },
     "output_type": "display_data"
    }
   ],
   "source": [
    "features = X_test.columns\n",
    "importance = model.feature_importances_\n",
    "plt.barh(np.arange(importance.size), importance)\n",
    "plt.yticks(np.arange(importance.size), features)\n",
    "plt.tight_layout()"
   ]
  },
  {
   "cell_type": "markdown",
   "metadata": {},
   "source": [
    "Like in the case of gender where the importance of yob is low, we can see that the importance of gender is low when it comes to prediction the value yob.\n",
    "\n",
    "Let us now predict the missing yob values, and concate all our completed dataset to get an even bigger complete dataset."
   ]
  },
  {
   "cell_type": "code",
   "execution_count": 33,
   "metadata": {},
   "outputs": [
    {
     "name": "stdout",
     "output_type": "stream",
     "text": [
      "['domain', 'firstname', 'zipcode', 'gender']\n",
      "         domain  firstname  zipcode  gender\n",
      "3          16.0    12922.0   2214.0       1\n",
      "8          24.0    10046.0     73.0       1\n",
      "13         10.0    13172.0    366.0       1\n",
      "18         33.0     6742.0   1658.0       1\n",
      "23         17.0      829.0   2096.0       1\n",
      "...         ...        ...      ...     ...\n",
      "1999978    33.0    10392.0   1688.0       0\n",
      "1999983    33.0    13619.0   2139.0       0\n",
      "1999988    11.0    11954.0   1257.0       0\n",
      "1999993    11.0     2780.0   1884.0       0\n",
      "1999998    16.0    13612.0    403.0       1\n",
      "\n",
      "[398327 rows x 4 columns]\n"
     ]
    }
   ],
   "source": [
    "columns = list(missing_yob.columns)\n",
    "columns.remove('yob')\n",
    "print(columns)\n",
    "X_test = missing_yob[columns]\n",
    "print(X_test)\n",
    "y_pred = model.predict(X_test)"
   ]
  },
  {
   "cell_type": "code",
   "execution_count": 34,
   "metadata": {},
   "outputs": [
    {
     "name": "stdout",
     "output_type": "stream",
     "text": [
      "          yob  domain  firstname  zipcode  gender\n",
      "3        1976    16.0    12922.0   2214.0       1\n",
      "8        1977    24.0    10046.0     73.0       1\n",
      "13       1954    10.0    13172.0    366.0       1\n",
      "18       1968    33.0     6742.0   1658.0       1\n",
      "23       1983    17.0      829.0   2096.0       1\n",
      "...       ...     ...        ...      ...     ...\n",
      "1999978  1957    33.0    10392.0   1688.0       0\n",
      "1999983  1981    33.0    13619.0   2139.0       0\n",
      "1999988  1990    11.0    11954.0   1257.0       0\n",
      "1999993  1978    11.0     2780.0   1884.0       0\n",
      "1999998  1982    16.0    13612.0    403.0       1\n",
      "\n",
      "[398327 rows x 5 columns]\n"
     ]
    }
   ],
   "source": [
    "missing_yob['yob']=y_pred.astype(int)\n",
    "print(missing_yob)"
   ]
  },
  {
   "cell_type": "code",
   "execution_count": 35,
   "metadata": {},
   "outputs": [
    {
     "name": "stdout",
     "output_type": "stream",
     "text": [
      "          yob  domain  firstname  zipcode  gender\n",
      "0        1985    39.0    10757.0   2244.0       0\n",
      "1        1961    36.0     7717.0   1857.0       1\n",
      "5        1975    39.0     5249.0   2172.0       1\n",
      "6        1974    11.0    12976.0   1437.0       1\n",
      "10       1961    11.0    10392.0   1484.0       1\n",
      "...       ...     ...        ...      ...     ...\n",
      "1999978  1957    33.0    10392.0   1688.0       0\n",
      "1999983  1981    33.0    13619.0   2139.0       0\n",
      "1999988  1990    11.0    11954.0   1257.0       0\n",
      "1999993  1978    11.0     2780.0   1884.0       0\n",
      "1999998  1982    16.0    13612.0    403.0       1\n",
      "\n",
      "[1598327 rows x 5 columns]\n",
      "2000000\n"
     ]
    }
   ],
   "source": [
    "new_df=pd.concat([new_df,missing_yob])\n",
    "print(new_df)\n",
    "print(new_df.shape[0]+missing_both.shape[0])"
   ]
  },
  {
   "cell_type": "markdown",
   "metadata": {},
   "source": [
    "## Predicting on data missing both yob and gender\n",
    "\n",
    "Since we saw that the respective importance of one missing feature is low when it comes to predict the other features, we will fit two models, one to predict yob, the other to predict the gender, using only the 3 non missing features (therefore not using yob or gender)"
   ]
  },
  {
   "cell_type": "code",
   "execution_count": 36,
   "metadata": {},
   "outputs": [
    {
     "name": "stdout",
     "output_type": "stream",
     "text": [
      "['domain', 'firstname', 'zipcode']\n"
     ]
    }
   ],
   "source": [
    "cols=list(new_df.columns)\n",
    "for e in ['gender','yob']:\n",
    "    cols.remove(e)\n",
    "print(cols)\n",
    "X=new_df[cols]\n",
    "targets=[list(new_df['gender']),list(new_df['yob'])]\n",
    "y=[i for i in range(X.shape[0])]\n",
    "X_train, X_test, y_train, y_test = train_test_split(X, y, test_size=0.25, random_state=42)"
   ]
  },
  {
   "cell_type": "code",
   "execution_count": 37,
   "metadata": {},
   "outputs": [
    {
     "name": "stdout",
     "output_type": "stream",
     "text": [
      "399582     1198745\n"
     ]
    }
   ],
   "source": [
    "y_gender_train = [targets[0][i] for i in y_train]\n",
    "y_gender_test = [targets[0][i] for i in y_test]\n",
    "y_yob_train = [targets[1][i] for i in y_train]\n",
    "y_yob_test = [targets[1][i] for i in y_test]\n",
    "print(len(y_yob_test),'   ',len(y_yob_train))"
   ]
  },
  {
   "cell_type": "markdown",
   "metadata": {},
   "source": [
    "We first start by predicting the values of yob."
   ]
  },
  {
   "cell_type": "code",
   "execution_count": 38,
   "metadata": {},
   "outputs": [],
   "source": [
    "model_yob = XGBRegressor(colsample_bytree = 0.5,\n",
    "        learning_rate = 0.1,\n",
    "        max_depth = 6,\n",
    "        min_child_weight = 1,\n",
    "        n_estimators = 1000,\n",
    "        subsample = 0.7)\n",
    "model_gender = XGBClassifier(colsample_bytree = 0.5,\n",
    "        learning_rate = 0.1,\n",
    "        max_depth = 6,\n",
    "        min_child_weight = 1,\n",
    "        n_estimators = 1000,\n",
    "        subsample = 0.7)"
   ]
  },
  {
   "cell_type": "code",
   "execution_count": 39,
   "metadata": {},
   "outputs": [
    {
     "data": {
      "text/plain": [
       "XGBRegressor(base_score=0.5, booster='gbtree', colsample_bylevel=1,\n",
       "             colsample_bynode=1, colsample_bytree=0.5, gamma=0, gpu_id=-1,\n",
       "             importance_type='gain', interaction_constraints='',\n",
       "             learning_rate=0.1, max_delta_step=0, max_depth=6,\n",
       "             min_child_weight=1, missing=nan, monotone_constraints='()',\n",
       "             n_estimators=1000, n_jobs=12, num_parallel_tree=1, random_state=0,\n",
       "             reg_alpha=0, reg_lambda=1, scale_pos_weight=1, subsample=0.7,\n",
       "             tree_method='exact', validate_parameters=1, verbosity=None)"
      ]
     },
     "execution_count": 39,
     "metadata": {},
     "output_type": "execute_result"
    }
   ],
   "source": [
    "model_yob.fit(X_train,y_yob_train)"
   ]
  },
  {
   "cell_type": "code",
   "execution_count": 40,
   "metadata": {},
   "outputs": [
    {
     "name": "stdout",
     "output_type": "stream",
     "text": [
      "Mean absolute error =  6.372346075525877\n",
      "Root mean squared error =  9.54102104955198\n"
     ]
    }
   ],
   "source": [
    "y_pred = model_yob.predict(X_test)\n",
    "print('Mean absolute error = ',mean_absolute_error(y_pred,y_yob_test))\n",
    "print('Root mean squared error = ',np.sqrt(mean_squared_error(y_pred,y_yob_test)))"
   ]
  },
  {
   "cell_type": "markdown",
   "metadata": {},
   "source": [
    "We now inject the predicted values of yob."
   ]
  },
  {
   "cell_type": "code",
   "execution_count": 41,
   "metadata": {},
   "outputs": [
    {
     "name": "stdout",
     "output_type": "stream",
     "text": [
      "          yob  domain  firstname  zipcode gender\n",
      "4        1982    11.0    11559.0   1812.0    NaN\n",
      "9        1967    39.0     5769.0   1505.0    NaN\n",
      "14       1975    40.0      758.0   1679.0    NaN\n",
      "19       1967     7.0     2548.0   1437.0    NaN\n",
      "24       1970    39.0    10802.0   2096.0    NaN\n",
      "...       ...     ...        ...      ...    ...\n",
      "1999979  1960     4.0    14371.0   1987.0    NaN\n",
      "1999984  1981    11.0     1015.0   2245.0    NaN\n",
      "1999989  1980    36.0    13930.0   2006.0    NaN\n",
      "1999994  1979    33.0     5171.0    778.0    NaN\n",
      "1999999  1960    33.0    14772.0    105.0    NaN\n",
      "\n",
      "[401673 rows x 5 columns]\n"
     ]
    }
   ],
   "source": [
    "X_s = missing_both[cols]\n",
    "fill_yob = model_yob.predict(X_s)\n",
    "missing_both['yob']=fill_yob.astype(int)\n",
    "print(missing_both)"
   ]
  },
  {
   "cell_type": "markdown",
   "metadata": {},
   "source": [
    "And we do the same thing with the gender."
   ]
  },
  {
   "cell_type": "code",
   "execution_count": 42,
   "metadata": {},
   "outputs": [
    {
     "name": "stdout",
     "output_type": "stream",
     "text": [
      "[07:17:08] WARNING: C:/Users/Administrator/workspace/xgboost-win64_release_1.3.0/src/learner.cc:1061: Starting in XGBoost 1.3.0, the default evaluation metric used with the objective 'binary:logistic' was changed from 'error' to 'logloss'. Explicitly set eval_metric if you'd like to restore the old behavior.\n"
     ]
    },
    {
     "data": {
      "text/plain": [
       "XGBClassifier(base_score=0.5, booster='gbtree', colsample_bylevel=1,\n",
       "              colsample_bynode=1, colsample_bytree=0.5, gamma=0, gpu_id=-1,\n",
       "              importance_type='gain', interaction_constraints='',\n",
       "              learning_rate=0.1, max_delta_step=0, max_depth=6,\n",
       "              min_child_weight=1, missing=nan, monotone_constraints='()',\n",
       "              n_estimators=1000, n_jobs=12, num_parallel_tree=1, random_state=0,\n",
       "              reg_alpha=0, reg_lambda=1, scale_pos_weight=1, subsample=0.7,\n",
       "              tree_method='exact', validate_parameters=1, verbosity=None)"
      ]
     },
     "execution_count": 42,
     "metadata": {},
     "output_type": "execute_result"
    }
   ],
   "source": [
    "model_gender.fit(X_train,y_gender_train)"
   ]
  },
  {
   "cell_type": "code",
   "execution_count": 43,
   "metadata": {},
   "outputs": [
    {
     "name": "stdout",
     "output_type": "stream",
     "text": [
      "Precision =  0.9090952964682489\n",
      "Recall =  0.9438084024350527\n",
      "F1 score =  0.9261266842186774\n"
     ]
    }
   ],
   "source": [
    "y_pred = model_gender.predict(X_test)\n",
    "print('Precision = ',precision_score(y_pred,y_gender_test))\n",
    "print('Recall = ',recall_score(y_pred,y_gender_test))\n",
    "print('F1 score = ',f1_score(y_pred,y_gender_test))"
   ]
  },
  {
   "cell_type": "code",
   "execution_count": 44,
   "metadata": {},
   "outputs": [
    {
     "name": "stdout",
     "output_type": "stream",
     "text": [
      "          yob  domain  firstname  zipcode  gender\n",
      "4        1982    11.0    11559.0   1812.0       1\n",
      "9        1967    39.0     5769.0   1505.0       1\n",
      "14       1975    40.0      758.0   1679.0       1\n",
      "19       1967     7.0     2548.0   1437.0       0\n",
      "24       1970    39.0    10802.0   2096.0       1\n",
      "...       ...     ...        ...      ...     ...\n",
      "1999979  1960     4.0    14371.0   1987.0       1\n",
      "1999984  1981    11.0     1015.0   2245.0       0\n",
      "1999989  1980    36.0    13930.0   2006.0       1\n",
      "1999994  1979    33.0     5171.0    778.0       1\n",
      "1999999  1960    33.0    14772.0    105.0       0\n",
      "\n",
      "[401673 rows x 5 columns]\n"
     ]
    }
   ],
   "source": [
    "X_s = missing_both[cols]\n",
    "fill_gender = model_gender.predict(X_s)\n",
    "missing_both['gender']=fill_gender.astype(int)\n",
    "print(missing_both)"
   ]
  },
  {
   "cell_type": "markdown",
   "metadata": {},
   "source": [
    "As we have completed all the values, we transform the resulting dataframe into it's original format, without the encodings."
   ]
  },
  {
   "cell_type": "code",
   "execution_count": 45,
   "metadata": {},
   "outputs": [
    {
     "name": "stdout",
     "output_type": "stream",
     "text": [
      "yob            int64\n",
      "domain       float64\n",
      "firstname    float64\n",
      "zipcode      float64\n",
      "gender         int64\n",
      "dtype: object\n"
     ]
    }
   ],
   "source": [
    "filled_df = pd.concat([new_df,missing_both])\n",
    "print(filled_df.dtypes)\n",
    "reverse_encoding = {'gender': {1: 'M', 0: 'F'}}\n",
    "filled_df = filled_df.replace(reverse_encoding)\n"
   ]
  },
  {
   "cell_type": "code",
   "execution_count": 46,
   "metadata": {},
   "outputs": [
    {
     "name": "stdout",
     "output_type": "stream",
     "text": [
      "          yob        domain        firstname  zipcode gender\n",
      "0        1985   @wanadoo.fr  b08253b305fb5ec  94450.0      F\n",
      "1        1961       @sfr.fr  7ff135854376850  78580.0      M\n",
      "2        1977      @free.fr  172522ec1028ab7  62640.0      M\n",
      "3        1976  @hotmail.com  d3ca5dde60f88db  94100.0      M\n",
      "4        1982    @gmail.com  bdaae16837dd576  78100.0      M\n",
      "...       ...           ...              ...      ...    ...\n",
      "1999995  1994    @gmail.com  09f96867a8dc816  62400.0      F\n",
      "1999996  1997    @gmail.com  823fec7a2632ea7   7200.0      M\n",
      "1999997  1998    @gmail.com  029f0f59eba0903  21000.0      F\n",
      "1999998  1982  @hotmail.com  deb97a759ee7b8b  26240.0      M\n",
      "1999999  1960    @orange.fr  f11d689dda42279   6670.0      F\n",
      "\n",
      "[2000000 rows x 5 columns]\n"
     ]
    }
   ],
   "source": [
    "df=pd.read_csv(\"user_exo_2M.csv\")\n",
    "final_df = pd.concat([filled_df['yob'],df[cols],filled_df['gender']],axis=1)\n",
    "print(final_df.sort_index())"
   ]
  },
  {
   "cell_type": "markdown",
   "metadata": {},
   "source": [
    "The final result is stored in a csv file."
   ]
  },
  {
   "cell_type": "code",
   "execution_count": 48,
   "metadata": {},
   "outputs": [],
   "source": [
    "final_df.sort_index().to_csv('filled_data.csv',index=False)"
   ]
  }
 ],
 "metadata": {
  "kernelspec": {
   "display_name": "Python 3",
   "language": "python",
   "name": "python3"
  },
  "language_info": {
   "codemirror_mode": {
    "name": "ipython",
    "version": 3
   },
   "file_extension": ".py",
   "mimetype": "text/x-python",
   "name": "python",
   "nbconvert_exporter": "python",
   "pygments_lexer": "ipython3",
   "version": "3.7.6"
  }
 },
 "nbformat": 4,
 "nbformat_minor": 4
}
