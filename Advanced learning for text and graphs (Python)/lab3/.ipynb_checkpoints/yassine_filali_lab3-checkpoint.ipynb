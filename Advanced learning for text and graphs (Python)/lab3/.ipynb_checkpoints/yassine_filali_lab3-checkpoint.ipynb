{
 "cells": [
  {
   "cell_type": "markdown",
   "metadata": {
    "id": "DlAfI8mCWAf3"
   },
   "source": [
    "# Transfer learning for NLP\n",
    "## ALTEGRAD - Lab session 3\n",
    "#### Moussa Kamal Eddine, Hadi Abdine (Dascim LIX)\n",
    "##### November 2020"
   ]
  },
  {
   "cell_type": "code",
   "execution_count": 8,
   "metadata": {
    "id": "IqukuIe0Rb_c"
   },
   "outputs": [],
   "source": [
    "import math\n",
    "\n",
    "import torch\n",
    "import torch.nn as nn\n",
    "from torch.nn.utils.rnn import pad_sequence\n",
    "\n",
    "device = torch.device(\"cuda\" if torch.cuda.is_available() else \"cpu\")"
   ]
  },
  {
   "cell_type": "markdown",
   "metadata": {
    "id": "5FF6fjkqgN39"
   },
   "source": [
    "### The Model"
   ]
  },
  {
   "cell_type": "code",
   "execution_count": 9,
   "metadata": {
    "id": "p0cj9WkSFQwl"
   },
   "outputs": [],
   "source": [
    "class TransformerModel(nn.Module):\n",
    "    def __init__(self, ntoken, nhead, nhid, nlayers, dropout=0.5):\n",
    "        super(TransformerModel, self).__init__()\n",
    "        '''\n",
    "        ntokens: the size of vocabulary\n",
    "        nhid: the hidden dimension of the model.\n",
    "        We assume that embedding_dim = nhid\n",
    "        nlayers: the number of nn.TransformerEncoderLayer in nn.TransformerEncoder\n",
    "        nhead: the number of heads in the multiheadattention models\n",
    "        dropout: the dropout value\n",
    "         '''\n",
    "        self.model_type = \"Transformer\"\n",
    "        self.encoder = nn.Embedding(ntokens,nhid) # fill me, nhid = the dim_embed\n",
    "        self.pos_encoder = PositionalEncoding(nhid,dropout) #fill me, the PositionalEncoding class is implemented in the next cell\n",
    "        encoder_layers = nn.TransformerEncoderLayer(nhid,nhead,nhid,dropout) #fill me we assume nhid = d_model = dim_feedforward\n",
    "        self.transformer_encoder = nn.TransformerEncoder(encoder_layers,nlayers) #fill me\n",
    "        self.nhid = nhid\n",
    "        self.init_weights()\n",
    "\n",
    "    def generate_square_subsequent_mask(self, sz):\n",
    "        mask = (torch.triu(torch.ones(sz, sz)) == 1).transpose(0, 1)\n",
    "        mask = (\n",
    "            mask.float()\n",
    "            .masked_fill(mask == 0, float(\"-inf\"))\n",
    "            .masked_fill(mask == 1, float(0.0))\n",
    "        )\n",
    "        return mask\n",
    "\n",
    "    def init_weights(self):\n",
    "        initrange = 0.1\n",
    "        self.encoder.weight.data.uniform_(-initrange, initrange)\n",
    "\n",
    "    def forward(self, src, src_mask):\n",
    "        src = self.encoder(src) * math.sqrt(self.nhid) \n",
    "        src = self.pos_encoder(src) #fill me\n",
    "        output = self.transformer_encoder(src, src_mask)\n",
    "        return output\n",
    "\n",
    "\n",
    "class ClassificationHead(nn.Module):\n",
    "    def __init__(self, nhid, nclasses):\n",
    "        super(ClassificationHead, self).__init__()\n",
    "        self.decoder = nn.Linear(nhid,nclasses)\n",
    "        self.init_weights()\n",
    "\n",
    "    def init_weights(self):\n",
    "        initrange = 0.1\n",
    "        self.decoder.bias.data.zero_()\n",
    "        self.decoder.weight.data.uniform_(-initrange, initrange)\n",
    "\n",
    "    def forward(self, src):\n",
    "        output = self.decoder(src)\n",
    "        return output\n",
    "    \n",
    "class Model(nn.Module):\n",
    "    def __init__(self, ntoken, nhead, nhid, nlayers, nclasses, dropout=0.5):\n",
    "        super(Model, self).__init__()\n",
    "        self.base = TransformerModel(ntoken, nhead, nhid, nlayers, dropout)#fill me\n",
    "        self.classifier = ClassificationHead(nhid, nclasses)#fill me \n",
    "\n",
    "    def forward(self, src, src_mask):\n",
    "        # base model\n",
    "        x = self.base.forward(src,src_mask) #fill me\n",
    "        # classifier model\n",
    "        output = self.classifier.forward(x) #fill me\n",
    "        return output"
   ]
  },
  {
   "cell_type": "code",
   "execution_count": 10,
   "metadata": {
    "id": "kt2QQohaFZry"
   },
   "outputs": [],
   "source": [
    "class PositionalEncoding(nn.Module):\n",
    "    def __init__(self, nhid, dropout=0.1, max_len=5000):\n",
    "        super(PositionalEncoding, self).__init__()\n",
    "        self.dropout = nn.Dropout(p=dropout)\n",
    "\n",
    "        pe = torch.zeros(max_len, nhid)\n",
    "        position = torch.arange(0, max_len, dtype=torch.float).unsqueeze(1)\n",
    "        div_term = torch.exp(\n",
    "            torch.arange(0, nhid, 2).float() * (-math.log(10000.0) / nhid)\n",
    "        )\n",
    "        pe[:, 0::2] = torch.sin(position * div_term)\n",
    "        pe[:, 1::2] = torch.cos(position * div_term)\n",
    "        pe = pe.unsqueeze(0).transpose(0, 1)\n",
    "        self.register_buffer(\"pe\", pe)\n",
    "\n",
    "    def forward(self, x):\n",
    "        x = x + self.pe[: x.size(0), :]\n",
    "        return self.dropout(x)"
   ]
  },
  {
   "cell_type": "code",
   "execution_count": 10,
   "metadata": {
    "id": "pYr1yMnd7mTZ"
   },
   "outputs": [],
   "source": []
  },
  {
   "cell_type": "markdown",
   "metadata": {
    "id": "SfEYHJx2JW6l"
   },
   "source": [
    "Let's verify if our model works, by applying one inference step"
   ]
  },
  {
   "cell_type": "code",
   "execution_count": 11,
   "metadata": {
    "colab": {
     "base_uri": "https://localhost:8080/"
    },
    "id": "rhb2gkUhJMR0",
    "outputId": "7991537b-b393-4a11-f264-4eb307a1488f"
   },
   "outputs": [
    {
     "name": "stdout",
     "output_type": "stream",
     "text": [
      "torch.Size([1, 6, 100])\n"
     ]
    }
   ],
   "source": [
    "ntokens = 100 #fill me # the size of vocabulary\n",
    "nhid = 200  # hidden dimension\n",
    "nlayers = 4  # the number of nn.TransformerEncoderLayer in nn.TransformerEncoder\n",
    "nhead = 2  # the number of heads in the multiheadattention models\n",
    "dropout = 0  # the dropout value\n",
    "\n",
    "model = Model(ntokens, nhead, nhid, nlayers, ntokens, dropout).to(device)\n",
    "dummy_input = torch.tensor([[2, 6, 2, 5, 43, 21]]).to(device)\n",
    "src_mask = model.base.generate_square_subsequent_mask(1).to(device)\n",
    "out = model.forward(dummy_input, src_mask)\n",
    "\n",
    "print(out.shape) # is it the right shape?"
   ]
  },
  {
   "cell_type": "code",
   "execution_count": 12,
   "metadata": {
    "colab": {
     "base_uri": "https://localhost:8080/"
    },
    "id": "5ur73Lfz99Ii",
    "outputId": "00eadfa3-4eb9-41b5-f18e-323236f58012"
   },
   "outputs": [
    {
     "name": "stdout",
     "output_type": "stream",
     "text": [
      "base.encoder.weight : torch.Size([100, 200])\n",
      "base.transformer_encoder.layers.0.self_attn.in_proj_weight : torch.Size([600, 200])\n",
      "base.transformer_encoder.layers.0.self_attn.in_proj_bias : torch.Size([600])\n",
      "base.transformer_encoder.layers.0.self_attn.out_proj.weight : torch.Size([200, 200])\n",
      "base.transformer_encoder.layers.0.self_attn.out_proj.bias : torch.Size([200])\n",
      "base.transformer_encoder.layers.0.linear1.weight : torch.Size([200, 200])\n",
      "base.transformer_encoder.layers.0.linear1.bias : torch.Size([200])\n",
      "base.transformer_encoder.layers.0.linear2.weight : torch.Size([200, 200])\n",
      "base.transformer_encoder.layers.0.linear2.bias : torch.Size([200])\n",
      "base.transformer_encoder.layers.0.norm1.weight : torch.Size([200])\n",
      "base.transformer_encoder.layers.0.norm1.bias : torch.Size([200])\n",
      "base.transformer_encoder.layers.0.norm2.weight : torch.Size([200])\n",
      "base.transformer_encoder.layers.0.norm2.bias : torch.Size([200])\n",
      "base.transformer_encoder.layers.1.self_attn.in_proj_weight : torch.Size([600, 200])\n",
      "base.transformer_encoder.layers.1.self_attn.in_proj_bias : torch.Size([600])\n",
      "base.transformer_encoder.layers.1.self_attn.out_proj.weight : torch.Size([200, 200])\n",
      "base.transformer_encoder.layers.1.self_attn.out_proj.bias : torch.Size([200])\n",
      "base.transformer_encoder.layers.1.linear1.weight : torch.Size([200, 200])\n",
      "base.transformer_encoder.layers.1.linear1.bias : torch.Size([200])\n",
      "base.transformer_encoder.layers.1.linear2.weight : torch.Size([200, 200])\n",
      "base.transformer_encoder.layers.1.linear2.bias : torch.Size([200])\n",
      "base.transformer_encoder.layers.1.norm1.weight : torch.Size([200])\n",
      "base.transformer_encoder.layers.1.norm1.bias : torch.Size([200])\n",
      "base.transformer_encoder.layers.1.norm2.weight : torch.Size([200])\n",
      "base.transformer_encoder.layers.1.norm2.bias : torch.Size([200])\n",
      "base.transformer_encoder.layers.2.self_attn.in_proj_weight : torch.Size([600, 200])\n",
      "base.transformer_encoder.layers.2.self_attn.in_proj_bias : torch.Size([600])\n",
      "base.transformer_encoder.layers.2.self_attn.out_proj.weight : torch.Size([200, 200])\n",
      "base.transformer_encoder.layers.2.self_attn.out_proj.bias : torch.Size([200])\n",
      "base.transformer_encoder.layers.2.linear1.weight : torch.Size([200, 200])\n",
      "base.transformer_encoder.layers.2.linear1.bias : torch.Size([200])\n",
      "base.transformer_encoder.layers.2.linear2.weight : torch.Size([200, 200])\n",
      "base.transformer_encoder.layers.2.linear2.bias : torch.Size([200])\n",
      "base.transformer_encoder.layers.2.norm1.weight : torch.Size([200])\n",
      "base.transformer_encoder.layers.2.norm1.bias : torch.Size([200])\n",
      "base.transformer_encoder.layers.2.norm2.weight : torch.Size([200])\n",
      "base.transformer_encoder.layers.2.norm2.bias : torch.Size([200])\n",
      "base.transformer_encoder.layers.3.self_attn.in_proj_weight : torch.Size([600, 200])\n",
      "base.transformer_encoder.layers.3.self_attn.in_proj_bias : torch.Size([600])\n",
      "base.transformer_encoder.layers.3.self_attn.out_proj.weight : torch.Size([200, 200])\n",
      "base.transformer_encoder.layers.3.self_attn.out_proj.bias : torch.Size([200])\n",
      "base.transformer_encoder.layers.3.linear1.weight : torch.Size([200, 200])\n",
      "base.transformer_encoder.layers.3.linear1.bias : torch.Size([200])\n",
      "base.transformer_encoder.layers.3.linear2.weight : torch.Size([200, 200])\n",
      "base.transformer_encoder.layers.3.linear2.bias : torch.Size([200])\n",
      "base.transformer_encoder.layers.3.norm1.weight : torch.Size([200])\n",
      "base.transformer_encoder.layers.3.norm1.bias : torch.Size([200])\n",
      "base.transformer_encoder.layers.3.norm2.weight : torch.Size([200])\n",
      "base.transformer_encoder.layers.3.norm2.bias : torch.Size([200])\n",
      "classifier.decoder.weight : torch.Size([100, 200])\n",
      "classifier.decoder.bias : torch.Size([100])\n"
     ]
    }
   ],
   "source": [
    "for name, parameters in model.named_parameters():\n",
    "  print(name,\":\", parameters.size()) "
   ]
  },
  {
   "cell_type": "markdown",
   "metadata": {
    "id": "i74NN897Fcit"
   },
   "source": [
    "## Vocabulary and Tokenization"
   ]
  },
  {
   "cell_type": "code",
   "execution_count": 13,
   "metadata": {
    "colab": {
     "base_uri": "https://localhost:8080/"
    },
    "id": "5qjd26ghWuff",
    "outputId": "336c3c12-db91-44a4-f447-df91995a2112"
   },
   "outputs": [
    {
     "name": "stdout",
     "output_type": "stream",
     "text": [
      "--2020-12-08 19:21:24--  https://raw.githubusercontent.com/moussaKam/transfer_learning_transformers/main/dict.txt\n",
      "Resolving raw.githubusercontent.com (raw.githubusercontent.com)... 151.101.0.133, 151.101.64.133, 151.101.128.133, ...\n",
      "Connecting to raw.githubusercontent.com (raw.githubusercontent.com)|151.101.0.133|:443... connected.\n",
      "HTTP request sent, awaiting response... 200 OK\n",
      "Length: 577587 (564K) [text/plain]\n",
      "Saving to: ‘dict.txt’\n",
      "\n",
      "dict.txt            100%[===================>] 564.05K  --.-KB/s    in 0.03s   \n",
      "\n",
      "2020-12-08 19:21:24 (18.6 MB/s) - ‘dict.txt’ saved [577587/577587]\n",
      "\n",
      "▁d 1\n",
      "es 1\n",
      "▁l 1\n",
      "en 1\n",
      "on 1\n"
     ]
    }
   ],
   "source": [
    "!wget https://raw.githubusercontent.com/moussaKam/transfer_learning_transformers/main/dict.txt\n",
    "!head -5 dict.txt\n"
   ]
  },
  {
   "cell_type": "code",
   "execution_count": 14,
   "metadata": {
    "colab": {
     "base_uri": "https://localhost:8080/"
    },
    "id": "vFdH_-JeFbGA",
    "outputId": "0efe3fc6-327f-4301-bc4c-2202c5ef89fa"
   },
   "outputs": [
    {
     "name": "stdout",
     "output_type": "stream",
     "text": [
      "▁trop\n",
      "1111\n"
     ]
    }
   ],
   "source": [
    "\n",
    "path_vocab = \"dict.txt\"\n",
    "token2ind = {\"<sos>\": 0, \"<pad>\": 1, \"<eos>\": 2, \"<oov>\": 3} # the 4 first indices are reserved to special tokens\n",
    "with open(path_vocab, \"r\") as f:\n",
    "    for idx, line in enumerate(f):\n",
    "        word = line.split()[0].strip()\n",
    "        token2ind[word] = idx + 4  #fill me\n",
    "\n",
    "\n",
    "ind2token = list(token2ind.keys()) #fill me\n",
    "\n",
    "\n",
    "print(ind2token[1111])\n",
    "print(token2ind[\"▁trop\"])"
   ]
  },
  {
   "cell_type": "markdown",
   "metadata": {
    "id": "XOExGODajN8p"
   },
   "source": [
    "### Data Loader\n"
   ]
  },
  {
   "cell_type": "code",
   "execution_count": 15,
   "metadata": {
    "id": "Y0jN-Ar9i5Q1"
   },
   "outputs": [],
   "source": [
    "import numpy\n",
    "import torch\n",
    "from torch.nn.utils.rnn import pad_sequence\n",
    "from torch.utils.data import DataLoader, Dataset\n",
    "\n",
    "\n",
    "class Dataset(Dataset):\n",
    "    def __init__(\n",
    "        self,\n",
    "        path_documents,\n",
    "        path_labels=None,\n",
    "        token2ind={},\n",
    "        max_len=512,\n",
    "        task=\"language_modeling\",\n",
    "    ):\n",
    "        self.task = task\n",
    "        self.max_len = max_len\n",
    "        self.token2ind = token2ind\n",
    "        self.documents = []\n",
    "        self.labels = []\n",
    "        with open(path_documents, \"r\") as f1:\n",
    "            for line in f1:\n",
    "                self.documents.append(line.strip())\n",
    "        if task == \"classification\":\n",
    "            with open(path_labels, \"r\") as f1:\n",
    "                for line in f1:\n",
    "                    self.labels.append(int(line.strip()))\n",
    "            assert len(self.labels) == len(self.documents)\n",
    "\n",
    "    def __len__(self):\n",
    "        return len(self.documents)\n",
    "\n",
    "    def __getitem__(self, index):\n",
    "        sequence = self.documents[index].split()\n",
    "        if len(sequence) > self.max_len - 1:\n",
    "            sequence = sequence[: self.max_len - 1]\n",
    "        source_sequence = [self.token2ind[\"<sos>\"]] + [\n",
    "            self.token2ind[word] if word in self.token2ind else self.token2ind[\"<oov>\"]\n",
    "            for word in sequence[: self.max_len]\n",
    "        ]\n",
    "        if self.task == \"language_modeling\":\n",
    "            target = source_sequence[1:]\n",
    "            target.append(self.token2ind[\"<eos>\"])\n",
    "        elif self.task == \"classification\":\n",
    "            target = [self.labels[index]]\n",
    "        sample = {\n",
    "            \"source_sequence\": torch.tensor(source_sequence),\n",
    "            \"target\": torch.tensor(target),\n",
    "        }\n",
    "        return sample\n",
    "\n",
    "\n",
    "def MyCollator(batch):\n",
    "    source_sequences = pad_sequence(\n",
    "        #we use padding to match the length of the sequences in the same batch\n",
    "        [sample[\"source_sequence\"] for sample in batch], padding_value=token2ind[\"<pad>\"]\n",
    "    )\n",
    "    target = pad_sequence(\n",
    "        [sample[\"target\"] for sample in batch], padding_value=token2ind[\"<pad>\"]\n",
    "    )\n",
    "    return source_sequences, target.reshape(-1)\n",
    "\n",
    "\n",
    "def get_loader(\n",
    "    path_documents,\n",
    "    path_labels=None,\n",
    "    token2ind={},\n",
    "    max_len=512,\n",
    "    batch_size=32,\n",
    "    task=\"language_modeling\",\n",
    "):\n",
    "    dataset = Dataset(\n",
    "        path_documents,\n",
    "        path_labels=path_labels,\n",
    "        token2ind=token2ind,\n",
    "        max_len=512,\n",
    "        task=task,\n",
    "    )\n",
    "    data_loader = DataLoader(\n",
    "        dataset=dataset,\n",
    "        batch_size=batch_size,\n",
    "        shuffle=True,\n",
    "        collate_fn=MyCollator,\n",
    "        pin_memory=True,\n",
    "        drop_last=True,\n",
    "    )\n",
    "    return data_loader"
   ]
  },
  {
   "cell_type": "markdown",
   "metadata": {
    "id": "uTns4lHrjUTa"
   },
   "source": [
    "## The Training"
   ]
  },
  {
   "cell_type": "code",
   "execution_count": 16,
   "metadata": {
    "id": "4_jwosiLjRsS"
   },
   "outputs": [],
   "source": [
    "def train(\n",
    "    path_data_train,\n",
    "    path_labels_train=None,\n",
    "    path_data_valid=None,\n",
    "    save_interval=-1,\n",
    "    log_interval=5,\n",
    "    task=\"language_modeling\",\n",
    "    batch_size=32,\n",
    "):\n",
    "    model.train()\n",
    "    total_loss = 0.0\n",
    "    ntokens = len(token2ind)\n",
    "    data_loader = get_loader(\n",
    "        path_data_train,\n",
    "        path_labels_train,\n",
    "        token2ind,\n",
    "        task=task,\n",
    "        batch_size=batch_size,\n",
    "    )\n",
    "    \n",
    "    losses = []\n",
    "    for idx, data in enumerate(data_loader): #step 1\n",
    "        optimizer.zero_grad()\n",
    "        src_mask = model.base.generate_square_subsequent_mask(data[0].size(0)).to(\n",
    "            device\n",
    "        )\n",
    "        input = data[0].to(device)\n",
    "        output = model(input, src_mask) #step 2\n",
    "        if task == 'classification':\n",
    "            #last vector only\n",
    "            output = output[-1]  #fill me \n",
    "        output = output.view(-1, output.shape[-1])\n",
    "        target = data[1] #fill me\n",
    "        target = target.to(device)\n",
    "        loss =  criterion(output,target)#fill me, Cross entropy check next cells\n",
    "        #fill me step 3\n",
    "        loss.backward()\n",
    "        torch.nn.utils.clip_grad_norm_(model.parameters(), 0.5) # prevent exploding gradient \n",
    "        #fill me step 4\n",
    "        optimizer.step()\n",
    "        total_loss += loss.item() \n",
    "        if idx % log_interval == 0 and idx > 0:\n",
    "            cur_loss = total_loss / log_interval\n",
    "            print(\n",
    "                \"| epoch {:3d} | {:5d}/{:5d} steps | \"\n",
    "                \"loss {:5.5f} | ppl {:8.3f}\".format(\n",
    "                    epoch, idx, len(data_loader), cur_loss, math.exp(cur_loss),\n",
    "                )\n",
    "            )\n",
    "            losses.append(cur_loss)\n",
    "            total_loss = 0\n",
    "    return losses"
   ]
  },
  {
   "cell_type": "code",
   "execution_count": 17,
   "metadata": {
    "id": "pgf6BDB9jUr6"
   },
   "outputs": [],
   "source": [
    "ntokens = len(ind2token) #fill me # the size of vocabulary\n",
    "nhid = 200  # the dimension of the feedforward network model in nn.TransformerEncoder\n",
    "nlayers = 4  # the number of nn.TransformerEncoderLayer in nn.TransformerEncoder\n",
    "nhead = 2  # the number of heads in the multiheadattention models\n",
    "dropout = 0  # the dropout value\n",
    "\n",
    "nclasses = 2 # for classification task only\n",
    "\n",
    "model = Model(ntokens, nhead, nhid, nlayers, ntokens, dropout).to(device)"
   ]
  },
  {
   "cell_type": "code",
   "execution_count": 18,
   "metadata": {
    "id": "u-OLy4KIkDwf"
   },
   "outputs": [],
   "source": [
    "# optimization paramerters\n",
    "\n",
    "criterion = nn.CrossEntropyLoss(ignore_index=token2ind['<pad>'])\n",
    "lr = 0.0003  # learning rate\n",
    "optimizer = torch.optim.Adam(model.parameters(), lr=lr)"
   ]
  },
  {
   "cell_type": "code",
   "execution_count": 19,
   "metadata": {
    "colab": {
     "base_uri": "https://localhost:8080/"
    },
    "id": "Bwh3n9xZQy4e",
    "outputId": "cff1d9bf-2bc3-496f-b30b-df0bc6de8fab"
   },
   "outputs": [
    {
     "name": "stdout",
     "output_type": "stream",
     "text": [
      "--2020-12-08 19:21:25--  https://raw.githubusercontent.com/moussaKam/transfer_learning_transformers/main/pretraining_subset.txt\n",
      "Resolving raw.githubusercontent.com (raw.githubusercontent.com)... 151.101.0.133, 151.101.64.133, 151.101.128.133, ...\n",
      "Connecting to raw.githubusercontent.com (raw.githubusercontent.com)|151.101.0.133|:443... connected.\n",
      "HTTP request sent, awaiting response... 200 OK\n",
      "Length: 10146460 (9.7M) [text/plain]\n",
      "Saving to: ‘pretraining_subset.txt’\n",
      "\n",
      "pretraining_subset. 100%[===================>]   9.68M  53.3MB/s    in 0.2s    \n",
      "\n",
      "2020-12-08 19:21:25 (53.3 MB/s) - ‘pretraining_subset.txt’ saved [10146460/10146460]\n",
      "\n"
     ]
    }
   ],
   "source": [
    "!wget https://raw.githubusercontent.com/moussaKam/transfer_learning_transformers/main/pretraining_subset.txt\n",
    "path_data_train = \"pretraining_subset.txt\""
   ]
  },
  {
   "cell_type": "code",
   "execution_count": 20,
   "metadata": {
    "colab": {
     "base_uri": "https://localhost:8080/"
    },
    "id": "0m11g4ScjZaR",
    "outputId": "a7553237-f907-42ff-8f2d-87186cc095d1"
   },
   "outputs": [
    {
     "name": "stdout",
     "output_type": "stream",
     "text": [
      "| epoch   1 |   500/ 3125 steps | loss 7.30814 | ppl 1492.400\n",
      "| epoch   1 |  1000/ 3125 steps | loss 6.50192 | ppl  666.420\n",
      "| epoch   1 |  1500/ 3125 steps | loss 6.20296 | ppl  494.210\n",
      "| epoch   1 |  2000/ 3125 steps | loss 6.03552 | ppl  418.018\n",
      "| epoch   1 |  2500/ 3125 steps | loss 5.90807 | ppl  367.997\n",
      "| epoch   1 |  3000/ 3125 steps | loss 5.82216 | ppl  337.702\n",
      "| epoch   2 |   500/ 3125 steps | loss 5.51676 | ppl  248.828\n",
      "| epoch   2 |  1000/ 3125 steps | loss 5.47406 | ppl  238.427\n",
      "| epoch   2 |  1500/ 3125 steps | loss 5.44690 | ppl  232.037\n",
      "| epoch   2 |  2000/ 3125 steps | loss 5.42942 | ppl  228.016\n",
      "| epoch   2 |  2500/ 3125 steps | loss 5.39096 | ppl  219.413\n",
      "| epoch   2 |  3000/ 3125 steps | loss 5.35042 | ppl  210.696\n"
     ]
    }
   ],
   "source": [
    "#pretraining on a tiny subset\n",
    "log_interval = 500\n",
    "epochs = 2\n",
    "for epoch in range(1, epochs + 1): #5\n",
    "    train(\n",
    "        path_data_train,\n",
    "        save_interval=-1,\n",
    "        task=\"language_modeling\",\n",
    "        batch_size=16,\n",
    "        log_interval=log_interval,\n",
    "    )"
   ]
  },
  {
   "cell_type": "markdown",
   "metadata": {
    "id": "MeOM1dOvkO4e"
   },
   "source": [
    "## Text Generation\n"
   ]
  },
  {
   "cell_type": "code",
   "execution_count": 21,
   "metadata": {
    "colab": {
     "base_uri": "https://localhost:8080/"
    },
    "id": "-BcBC6FSkMH3",
    "outputId": "ccf834ba-bff7-4713-e144-24b1db01b56f"
   },
   "outputs": [
    {
     "name": "stdout",
     "output_type": "stream",
     "text": [
      "--2020-12-08 19:27:13--  https://raw.githubusercontent.com/moussaKam/transfer_learning_transformers/main/pretrained_model_4layers.pt\n",
      "Resolving raw.githubusercontent.com (raw.githubusercontent.com)... 151.101.0.133, 151.101.64.133, 151.101.128.133, ...\n",
      "Connecting to raw.githubusercontent.com (raw.githubusercontent.com)|151.101.0.133|:443... connected.\n",
      "HTTP request sent, awaiting response... 200 OK\n",
      "Length: 88093955 (84M) [application/octet-stream]\n",
      "Saving to: ‘pretrained_model_4layers.pt’\n",
      "\n",
      "pretrained_model_4l 100%[===================>]  84.01M   167MB/s    in 0.5s    \n",
      "\n",
      "2020-12-08 19:27:15 (167 MB/s) - ‘pretrained_model_4layers.pt’ saved [88093955/88093955]\n",
      "\n"
     ]
    },
    {
     "data": {
      "text/plain": [
       "<All keys matched successfully>"
      ]
     },
     "execution_count": 21,
     "metadata": {
      "tags": []
     },
     "output_type": "execute_result"
    }
   ],
   "source": [
    "!wget https://raw.githubusercontent.com/moussaKam/transfer_learning_transformers/main/pretrained_model_4layers.pt\n",
    "\n",
    "model = Model(ntokens, nhead, nhid, nlayers, ntokens).to(device)\n",
    "\n",
    "#load the checkpoint\n",
    "checkpoint = torch.load('pretrained_model_4layers.pt') \n",
    "#load state dict\n",
    "model.load_state_dict(checkpoint['model_state_dict']) "
   ]
  },
  {
   "cell_type": "code",
   "execution_count": 22,
   "metadata": {
    "colab": {
     "base_uri": "https://localhost:8080/"
    },
    "id": "tBRRVsWqlIoQ",
    "outputId": "3b27b90b-d72a-4911-fb40-58c01a33f074"
   },
   "outputs": [
    {
     "name": "stdout",
     "output_type": "stream",
     "text": [
      "Collecting sentencepiece\n",
      "\u001b[?25l  Downloading https://files.pythonhosted.org/packages/e5/2d/6d4ca4bef9a67070fa1cac508606328329152b1df10bdf31fb6e4e727894/sentencepiece-0.1.94-cp36-cp36m-manylinux2014_x86_64.whl (1.1MB)\n",
      "\r",
      "\u001b[K     |▎                               | 10kB 21.7MB/s eta 0:00:01\r",
      "\u001b[K     |▋                               | 20kB 29.1MB/s eta 0:00:01\r",
      "\u001b[K     |▉                               | 30kB 15.2MB/s eta 0:00:01\r",
      "\u001b[K     |█▏                              | 40kB 10.8MB/s eta 0:00:01\r",
      "\u001b[K     |█▌                              | 51kB 7.6MB/s eta 0:00:01\r",
      "\u001b[K     |█▊                              | 61kB 8.2MB/s eta 0:00:01\r",
      "\u001b[K     |██                              | 71kB 8.5MB/s eta 0:00:01\r",
      "\u001b[K     |██▍                             | 81kB 8.6MB/s eta 0:00:01\r",
      "\u001b[K     |██▋                             | 92kB 8.5MB/s eta 0:00:01\r",
      "\u001b[K     |███                             | 102kB 7.5MB/s eta 0:00:01\r",
      "\u001b[K     |███▎                            | 112kB 7.5MB/s eta 0:00:01\r",
      "\u001b[K     |███▌                            | 122kB 7.5MB/s eta 0:00:01\r",
      "\u001b[K     |███▉                            | 133kB 7.5MB/s eta 0:00:01\r",
      "\u001b[K     |████▏                           | 143kB 7.5MB/s eta 0:00:01\r",
      "\u001b[K     |████▍                           | 153kB 7.5MB/s eta 0:00:01\r",
      "\u001b[K     |████▊                           | 163kB 7.5MB/s eta 0:00:01\r",
      "\u001b[K     |█████                           | 174kB 7.5MB/s eta 0:00:01\r",
      "\u001b[K     |█████▎                          | 184kB 7.5MB/s eta 0:00:01\r",
      "\u001b[K     |█████▋                          | 194kB 7.5MB/s eta 0:00:01\r",
      "\u001b[K     |█████▉                          | 204kB 7.5MB/s eta 0:00:01\r",
      "\u001b[K     |██████▏                         | 215kB 7.5MB/s eta 0:00:01\r",
      "\u001b[K     |██████▌                         | 225kB 7.5MB/s eta 0:00:01\r",
      "\u001b[K     |██████▊                         | 235kB 7.5MB/s eta 0:00:01\r",
      "\u001b[K     |███████                         | 245kB 7.5MB/s eta 0:00:01\r",
      "\u001b[K     |███████▍                        | 256kB 7.5MB/s eta 0:00:01\r",
      "\u001b[K     |███████▋                        | 266kB 7.5MB/s eta 0:00:01\r",
      "\u001b[K     |████████                        | 276kB 7.5MB/s eta 0:00:01\r",
      "\u001b[K     |████████▎                       | 286kB 7.5MB/s eta 0:00:01\r",
      "\u001b[K     |████████▌                       | 296kB 7.5MB/s eta 0:00:01\r",
      "\u001b[K     |████████▉                       | 307kB 7.5MB/s eta 0:00:01\r",
      "\u001b[K     |█████████                       | 317kB 7.5MB/s eta 0:00:01\r",
      "\u001b[K     |█████████▍                      | 327kB 7.5MB/s eta 0:00:01\r",
      "\u001b[K     |█████████▊                      | 337kB 7.5MB/s eta 0:00:01\r",
      "\u001b[K     |██████████                      | 348kB 7.5MB/s eta 0:00:01\r",
      "\u001b[K     |██████████▎                     | 358kB 7.5MB/s eta 0:00:01\r",
      "\u001b[K     |██████████▋                     | 368kB 7.5MB/s eta 0:00:01\r",
      "\u001b[K     |██████████▉                     | 378kB 7.5MB/s eta 0:00:01\r",
      "\u001b[K     |███████████▏                    | 389kB 7.5MB/s eta 0:00:01\r",
      "\u001b[K     |███████████▌                    | 399kB 7.5MB/s eta 0:00:01\r",
      "\u001b[K     |███████████▊                    | 409kB 7.5MB/s eta 0:00:01\r",
      "\u001b[K     |████████████                    | 419kB 7.5MB/s eta 0:00:01\r",
      "\u001b[K     |████████████▍                   | 430kB 7.5MB/s eta 0:00:01\r",
      "\u001b[K     |████████████▋                   | 440kB 7.5MB/s eta 0:00:01\r",
      "\u001b[K     |█████████████                   | 450kB 7.5MB/s eta 0:00:01\r",
      "\u001b[K     |█████████████▎                  | 460kB 7.5MB/s eta 0:00:01\r",
      "\u001b[K     |█████████████▌                  | 471kB 7.5MB/s eta 0:00:01\r",
      "\u001b[K     |█████████████▉                  | 481kB 7.5MB/s eta 0:00:01\r",
      "\u001b[K     |██████████████                  | 491kB 7.5MB/s eta 0:00:01\r",
      "\u001b[K     |██████████████▍                 | 501kB 7.5MB/s eta 0:00:01\r",
      "\u001b[K     |██████████████▊                 | 512kB 7.5MB/s eta 0:00:01\r",
      "\u001b[K     |███████████████                 | 522kB 7.5MB/s eta 0:00:01\r",
      "\u001b[K     |███████████████▎                | 532kB 7.5MB/s eta 0:00:01\r",
      "\u001b[K     |███████████████▋                | 542kB 7.5MB/s eta 0:00:01\r",
      "\u001b[K     |███████████████▉                | 552kB 7.5MB/s eta 0:00:01\r",
      "\u001b[K     |████████████████▏               | 563kB 7.5MB/s eta 0:00:01\r",
      "\u001b[K     |████████████████▌               | 573kB 7.5MB/s eta 0:00:01\r",
      "\u001b[K     |████████████████▊               | 583kB 7.5MB/s eta 0:00:01\r",
      "\u001b[K     |█████████████████               | 593kB 7.5MB/s eta 0:00:01\r",
      "\u001b[K     |█████████████████▍              | 604kB 7.5MB/s eta 0:00:01\r",
      "\u001b[K     |█████████████████▋              | 614kB 7.5MB/s eta 0:00:01\r",
      "\u001b[K     |██████████████████              | 624kB 7.5MB/s eta 0:00:01\r",
      "\u001b[K     |██████████████████▏             | 634kB 7.5MB/s eta 0:00:01\r",
      "\u001b[K     |██████████████████▌             | 645kB 7.5MB/s eta 0:00:01\r",
      "\u001b[K     |██████████████████▉             | 655kB 7.5MB/s eta 0:00:01\r",
      "\u001b[K     |███████████████████             | 665kB 7.5MB/s eta 0:00:01\r",
      "\u001b[K     |███████████████████▍            | 675kB 7.5MB/s eta 0:00:01\r",
      "\u001b[K     |███████████████████▊            | 686kB 7.5MB/s eta 0:00:01\r",
      "\u001b[K     |████████████████████            | 696kB 7.5MB/s eta 0:00:01\r",
      "\u001b[K     |████████████████████▎           | 706kB 7.5MB/s eta 0:00:01\r",
      "\u001b[K     |████████████████████▋           | 716kB 7.5MB/s eta 0:00:01\r",
      "\u001b[K     |████████████████████▉           | 727kB 7.5MB/s eta 0:00:01\r",
      "\u001b[K     |█████████████████████▏          | 737kB 7.5MB/s eta 0:00:01\r",
      "\u001b[K     |█████████████████████▌          | 747kB 7.5MB/s eta 0:00:01\r",
      "\u001b[K     |█████████████████████▊          | 757kB 7.5MB/s eta 0:00:01\r",
      "\u001b[K     |██████████████████████          | 768kB 7.5MB/s eta 0:00:01\r",
      "\u001b[K     |██████████████████████▎         | 778kB 7.5MB/s eta 0:00:01\r",
      "\u001b[K     |██████████████████████▋         | 788kB 7.5MB/s eta 0:00:01\r",
      "\u001b[K     |███████████████████████         | 798kB 7.5MB/s eta 0:00:01\r",
      "\u001b[K     |███████████████████████▏        | 808kB 7.5MB/s eta 0:00:01\r",
      "\u001b[K     |███████████████████████▌        | 819kB 7.5MB/s eta 0:00:01\r",
      "\u001b[K     |███████████████████████▉        | 829kB 7.5MB/s eta 0:00:01\r",
      "\u001b[K     |████████████████████████        | 839kB 7.5MB/s eta 0:00:01\r",
      "\u001b[K     |████████████████████████▍       | 849kB 7.5MB/s eta 0:00:01\r",
      "\u001b[K     |████████████████████████▊       | 860kB 7.5MB/s eta 0:00:01\r",
      "\u001b[K     |█████████████████████████       | 870kB 7.5MB/s eta 0:00:01\r",
      "\u001b[K     |█████████████████████████▎      | 880kB 7.5MB/s eta 0:00:01\r",
      "\u001b[K     |█████████████████████████▋      | 890kB 7.5MB/s eta 0:00:01\r",
      "\u001b[K     |█████████████████████████▉      | 901kB 7.5MB/s eta 0:00:01\r",
      "\u001b[K     |██████████████████████████▏     | 911kB 7.5MB/s eta 0:00:01\r",
      "\u001b[K     |██████████████████████████▌     | 921kB 7.5MB/s eta 0:00:01\r",
      "\u001b[K     |██████████████████████████▊     | 931kB 7.5MB/s eta 0:00:01\r",
      "\u001b[K     |███████████████████████████     | 942kB 7.5MB/s eta 0:00:01\r",
      "\u001b[K     |███████████████████████████▎    | 952kB 7.5MB/s eta 0:00:01\r",
      "\u001b[K     |███████████████████████████▋    | 962kB 7.5MB/s eta 0:00:01\r",
      "\u001b[K     |████████████████████████████    | 972kB 7.5MB/s eta 0:00:01\r",
      "\u001b[K     |████████████████████████████▏   | 983kB 7.5MB/s eta 0:00:01\r",
      "\u001b[K     |████████████████████████████▌   | 993kB 7.5MB/s eta 0:00:01\r",
      "\u001b[K     |████████████████████████████▉   | 1.0MB 7.5MB/s eta 0:00:01\r",
      "\u001b[K     |█████████████████████████████   | 1.0MB 7.5MB/s eta 0:00:01\r",
      "\u001b[K     |█████████████████████████████▍  | 1.0MB 7.5MB/s eta 0:00:01\r",
      "\u001b[K     |█████████████████████████████▊  | 1.0MB 7.5MB/s eta 0:00:01\r",
      "\u001b[K     |██████████████████████████████  | 1.0MB 7.5MB/s eta 0:00:01\r",
      "\u001b[K     |██████████████████████████████▎ | 1.1MB 7.5MB/s eta 0:00:01\r",
      "\u001b[K     |██████████████████████████████▋ | 1.1MB 7.5MB/s eta 0:00:01\r",
      "\u001b[K     |██████████████████████████████▉ | 1.1MB 7.5MB/s eta 0:00:01\r",
      "\u001b[K     |███████████████████████████████▏| 1.1MB 7.5MB/s eta 0:00:01\r",
      "\u001b[K     |███████████████████████████████▍| 1.1MB 7.5MB/s eta 0:00:01\r",
      "\u001b[K     |███████████████████████████████▊| 1.1MB 7.5MB/s eta 0:00:01\r",
      "\u001b[K     |████████████████████████████████| 1.1MB 7.5MB/s \n",
      "\u001b[?25hInstalling collected packages: sentencepiece\n",
      "Successfully installed sentencepiece-0.1.94\n",
      "--2020-12-08 19:27:19--  https://raw.githubusercontent.com/moussaKam/transfer_learning_transformers/main/sentencepiece.french.model\n",
      "Resolving raw.githubusercontent.com (raw.githubusercontent.com)... 151.101.0.133, 151.101.64.133, 151.101.128.133, ...\n",
      "Connecting to raw.githubusercontent.com (raw.githubusercontent.com)|151.101.0.133|:443... connected.\n",
      "HTTP request sent, awaiting response... 200 OK\n",
      "Length: 1115362 (1.1M) [application/octet-stream]\n",
      "Saving to: ‘sentencepiece.french.model’\n",
      "\n",
      "sentencepiece.frenc 100%[===================>]   1.06M  --.-KB/s    in 0.04s   \n",
      "\n",
      "2020-12-08 19:27:19 (25.2 MB/s) - ‘sentencepiece.french.model’ saved [1115362/1115362]\n",
      "\n",
      "['▁Bonjour', '▁les', '▁amis', '!']\n",
      "Bonjour les amis!\n"
     ]
    }
   ],
   "source": [
    "!pip install sentencepiece\n",
    "!wget https://raw.githubusercontent.com/moussaKam/transfer_learning_transformers/main/sentencepiece.french.model\n",
    "\n",
    "import sentencepiece as spm\n",
    "\n",
    "s = spm.SentencePieceProcessor(model_file='sentencepiece.french.model') #load sentencepiece model\n",
    "\n",
    "#examples\n",
    "encoded = s.encode_as_pieces(\"Bonjour les amis!\")\n",
    "decoded = s.decode_pieces(encoded)\n",
    "print(encoded)\n",
    "print(decoded)"
   ]
  },
  {
   "cell_type": "code",
   "execution_count": 23,
   "metadata": {
    "id": "TtLlV05pkQI3"
   },
   "outputs": [],
   "source": [
    "def infer_next_token(sent):\n",
    "    model.eval()\n",
    "    sent_pieces = s.encode_as_pieces(sent)\n",
    "    source = [token2ind['<sos>']] + [token2ind[el] for el in sent_pieces]\n",
    "    source = torch.tensor(source).to(device)\n",
    "    source = source.reshape(-1, 1)\n",
    "    src_mask = model.base.generate_square_subsequent_mask(source.size(0)).to(device)\n",
    "    out = model(source, src_mask)\n",
    "    next_token_ind = out[-1].argmax(-1)\n",
    "    return next_token_ind, out\n",
    "    \n",
    "def infer_next_tokens(sent, max_len=50):\n",
    "    token=''\n",
    "    i=0\n",
    "    while (token!='<eos>') and (i<50):\n",
    "      i=i+1\n",
    "      token= ind2token[int(infer_next_token(sent)[0])]\n",
    "      if token!='<eos>' :\n",
    "        sent=sent+' '+token[1:len(token)]\n",
    "      else:\n",
    "        sent=sent+'.'\n",
    "\n",
    "    return sent\n",
    "    # to be implemented"
   ]
  },
  {
   "cell_type": "code",
   "execution_count": 24,
   "metadata": {
    "colab": {
     "base_uri": "https://localhost:8080/"
    },
    "id": "f83Nn5nSly4v",
    "outputId": "ffaace2d-ce03-4c5d-b6a1-62e15b042642"
   },
   "outputs": [
    {
     "name": "stdout",
     "output_type": "stream",
     "text": [
      "Bonjour les gens qui ont été très accueillants et sympathiques                                          \n"
     ]
    }
   ],
   "source": [
    "sent = \"Bonjour les\"\n",
    "print(infer_next_tokens(sent))"
   ]
  },
  {
   "cell_type": "markdown",
   "metadata": {
    "id": "Lp7mjVzomoZ3"
   },
   "source": [
    "### Supervised task"
   ]
  },
  {
   "cell_type": "code",
   "execution_count": 25,
   "metadata": {
    "colab": {
     "base_uri": "https://localhost:8080/"
    },
    "id": "0K1BZsblmEmx",
    "outputId": "8beab547-e27b-437e-851e-746ae4dfeeeb"
   },
   "outputs": [
    {
     "name": "stdout",
     "output_type": "stream",
     "text": [
      "--2020-12-08 19:27:19--  https://raw.githubusercontent.com/moussaKam/transfer_learning_transformers/main/cls-books/train.review.spm\n",
      "Resolving raw.githubusercontent.com (raw.githubusercontent.com)... 151.101.0.133, 151.101.64.133, 151.101.128.133, ...\n",
      "Connecting to raw.githubusercontent.com (raw.githubusercontent.com)|151.101.0.133|:443... connected.\n",
      "HTTP request sent, awaiting response... 200 OK\n",
      "Length: 1495960 (1.4M) [text/plain]\n",
      "Saving to: ‘train.review.spm’\n",
      "\n",
      "train.review.spm    100%[===================>]   1.43M  --.-KB/s    in 0.06s   \n",
      "\n",
      "2020-12-08 19:27:20 (25.1 MB/s) - ‘train.review.spm’ saved [1495960/1495960]\n",
      "\n",
      "--2020-12-08 19:27:20--  https://raw.githubusercontent.com/moussaKam/transfer_learning_transformers/main/cls-books/train.label\n",
      "Resolving raw.githubusercontent.com (raw.githubusercontent.com)... 151.101.0.133, 151.101.64.133, 151.101.128.133, ...\n",
      "Connecting to raw.githubusercontent.com (raw.githubusercontent.com)|151.101.0.133|:443... connected.\n",
      "HTTP request sent, awaiting response... 200 OK\n",
      "Length: 3200 (3.1K) [text/plain]\n",
      "Saving to: ‘train.label’\n",
      "\n",
      "train.label         100%[===================>]   3.12K  --.-KB/s    in 0s      \n",
      "\n",
      "2020-12-08 19:27:20 (40.9 MB/s) - ‘train.label’ saved [3200/3200]\n",
      "\n",
      "--2020-12-08 19:27:20--  https://raw.githubusercontent.com/moussaKam/transfer_learning_transformers/main/cls-books/test.review.spm\n",
      "Resolving raw.githubusercontent.com (raw.githubusercontent.com)... 151.101.0.133, 151.101.64.133, 151.101.128.133, ...\n",
      "Connecting to raw.githubusercontent.com (raw.githubusercontent.com)|151.101.0.133|:443... connected.\n",
      "HTTP request sent, awaiting response... 200 OK\n",
      "Length: 1864544 (1.8M) [text/plain]\n",
      "Saving to: ‘test.review.spm’\n",
      "\n",
      "test.review.spm     100%[===================>]   1.78M  --.-KB/s    in 0.06s   \n",
      "\n",
      "2020-12-08 19:27:20 (27.4 MB/s) - ‘test.review.spm’ saved [1864544/1864544]\n",
      "\n",
      "--2020-12-08 19:27:20--  https://raw.githubusercontent.com/moussaKam/transfer_learning_transformers/main/cls-books/test.label\n",
      "Resolving raw.githubusercontent.com (raw.githubusercontent.com)... 151.101.0.133, 151.101.64.133, 151.101.128.133, ...\n",
      "Connecting to raw.githubusercontent.com (raw.githubusercontent.com)|151.101.0.133|:443... connected.\n",
      "HTTP request sent, awaiting response... 200 OK\n",
      "Length: 4000 (3.9K) [text/plain]\n",
      "Saving to: ‘test.label’\n",
      "\n",
      "test.label          100%[===================>]   3.91K  --.-KB/s    in 0s      \n",
      "\n",
      "2020-12-08 19:27:21 (83.7 MB/s) - ‘test.label’ saved [4000/4000]\n",
      "\n"
     ]
    }
   ],
   "source": [
    "!wget https://raw.githubusercontent.com/moussaKam/transfer_learning_transformers/main/cls-books/train.review.spm\n",
    "!wget https://raw.githubusercontent.com/moussaKam/transfer_learning_transformers/main/cls-books/train.label\n",
    "!wget https://raw.githubusercontent.com/moussaKam/transfer_learning_transformers/main/cls-books/test.review.spm\n",
    "!wget https://raw.githubusercontent.com/moussaKam/transfer_learning_transformers/main/cls-books/test.label\n",
    "\n",
    "path_data_train = \"train.review.spm\"\n",
    "path_labels_train = \"train.label\"\n",
    "\n",
    "path_data_valid = \"test.review.spm\"\n",
    "path_labels_valid = \"test.label\""
   ]
  },
  {
   "cell_type": "code",
   "execution_count": 26,
   "metadata": {
    "id": "_MLfvjiom2SL"
   },
   "outputs": [],
   "source": [
    "# a function to evaluate the validation accuracy of the model.\n",
    "def evaluate_accuracy(data_loader):\n",
    "  acc=0\n",
    "  k=0\n",
    "  for d in data_loader:\n",
    "    data=d[0].to(device)\n",
    "    target=d[1]\n",
    "    \n",
    "    target = target.to(device)\n",
    "    src_mask = model.base.generate_square_subsequent_mask(data.size(0)).to(\n",
    "            device\n",
    "        )\n",
    "    output=model(data, src_mask)\n",
    "    output = output[-1,:,:]\n",
    "    pred=torch.argmax(output,dim=1)\n",
    "    for i in range(len(pred)):\n",
    "      k=k+1\n",
    "      if (pred[i]==target[i]):\n",
    "        acc=acc+1\n",
    "  acc=acc/k\n",
    "  print(\"Accuracy = \",acc)\n",
    "  return acc\n",
    "\n",
    "    #to be implemented"
   ]
  },
  {
   "cell_type": "code",
   "execution_count": 27,
   "metadata": {
    "id": "qzmx7T7xoa6v"
   },
   "outputs": [],
   "source": [
    "#save the base model to be loaded later in the fine-tuning phase\n",
    "torch.save({\"model_state_dict\": model.base.state_dict(),}, \"pretrained_model_4layers_no_class_head.pt\")"
   ]
  },
  {
   "cell_type": "code",
   "execution_count": 28,
   "metadata": {
    "colab": {
     "base_uri": "https://localhost:8080/"
    },
    "id": "i-xclMCpnVpw",
    "outputId": "1e0db230-677a-43fe-b002-da86bdcb24e6"
   },
   "outputs": [
    {
     "name": "stdout",
     "output_type": "stream",
     "text": [
      "=====Trainig FROM SCRATCH======\n",
      "| epoch   1 |    50/  200 steps | loss 0.74402 | ppl    2.104\n",
      "| epoch   1 |   100/  200 steps | loss 0.72758 | ppl    2.070\n",
      "| epoch   1 |   150/  200 steps | loss 0.73251 | ppl    2.080\n",
      "Accuracy =  0.5525\n",
      "| epoch   2 |    50/  200 steps | loss 0.63547 | ppl    1.888\n",
      "| epoch   2 |   100/  200 steps | loss 0.60439 | ppl    1.830\n",
      "| epoch   2 |   150/  200 steps | loss 0.71441 | ppl    2.043\n",
      "Accuracy =  0.7135\n",
      "| epoch   3 |    50/  200 steps | loss 0.44744 | ppl    1.564\n",
      "| epoch   3 |   100/  200 steps | loss 0.42450 | ppl    1.529\n",
      "| epoch   3 |   150/  200 steps | loss 0.31913 | ppl    1.376\n",
      "Accuracy =  0.721\n",
      "| epoch   4 |    50/  200 steps | loss 0.17728 | ppl    1.194\n",
      "| epoch   4 |   100/  200 steps | loss 0.11718 | ppl    1.124\n",
      "| epoch   4 |   150/  200 steps | loss 0.19863 | ppl    1.220\n",
      "Accuracy =  0.7565\n",
      "| epoch   5 |    50/  200 steps | loss 0.01171 | ppl    1.012\n",
      "| epoch   5 |   100/  200 steps | loss 0.06223 | ppl    1.064\n",
      "| epoch   5 |   150/  200 steps | loss 0.02048 | ppl    1.021\n",
      "Accuracy =  0.737\n",
      "| epoch   6 |    50/  200 steps | loss 0.00517 | ppl    1.005\n",
      "| epoch   6 |   100/  200 steps | loss 0.01089 | ppl    1.011\n",
      "| epoch   6 |   150/  200 steps | loss 0.01020 | ppl    1.010\n",
      "Accuracy =  0.759\n",
      "| epoch   7 |    50/  200 steps | loss 0.00038 | ppl    1.000\n",
      "| epoch   7 |   100/  200 steps | loss 0.01563 | ppl    1.016\n",
      "| epoch   7 |   150/  200 steps | loss 0.00888 | ppl    1.009\n",
      "Accuracy =  0.7585\n",
      "| epoch   8 |    50/  200 steps | loss 0.00062 | ppl    1.001\n",
      "| epoch   8 |   100/  200 steps | loss 0.00002 | ppl    1.000\n",
      "| epoch   8 |   150/  200 steps | loss 0.00001 | ppl    1.000\n",
      "Accuracy =  0.76\n",
      "| epoch   9 |    50/  200 steps | loss 0.00001 | ppl    1.000\n",
      "| epoch   9 |   100/  200 steps | loss 0.00001 | ppl    1.000\n",
      "| epoch   9 |   150/  200 steps | loss 0.00001 | ppl    1.000\n",
      "Accuracy =  0.7605\n",
      "| epoch  10 |    50/  200 steps | loss 0.00001 | ppl    1.000\n",
      "| epoch  10 |   100/  200 steps | loss 0.00001 | ppl    1.000\n",
      "| epoch  10 |   150/  200 steps | loss 0.00004 | ppl    1.000\n",
      "Accuracy =  0.756\n",
      "| epoch  11 |    50/  200 steps | loss 0.00001 | ppl    1.000\n",
      "| epoch  11 |   100/  200 steps | loss 0.00000 | ppl    1.000\n",
      "| epoch  11 |   150/  200 steps | loss 0.00000 | ppl    1.000\n",
      "Accuracy =  0.7605\n",
      "| epoch  12 |    50/  200 steps | loss 0.00000 | ppl    1.000\n",
      "| epoch  12 |   100/  200 steps | loss 0.00000 | ppl    1.000\n",
      "| epoch  12 |   150/  200 steps | loss 0.00000 | ppl    1.000\n",
      "Accuracy =  0.762\n",
      "| epoch  13 |    50/  200 steps | loss 0.00000 | ppl    1.000\n",
      "| epoch  13 |   100/  200 steps | loss 0.00000 | ppl    1.000\n",
      "| epoch  13 |   150/  200 steps | loss 0.00000 | ppl    1.000\n",
      "Accuracy =  0.7595\n",
      "| epoch  14 |    50/  200 steps | loss 0.00000 | ppl    1.000\n",
      "| epoch  14 |   100/  200 steps | loss 0.00000 | ppl    1.000\n",
      "| epoch  14 |   150/  200 steps | loss 0.00000 | ppl    1.000\n",
      "Accuracy =  0.758\n",
      "| epoch  15 |    50/  200 steps | loss 0.00000 | ppl    1.000\n",
      "| epoch  15 |   100/  200 steps | loss 0.00000 | ppl    1.000\n",
      "| epoch  15 |   150/  200 steps | loss 0.00000 | ppl    1.000\n",
      "Accuracy =  0.76\n",
      "\n",
      "=====PRETRAINED MODEL======\n",
      "| epoch   1 |    50/  200 steps | loss 0.81593 | ppl    2.261\n",
      "| epoch   1 |   100/  200 steps | loss 0.69325 | ppl    2.000\n",
      "| epoch   1 |   150/  200 steps | loss 0.62464 | ppl    1.868\n",
      "Accuracy =  0.718\n",
      "| epoch   2 |    50/  200 steps | loss 0.51601 | ppl    1.675\n",
      "| epoch   2 |   100/  200 steps | loss 0.44554 | ppl    1.561\n",
      "| epoch   2 |   150/  200 steps | loss 0.47141 | ppl    1.602\n",
      "Accuracy =  0.7685\n",
      "| epoch   3 |    50/  200 steps | loss 0.35062 | ppl    1.420\n",
      "| epoch   3 |   100/  200 steps | loss 0.39996 | ppl    1.492\n",
      "| epoch   3 |   150/  200 steps | loss 0.38965 | ppl    1.476\n",
      "Accuracy =  0.8005\n",
      "| epoch   4 |    50/  200 steps | loss 0.26478 | ppl    1.303\n",
      "| epoch   4 |   100/  200 steps | loss 0.27655 | ppl    1.319\n",
      "| epoch   4 |   150/  200 steps | loss 0.27843 | ppl    1.321\n",
      "Accuracy =  0.775\n",
      "| epoch   5 |    50/  200 steps | loss 0.18958 | ppl    1.209\n",
      "| epoch   5 |   100/  200 steps | loss 0.18730 | ppl    1.206\n",
      "| epoch   5 |   150/  200 steps | loss 0.19720 | ppl    1.218\n",
      "Accuracy =  0.7905\n",
      "| epoch   6 |    50/  200 steps | loss 0.12117 | ppl    1.129\n",
      "| epoch   6 |   100/  200 steps | loss 0.19214 | ppl    1.212\n",
      "| epoch   6 |   150/  200 steps | loss 0.16935 | ppl    1.185\n",
      "Accuracy =  0.786\n",
      "| epoch   7 |    50/  200 steps | loss 0.03759 | ppl    1.038\n",
      "| epoch   7 |   100/  200 steps | loss 0.02568 | ppl    1.026\n",
      "| epoch   7 |   150/  200 steps | loss 0.04636 | ppl    1.047\n",
      "Accuracy =  0.7635\n",
      "| epoch   8 |    50/  200 steps | loss 0.00315 | ppl    1.003\n",
      "| epoch   8 |   100/  200 steps | loss 0.01394 | ppl    1.014\n",
      "| epoch   8 |   150/  200 steps | loss 0.01900 | ppl    1.019\n",
      "Accuracy =  0.7845\n",
      "| epoch   9 |    50/  200 steps | loss 0.01362 | ppl    1.014\n",
      "| epoch   9 |   100/  200 steps | loss 0.00086 | ppl    1.001\n",
      "| epoch   9 |   150/  200 steps | loss 0.01188 | ppl    1.012\n",
      "Accuracy =  0.795\n",
      "| epoch  10 |    50/  200 steps | loss 0.01708 | ppl    1.017\n",
      "| epoch  10 |   100/  200 steps | loss 0.00129 | ppl    1.001\n",
      "| epoch  10 |   150/  200 steps | loss 0.00016 | ppl    1.000\n",
      "Accuracy =  0.7875\n",
      "| epoch  11 |    50/  200 steps | loss 0.00001 | ppl    1.000\n",
      "| epoch  11 |   100/  200 steps | loss 0.00001 | ppl    1.000\n",
      "| epoch  11 |   150/  200 steps | loss 0.00033 | ppl    1.000\n",
      "Accuracy =  0.7905\n",
      "| epoch  12 |    50/  200 steps | loss 0.00003 | ppl    1.000\n",
      "| epoch  12 |   100/  200 steps | loss 0.00002 | ppl    1.000\n",
      "| epoch  12 |   150/  200 steps | loss 0.00129 | ppl    1.001\n",
      "Accuracy =  0.7905\n",
      "| epoch  13 |    50/  200 steps | loss 0.00000 | ppl    1.000\n",
      "| epoch  13 |   100/  200 steps | loss 0.00032 | ppl    1.000\n",
      "| epoch  13 |   150/  200 steps | loss 0.00209 | ppl    1.002\n",
      "Accuracy =  0.786\n",
      "| epoch  14 |    50/  200 steps | loss 0.00210 | ppl    1.002\n",
      "| epoch  14 |   100/  200 steps | loss 0.00231 | ppl    1.002\n",
      "| epoch  14 |   150/  200 steps | loss 0.00001 | ppl    1.000\n",
      "Accuracy =  0.787\n",
      "| epoch  15 |    50/  200 steps | loss 0.00005 | ppl    1.000\n",
      "| epoch  15 |   100/  200 steps | loss 0.01253 | ppl    1.013\n",
      "| epoch  15 |   150/  200 steps | loss 0.00429 | ppl    1.004\n",
      "Accuracy =  0.78\n",
      "\n"
     ]
    }
   ],
   "source": [
    "from_scratch_settings = [True, False]\n",
    "\n",
    "from_scratch_valid_acc = []\n",
    "pretrained_valid_acc = []\n",
    "lr = 0.0001\n",
    "\n",
    "for from_scratch in from_scratch_settings:\n",
    "    model = Model(ntokens, nhead, nhid, nlayers, 2, dropout).to(device)\n",
    "    criterion = nn.CrossEntropyLoss()\n",
    "    optimizer = torch.optim.Adam(model.parameters(), lr=lr)\n",
    "    if not from_scratch:\n",
    "        print(\"=====PRETRAINED MODEL======\")\n",
    "        #load checkpoint\n",
    "        checkpoint = torch.load(\"pretrained_model_4layers_no_class_head.pt\")\n",
    "        #load state dict\n",
    "        model.base.load_state_dict(checkpoint['model_state_dict'])\n",
    "    else:\n",
    "        print(\"=====Trainig FROM SCRATCH======\")\n",
    "    epochs = 15\n",
    "    for epoch in range(1, epochs + 1):\n",
    "        train(\n",
    "            path_data_train,\n",
    "            path_labels_train,\n",
    "            save_interval=-1,\n",
    "            task='classification',\n",
    "            batch_size=8,\n",
    "            log_interval=50,\n",
    "        )\n",
    "        acc = evaluate_accuracy(\n",
    "            get_loader(\n",
    "                path_data_valid,\n",
    "                path_labels_valid,\n",
    "                token2ind=token2ind,\n",
    "                batch_size=20,\n",
    "                task='classification',\n",
    "            )\n",
    "        )\n",
    "        if from_scratch:\n",
    "            from_scratch_valid_acc.append(acc)\n",
    "        else:\n",
    "            pretrained_valid_acc.append(acc)\n",
    "    print()"
   ]
  },
  {
   "cell_type": "code",
   "execution_count": 29,
   "metadata": {
    "colab": {
     "base_uri": "https://localhost:8080/",
     "height": 265
    },
    "id": "RCpBIdTHojm6",
    "outputId": "135a10b0-27f7-4c1a-bbf6-f3b741a7a53b"
   },
   "outputs": [
    {
     "data": {
      "image/png": "[encoded data removed]",
      "text/plain": [
       "<Figure size 432x288 with 1 Axes>"
      ]
     },
     "metadata": {
      "needs_background": "light",
      "tags": []
     },
     "output_type": "display_data"
    }
   ],
   "source": [
    "#Visualize the accuracy\n",
    "import matplotlib.pyplot as plt\n",
    "plt.plot([i for i in range(1,16)],from_scratch_valid_acc,label=\"from scratch\")\n",
    "plt.plot([i for i in range(1,16)],pretrained_valid_acc,label=\"pretrained\")\n",
    "plt.legend(bbox_to_anchor=(1.05, 1), loc='upper left', borderaxespad=0.)\n",
    "plt.show()"
   ]
  }
 ],
 "metadata": {
  "accelerator": "GPU",
  "colab": {
   "collapsed_sections": [
    "Lp7mjVzomoZ3"
   ],
   "name": "ALTEGRAD_2020_transfer_learning.ipynb",
   "provenance": []
  },
  "kernelspec": {
   "display_name": "Python 3",
   "language": "python",
   "name": "python3"
  },
  "language_info": {
   "codemirror_mode": {
    "name": "ipython",
    "version": 3
   },
   "file_extension": ".py",
   "mimetype": "text/x-python",
   "name": "python",
   "nbconvert_exporter": "python",
   "pygments_lexer": "ipython3",
   "version": "3.8.8"
  }
 },
 "nbformat": 4,
 "nbformat_minor": 1
}
