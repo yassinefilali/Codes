{
  "nbformat": 4,
  "nbformat_minor": 0,
  "metadata": {
    "kernelspec": {
      "display_name": "Python 3",
      "language": "python",
      "name": "python3"
    },
    "language_info": {
      "codemirror_mode": {
        "name": "ipython",
        "version": 3
      },
      "file_extension": ".py",
      "mimetype": "text/x-python",
      "name": "python",
      "nbconvert_exporter": "python",
      "pygments_lexer": "ipython3",
      "version": "3.7.4"
    },
    "colab": {
      "name": "segmentation_for_students.ipynb",
      "provenance": [],
      "collapsed_sections": []
    }
  },
  "cells": [
    {
      "cell_type": "markdown",
      "metadata": {
        "id": "C7S3uYHElkpC"
      },
      "source": [
        "# TP 2 : Computer Vision\n",
        "\n",
        "## Part 1 : segmentation\n",
        "\n",
        "In this part of the TP, we are going to implement two approaches to image segmentation :\n",
        "\n",
        "- algorithm of Otsu (histogram-based segmentation)\n",
        "- a simple region-growing based algorithm\n",
        "\n",
        "First, let us load some packages and define some helper functions (as in the previous TP)"
      ]
    },
    {
      "cell_type": "code",
      "metadata": {
        "id": "B8HZIjvWlkpK"
      },
      "source": [
        "from matplotlib import pyplot as plt\n",
        "import numpy as np \n",
        "import imageio\n",
        "from skimage import color\n",
        "\n",
        "def read_image(file_name):\n",
        "    img_color = imageio.imread(file_name)\n",
        "    img_gray = color.rgb2gray(img_color)\n",
        "    return img_gray,img_color\n",
        "    \n",
        "def write_image(img_in,file_name_out):\n",
        "    imageio.imwrite(file_name_out, np.uint8(255.0*img_in))\n",
        "    \n",
        "def display_image(img_in):\n",
        "    plt.figure(figsize=(10, 10))\n",
        "    if (img_in.ndim == 2):\n",
        "        plt.imshow(img_in,cmap='gray')\n",
        "    elif (img_in.ndim == 3):\n",
        "        # careful, in this case we supppose the pixel values are between 0 and 255\n",
        "        plt.imshow(np.uint8(img_in))\n",
        "    else:\n",
        "        print('Error, unknown number of dimensions in image')\n",
        "    return\n",
        "\n",
        "file_dir = 'images/'\n",
        "file_name = 'crossing'\n",
        "file_ext = '.png'\n",
        "\n",
        "if (is_colab == True):\n",
        "  !wget \"https://perso.telecom-paristech.fr/anewson/doc/images/crossing.png\"\n",
        "  img_gray,_ = read_image(file_name+file_ext)\n",
        "else:\n",
        "  img_gray,_ = read_image(file_dir+file_name+file_ext)\n",
        "\n",
        "display_image(img_gray)\n",
        "img_size = img_gray.shape\n",
        "img_size"
      ],
      "execution_count": null,
      "outputs": []
    },
    {
      "cell_type": "markdown",
      "metadata": {
        "id": "4PNiAGmglkpL"
      },
      "source": [
        "## Otsu's algorithm\n",
        "\n",
        "Otsu's method is based on finding a threshold to split the image into two separate segments, based simply on their grey-level values. Since the maximum number of grey-levels is finite (and small, 256), we can use an exhaustive search.\n",
        "\n",
        "The grey-level threshold is the one that minimises the following criterion :\n",
        "\n",
        "$argmin_{\\tau} \\omega_0(\\tau)\\sigma_0(\\tau) + \\omega_1(\\tau)\\sigma_1(t)$\n",
        "\n",
        "where\n",
        "\n",
        "- $\\sigma_0(\\tau)$ and $\\sigma_1(\\tau)$ are the variances of the pixels in the first and second regions\n",
        "- $\\omega_0(\\tau)$ and $\\omega_1(\\tau)$ are weights of the first and second regions\n",
        "\n",
        "and \n",
        "\n",
        "- $\\omega_0(\\tau) = \\sum_{p \\in \\Omega} \\mathbb{1}_{\\tau}(I(p)), \\qquad$\n",
        "- $\\omega_1(\\tau) = \\sum_{p \\in \\Omega} 1-\\mathbb{1}_{\\tau}(I(p))$\n",
        "\n",
        "and \n",
        "\n",
        "$\\mathbb{1}_{\\tau}(I(p)) =\\begin{cases}\n",
        "        1 \\; \\text{if} \\: I(p)<=\\tau\\\\\n",
        "        0 \\; \\text{otherwise}\n",
        "\\end{cases}$\n",
        "\n",
        "Implement this algorithm in a function called ``segmentation_otsu``. Note : only analyse thresholds which produce two distinct regions : you cannot have a region with no pixels. Furthemore, remember that the image is normalised between 0 and 1, with 256 discrete values. Choose the threshold values accordingly."
      ]
    },
    {
      "cell_type": "code",
      "metadata": {
        "id": "qu-Vh-8jlkpL"
      },
      "source": [
        "# This function returns the segmentation of the algorithm of otsu, as well as the threshold found\n",
        "def segmentation_otsu(img):\n",
        "\n",
        "    # FILL IN CODE HERE\n",
        "    return seg_otstu_out,tau_out"
      ],
      "execution_count": null,
      "outputs": []
    },
    {
      "cell_type": "markdown",
      "metadata": {
        "id": "Df36hSBQlkpM"
      },
      "source": [
        "Carry out the segmentation on the input image and display the result"
      ]
    },
    {
      "cell_type": "code",
      "metadata": {
        "id": "snVP6bSilkpM"
      },
      "source": [
        "img_out_otsu,tau = segmentation_otsu(img_gray)\n",
        "display_image(img_out_otsu)\n",
        "write_image(img_out_otsu,file_name+'_segmentation_otsu.png')"
      ],
      "execution_count": null,
      "outputs": []
    },
    {
      "cell_type": "markdown",
      "metadata": {
        "id": "DJ8IKYO6lkpM"
      },
      "source": [
        "__Question__ What problem can you see with the segmentation result ? What morphological technique(s) (seen in the lesson) could you use to clean the result up ? "
      ]
    },
    {
      "cell_type": "markdown",
      "metadata": {
        "id": "FR7q4sxelkpN"
      },
      "source": [
        "__Answer__ "
      ]
    },
    {
      "cell_type": "markdown",
      "metadata": {
        "id": "6zpcXaWtlkpN"
      },
      "source": [
        "Carry out this technique to clean up the output image, and imwrite the result. You can find the necessary function(s) in the following package :\n",
        "\n",
        "skimage.morphology\n",
        "\n",
        "Choose the neighbourhood parameter of the functions to obtain the best results."
      ]
    },
    {
      "cell_type": "code",
      "metadata": {
        "id": "0jkjW_dnlkpN"
      },
      "source": [
        "from skimage.morphology import opening, closing\n",
        "\n",
        "struct_size = 7\n",
        "struct_el = np.ones((struct_size,struct_size))\n",
        "img_out_otsu_cleaned = # FILL IN CODE HERE\n",
        "\n",
        "display_image(img_out_otsu_cleaned)\n",
        "write_image(img_out_otsu_cleaned,file_name+'_segmentation_otsu_cleaned_1.png')"
      ],
      "execution_count": null,
      "outputs": []
    },
    {
      "cell_type": "markdown",
      "metadata": {
        "id": "uxHNxzHUlkpO"
      },
      "source": [
        "__Question__ In which order did you propose to carry out the morphological operations ? Why ?"
      ]
    },
    {
      "cell_type": "markdown",
      "metadata": {
        "id": "YzWJRq0XlkpO"
      },
      "source": [
        "__Answer__"
      ]
    },
    {
      "cell_type": "markdown",
      "metadata": {
        "id": "dUcX2l5SlkpO"
      },
      "source": [
        "Let's change the image, and carry out the segmentation again."
      ]
    },
    {
      "cell_type": "code",
      "metadata": {
        "id": "TpaYK2OklkpP"
      },
      "source": [
        "file_dir = 'images/'\n",
        "file_name = 'town'\n",
        "file_ext = '.png'\n",
        "\n",
        "if (is_colab == True):\n",
        "  !wget \"https://perso.telecom-paristech.fr/anewson/doc/images/town.png\"\n",
        "  img_gray,_ = read_image(file_name+file_ext)\n",
        "else:\n",
        "  img_gray,_ = read_image(file_dir+file_name+file_ext)\n",
        "\n",
        "display_image(img_gray)\n",
        "img_size = img_gray.shape\n",
        "img_size\n",
        "img_out_otsu,tau = segmentation_otsu(img_gray)\n",
        "display_image(img_out_otsu)\n",
        "write_image(img_out_otsu,file_name+'_segmentation_otsu.png')"
      ],
      "execution_count": null,
      "outputs": []
    },
    {
      "cell_type": "markdown",
      "metadata": {
        "id": "AUcVK1b5lkpP"
      },
      "source": [
        "As we can see, there is no notion of connectivity in the algorithm of Otsu (two regions far away can be in the same segment). For such a notion, we turn to region merging."
      ]
    },
    {
      "cell_type": "markdown",
      "metadata": {
        "id": "UiIBeQVZlkpP"
      },
      "source": [
        "## Region merging\n",
        "\n",
        "The region merging algorithm is quite simple : we start with a small region, and add new pixels progressively to the region. More precisely, at each iteration of the algorithm, we attempt to add the neighbours of the pixels in the current segmentation. We add new pixels according to the criterion :\n",
        "\n",
        "- $I(p)$ is added to the region if the absolute difference between the pixel value and the region's average value is less than a threshold value (which you must set).\n",
        "\n",
        "First, create a function called ``initialize_segmentation`` which initialises the segmentation with a small circular region centred on a given seed point (the seed point is an input). For this, the following function :\n",
        "\n",
        "- scipy.ndimage.morphology.distance_transform_edt\n",
        "\n",
        "can be useful."
      ]
    },
    {
      "cell_type": "code",
      "metadata": {
        "id": "55sQCZbZlkpQ"
      },
      "source": [
        "from scipy.ndimage.morphology import distance_transform_edt\n",
        "\n",
        "def initialize_segmentation(seed_pt,img_shape):\n",
        "    # FILL IN CODE HERE \n",
        "    return seg_init"
      ],
      "execution_count": null,
      "outputs": []
    },
    {
      "cell_type": "markdown",
      "metadata": {
        "id": "0I4UALfalkpQ"
      },
      "source": [
        "Now, create a function called ``segmentation_region_growing`` which carries out the region growing algorithm, with the criterion above, and which uses the ``initialize_segmentation`` function. Again, the functions from ``scipy.ndimage.morphology`` can be useful here.\n",
        "\n",
        "__IMPORTANT NOTE__ Once a pixel has been added to the region, it is in the region permanently : it is not checked again in further iterations (otherwise we could remove pixels which were added)."
      ]
    },
    {
      "cell_type": "code",
      "metadata": {
        "id": "5F7pNENUlkpQ"
      },
      "source": [
        "from scipy.ndimage import binary_dilation\n",
        "\n",
        "# This function returns both the final segmentation and the initialisation\n",
        "def segmentation_region_growing(img,seed_pt,tau):\n",
        "\n",
        "    # FILL IN CODE HERE\n",
        "\n",
        "    return seg,seg_init"
      ],
      "execution_count": null,
      "outputs": []
    },
    {
      "cell_type": "markdown",
      "metadata": {
        "id": "SpTBPbHWlkpR"
      },
      "source": [
        "Carry out the segmentation on the input image with the seed point and threshold specified in the following code :"
      ]
    },
    {
      "cell_type": "code",
      "metadata": {
        "id": "RJcI_5SjlkpR"
      },
      "source": [
        "seed_pt = np.asarray([130,350])\n",
        "tau = 20.0 * (1.0/256.0)\n",
        "img_out_region_growing,seg_init = segmentation_region_growing(img_gray,seed_pt,tau)\n",
        "display_image(img_out_region_growing)\n",
        "write_image(seg_init,file_name+'_segmentation_region_growing_init.png')\n",
        "write_image(img_out_region_growing,file_name+'_segmentation_region_growing.png')"
      ],
      "execution_count": null,
      "outputs": []
    },
    {
      "cell_type": "code",
      "metadata": {
        "id": "xkv1OkVIlkpR"
      },
      "source": [
        ""
      ],
      "execution_count": null,
      "outputs": []
    }
  ]
}