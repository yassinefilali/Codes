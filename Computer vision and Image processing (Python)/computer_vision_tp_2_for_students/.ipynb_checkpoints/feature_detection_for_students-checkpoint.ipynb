{
 "cells": [
  {
   "cell_type": "markdown",
   "metadata": {
    "id": "Blb7M3ORk7he"
   },
   "source": [
    "# TP 2 : Computer Vision\n",
    "\n",
    "## Part 2 : feature detection\n",
    "\n",
    "In this part of the TP, we are going to look at the following feature detector :\n",
    "\n",
    "- Harris corner detection\n",
    "\n",
    "First, let us again load some packages and define some helper functions"
   ]
  },
  {
   "cell_type": "code",
   "execution_count": 1,
   "metadata": {
    "id": "5eLpF4Fmk7hk"
   },
   "outputs": [
    {
     "ename": "NameError",
     "evalue": "name 'is_colab' is not defined",
     "output_type": "error",
     "traceback": [
      "\u001b[1;31m---------------------------------------------------------------------------\u001b[0m",
      "\u001b[1;31mNameError\u001b[0m                                 Traceback (most recent call last)",
      "\u001b[1;32m<ipython-input-1-6e377af70bef>\u001b[0m in \u001b[0;36m<module>\u001b[1;34m\u001b[0m\n\u001b[0;32m     44\u001b[0m \u001b[0mfile_ext\u001b[0m \u001b[1;33m=\u001b[0m \u001b[1;34m'.png'\u001b[0m\u001b[1;33m\u001b[0m\u001b[1;33m\u001b[0m\u001b[0m\n\u001b[0;32m     45\u001b[0m \u001b[1;33m\u001b[0m\u001b[0m\n\u001b[1;32m---> 46\u001b[1;33m \u001b[1;32mif\u001b[0m \u001b[1;33m(\u001b[0m\u001b[0mis_colab\u001b[0m \u001b[1;33m==\u001b[0m \u001b[1;32mTrue\u001b[0m\u001b[1;33m)\u001b[0m\u001b[1;33m:\u001b[0m\u001b[1;33m\u001b[0m\u001b[1;33m\u001b[0m\u001b[0m\n\u001b[0m\u001b[0;32m     47\u001b[0m   \u001b[0mget_ipython\u001b[0m\u001b[1;33m(\u001b[0m\u001b[1;33m)\u001b[0m\u001b[1;33m.\u001b[0m\u001b[0msystem\u001b[0m\u001b[1;33m(\u001b[0m\u001b[1;34m'wget \"https://perso.telecom-paristech.fr/anewson/doc/images/mit.png\"'\u001b[0m\u001b[1;33m)\u001b[0m\u001b[1;33m\u001b[0m\u001b[1;33m\u001b[0m\u001b[0m\n\u001b[0;32m     48\u001b[0m   \u001b[0mimg_gray\u001b[0m\u001b[1;33m,\u001b[0m\u001b[0m_\u001b[0m \u001b[1;33m=\u001b[0m \u001b[0mread_image\u001b[0m\u001b[1;33m(\u001b[0m\u001b[0mfile_name\u001b[0m\u001b[1;33m+\u001b[0m\u001b[0mfile_ext\u001b[0m\u001b[1;33m)\u001b[0m\u001b[1;33m\u001b[0m\u001b[1;33m\u001b[0m\u001b[0m\n",
      "\u001b[1;31mNameError\u001b[0m: name 'is_colab' is not defined"
     ]
    }
   ],
   "source": [
    "from matplotlib import pyplot as plt\n",
    "import numpy as np \n",
    "import imageio\n",
    "from skimage import color\n",
    "from scipy import signal\n",
    "from scipy.ndimage.morphology import binary_dilation\n",
    "\n",
    "def read_image(file_name):\n",
    "    img_color = imageio.imread(file_name)\n",
    "    img_gray = color.rgb2gray(img_color)\n",
    "    return img_gray,img_color\n",
    "    \n",
    "def write_image(img_in,file_name_out):\n",
    "    imageio.imwrite(file_name_out, np.uint8(255.0*img_in))\n",
    "    \n",
    "def display_image(img_in):\n",
    "    plt.figure(figsize=(10, 10))\n",
    "    if (img_in.ndim == 2):\n",
    "        plt.imshow(img_in,cmap='gray')\n",
    "    elif (img_in.ndim == 3):\n",
    "        # careful, in this case we supppose the pixel values are between 0 and 255\n",
    "        plt.imshow(np.uint8(img_in))\n",
    "    else:\n",
    "        print('Error, unknown number of dimensions in image')\n",
    "    return\n",
    "\n",
    "# this function annotates an image with coloured squares at the positions detected by the harris detector\n",
    "def annotate_image(img_in, img_harris):\n",
    "    \n",
    "    img_harris_out = np.tile( np.expand_dims(img_in,axis=2), (1,1,3))\n",
    "    block_size = 5\n",
    "    struct_el = np.ones((block_size,block_size))\n",
    "    # now annotate the image\n",
    "    img_harris = binary_dilation(img_harris,struct_el)\n",
    "    img_harris_out[img_harris>0,0] = 1.0\n",
    "    img_harris_out[img_harris>0,1:3] = 0.0\n",
    "    \n",
    "        \n",
    "    return img_harris_out\n",
    "\n",
    "\n",
    "file_dir = 'images/'\n",
    "file_name = 'mit'\n",
    "file_ext = '.png'\n",
    "\n",
    "if (is_colab == True):\n",
    "  !wget \"https://perso.telecom-paristech.fr/anewson/doc/images/mit.png\"\n",
    "  img_gray,_ = read_image(file_name+file_ext)\n",
    "else:\n",
    "  img_gray,_ = read_image(file_dir+file_name+file_ext)\n",
    "img_gray.shape"
   ]
  },
  {
   "cell_type": "markdown",
   "metadata": {
    "id": "zS-38C_9k7hm"
   },
   "source": [
    "The goal of the Harris detector is to detect corners. The criterion used is the following : if we shift the image (spatially) in any direction, the underlying image should change values. In other words, we should be able to distinguish between the initial image and the shifted image. This is not true, for example, with constant images or edges; there is an ambiguity (see the lesson slides for more detail).\n",
    "\n",
    "This criterion is formalised by associating the following matrix with __each pixel__ $p$ in the image :\n",
    "\n",
    "$A = \n",
    "    \\begin{bmatrix}\n",
    "        \\sum_{q \\in \\Psi_p} I_x(q)^2 & \\sum_{q \\in \\Psi_p} I_x(q)I_y(q) \\\\\n",
    "        \\sum_{q \\in \\Psi_p} I_x(q)I_y(q) & \\sum_{q \\in \\Psi_p} I_y(q)^2\n",
    "    \\end{bmatrix}\n",
    "$\n",
    "\n",
    "where $I_x$ is the $x$-direction component of image gradient, and similarly for $I_y$, and $\\Psi_p$ is a small ''patch'' centred on $p$. A patch is a small image square.\n",
    "\n",
    "Each pixel, therefore, contains a descriptor. The Harris detector consists in detecting the pixels whose descriptor verifies the following criterion :\n",
    "\n",
    "$| \\text{det}(A) - \\alpha \\text{trace}(A)^2 |  >k$\n",
    "\n",
    "where det refers to the determinant of the matrix, and $k$ is a threshold. If this criterion is verified, then both the eigenvalues of the matrix are very large, which means that the two principal directions of local motion in the image lead to large changes in the image (which is what we were looking for). In fact, this does not correspond to __only__ corners, however corners do verify this criterion. \n",
    "\n",
    "For more precise details about this, again, see the slides.\n",
    "\n",
    "We are going to implement this detector now.\n",
    "\n",
    "Firstly, implement a function ``harris_feature`` which calculates the previous criterion for each pixel. You will have to implement the following steps :\n",
    "\n",
    "- calculate the necessar gradients (you can use the ``np.gradient`` function) \n",
    "- create a filter to calculate the average value of the different gradients in a patch region. You should calculate these averages __before__ carrying out the two loops over the pixels, to avoid inefficient computation\n",
    "- for each pixel, create the matrix $A$ and determine the Harris feature. For the matrix operations, you can use the ``np.linalg`` subpackage\n",
    "- threshold the resulting image\n",
    "\n",
    "\n",
    "Use the following parameters :\n",
    "\n",
    "- patch_size = 7\n",
    "- $\\alpha$ = 0.04\n",
    "- $k$ = 0.0002"
   ]
  },
  {
   "cell_type": "code",
   "execution_count": null,
   "metadata": {
    "id": "k_xuGSwLk7hm"
   },
   "outputs": [],
   "source": [
    "def harris_feature(img,k):\n",
    "    # FILL IN CODE HERE\n",
    "    return img_harris_detect\n",
    "    "
   ]
  },
  {
   "cell_type": "markdown",
   "metadata": {
    "id": "4fgeL5JTk7hm"
   },
   "source": [
    "Now, display the resulting image. You can use the function ``annotate_image``. Note, this outputs and RGB image, where the detected points are annotated as blocks of a certain size (5 here), in red. To display this image, you need to put the pixel values back to the range $0, \\dots, 255$"
   ]
  },
  {
   "cell_type": "code",
   "execution_count": null,
   "metadata": {
    "id": "mfJaLlQmk7hn"
   },
   "outputs": [],
   "source": [
    "k = 0.00002\n",
    "img_harris = harris_feature(img_gray,k)\n",
    "display_image(255.0*annotate_image(img_gray,img_harris))"
   ]
  },
  {
   "cell_type": "markdown",
   "metadata": {
    "id": "9BC2W-pkk7hn"
   },
   "source": [
    "Now, you should observe something here: regions with many detections. Therefore, there is a second step : __non-maximum suppression__. This simply corresponds to removing detected pixels for which the Harris feature is not the maximum in a certain region.\n",
    "\n",
    "Copy and paste the ``harris_feature`` code, and include non-maximum suppression before the output. For this, the following function can be useful:\n",
    "\n",
    "- scipy.ndimage.maximum_filter()"
   ]
  },
  {
   "cell_type": "code",
   "execution_count": null,
   "metadata": {
    "id": "gJggxGhrk7hn"
   },
   "outputs": [],
   "source": [
    "from scipy.ndimage import maximum_filter\n",
    "\n",
    "def harris_feature(img,k):\n",
    "    return img_harris_detect\n",
    "    "
   ]
  },
  {
   "cell_type": "markdown",
   "metadata": {
    "id": "knPTHWMWk7ho"
   },
   "source": [
    "Carry out the algorithm and display the result"
   ]
  },
  {
   "cell_type": "code",
   "execution_count": null,
   "metadata": {
    "id": "d3ci_Hk6k7ho"
   },
   "outputs": [],
   "source": [
    "k = 0.00002\n",
    "img_harris = harris_feature(img_gray,k)\n",
    "display_image(255.0*annotate_image(img_gray,img_harris))"
   ]
  },
  {
   "cell_type": "markdown",
   "metadata": {
    "id": "HYJDboOQk7ho"
   },
   "source": [
    "__Question__ Are there any corners missed ? Why do you think this is ? What solution could you propose (which we have seen in the first lesson) to improve the result."
   ]
  },
  {
   "cell_type": "markdown",
   "metadata": {
    "id": "FLnKWtKbk7ho"
   },
   "source": [
    "__Answer__"
   ]
  }
 ],
 "metadata": {
  "colab": {
   "collapsed_sections": [],
   "name": "feature_detection_for_students.ipynb",
   "provenance": []
  },
  "kernelspec": {
   "display_name": "Python 3",
   "language": "python",
   "name": "python3"
  },
  "language_info": {
   "codemirror_mode": {
    "name": "ipython",
    "version": 3
   },
   "file_extension": ".py",
   "mimetype": "text/x-python",
   "name": "python",
   "nbconvert_exporter": "python",
   "pygments_lexer": "ipython3",
   "version": "3.7.6"
  }
 },
 "nbformat": 4,
 "nbformat_minor": 1
}
