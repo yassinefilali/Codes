{
 "cells": [
  {
   "cell_type": "markdown",
   "metadata": {
    "id": "4x05A-9PSr-d"
   },
   "source": [
    "# Part 2 : Histogram manipulation and equalisation\n",
    "\n",
    "In this part of the TP, we are going to look at histogram equalisation. First, let us load the necessary packages and redefine some helper functions. Note that in this part of TP, you can use the plt.imshow function, since we are not interested in the aliasing effects which might occur.\n",
    "\n",
    "### Your task\n",
    "\n",
    "In the lab work, you must fill in the code in the places marked FILL IN CODE, or answer the written questions directly on the notebook."
   ]
  },
  {
   "cell_type": "code",
   "execution_count": 1,
   "metadata": {
    "id": "PFi7on-vSr-f"
   },
   "outputs": [],
   "source": [
    "from matplotlib import pyplot as plt\n",
    "import numpy as np \n",
    "import imageio\n",
    "from skimage import color\n",
    "\n",
    "is_colab = True\n",
    "\n",
    "def read_image(file_name):\n",
    "    img_color = imageio.imread(file_name)\n",
    "    # NOTE : color.rgb2gray converts to the range 0 ... 1\n",
    "    img_gray = color.rgb2gray(img_color)\n",
    "    return img_gray,img_color\n",
    "    \n",
    "def write_image(img_in,file_name_out):\n",
    "    imageio.imwrite(file_name_out, np.uint8(255.0*img_in))\n",
    "    \n",
    "def display_image(img_in):\n",
    "    if (img_in.ndim == 2):\n",
    "        plt.imshow(img_in,cmap='gray')\n",
    "    elif (img_in.ndim == 3):\n",
    "        # careful, in this case we supppose the pixel values are between 0 and 255\n",
    "        plt.imshow(np.uint8(img_in))\n",
    "    else:\n",
    "        print('Error, unknown number of dimensions in image')\n",
    "    return"
   ]
  },
  {
   "cell_type": "code",
   "execution_count": 2,
   "metadata": {
    "id": "5Wk1L_5CSr-g"
   },
   "outputs": [
    {
     "name": "stderr",
     "output_type": "stream",
     "text": [
      "SYSTEM_WGETRC = c:/progra~1/wget/etc/wgetrc\n",
      "syswgetrc = C:\\Program Files (x86)\\Gow/etc/wgetrc\n",
      "--2021-01-20 01:55:31--  https://perso.telecom-paristech.fr/anewson/doc/images/boat.png\n",
      "Resolving perso.telecom-paristech.fr... 137.194.2.165\n",
      "Connecting to perso.telecom-paristech.fr|137.194.2.165|:443... connected.\n",
      "ERROR: cannot verify perso.telecom-paristech.fr's certificate, issued by `/C=NL/O=GEANT Vereniging/CN=GEANT OV RSA CA 4':\n",
      "  Self-signed certificate encountered.\n",
      "To connect to perso.telecom-paristech.fr insecurely, use `--no-check-certificate'.\n",
      "Unable to establish SSL connection.\n"
     ]
    },
    {
     "ename": "FileNotFoundError",
     "evalue": "No such file: 'C:\\Users\\Yassine\\Desktop\\tp DL\\computer_vision_tp_1_for_students\\boat.png'",
     "output_type": "error",
     "traceback": [
      "\u001b[1;31m---------------------------------------------------------------------------\u001b[0m",
      "\u001b[1;31mFileNotFoundError\u001b[0m                         Traceback (most recent call last)",
      "\u001b[1;32m<ipython-input-2-c37dc9d46117>\u001b[0m in \u001b[0;36m<module>\u001b[1;34m\u001b[0m\n\u001b[0;32m      5\u001b[0m \u001b[1;32mif\u001b[0m \u001b[1;33m(\u001b[0m\u001b[0mis_colab\u001b[0m \u001b[1;33m==\u001b[0m \u001b[1;32mTrue\u001b[0m\u001b[1;33m)\u001b[0m\u001b[1;33m:\u001b[0m\u001b[1;33m\u001b[0m\u001b[1;33m\u001b[0m\u001b[0m\n\u001b[0;32m      6\u001b[0m   \u001b[0mget_ipython\u001b[0m\u001b[1;33m(\u001b[0m\u001b[1;33m)\u001b[0m\u001b[1;33m.\u001b[0m\u001b[0msystem\u001b[0m\u001b[1;33m(\u001b[0m\u001b[1;34m'wget \"https://perso.telecom-paristech.fr/anewson/doc/images/boat.png\"'\u001b[0m\u001b[1;33m)\u001b[0m\u001b[1;33m\u001b[0m\u001b[1;33m\u001b[0m\u001b[0m\n\u001b[1;32m----> 7\u001b[1;33m   \u001b[0mimg_gray\u001b[0m\u001b[1;33m,\u001b[0m\u001b[0m_\u001b[0m \u001b[1;33m=\u001b[0m \u001b[0mread_image\u001b[0m\u001b[1;33m(\u001b[0m\u001b[0mfile_name\u001b[0m\u001b[1;33m+\u001b[0m\u001b[0mfile_ext\u001b[0m\u001b[1;33m)\u001b[0m\u001b[1;33m\u001b[0m\u001b[1;33m\u001b[0m\u001b[0m\n\u001b[0m\u001b[0;32m      8\u001b[0m \u001b[1;32melse\u001b[0m\u001b[1;33m:\u001b[0m\u001b[1;33m\u001b[0m\u001b[1;33m\u001b[0m\u001b[0m\n\u001b[0;32m      9\u001b[0m   \u001b[0mimg_gray\u001b[0m\u001b[1;33m,\u001b[0m\u001b[0m_\u001b[0m \u001b[1;33m=\u001b[0m \u001b[0mread_image\u001b[0m\u001b[1;33m(\u001b[0m\u001b[0mfile_dir\u001b[0m\u001b[1;33m+\u001b[0m\u001b[0mfile_name\u001b[0m\u001b[1;33m+\u001b[0m\u001b[0mfile_ext\u001b[0m\u001b[1;33m)\u001b[0m\u001b[1;33m\u001b[0m\u001b[1;33m\u001b[0m\u001b[0m\n",
      "\u001b[1;32m<ipython-input-1-c6c1fa455f53>\u001b[0m in \u001b[0;36mread_image\u001b[1;34m(file_name)\u001b[0m\n\u001b[0;32m      7\u001b[0m \u001b[1;33m\u001b[0m\u001b[0m\n\u001b[0;32m      8\u001b[0m \u001b[1;32mdef\u001b[0m \u001b[0mread_image\u001b[0m\u001b[1;33m(\u001b[0m\u001b[0mfile_name\u001b[0m\u001b[1;33m)\u001b[0m\u001b[1;33m:\u001b[0m\u001b[1;33m\u001b[0m\u001b[1;33m\u001b[0m\u001b[0m\n\u001b[1;32m----> 9\u001b[1;33m     \u001b[0mimg_color\u001b[0m \u001b[1;33m=\u001b[0m \u001b[0mimageio\u001b[0m\u001b[1;33m.\u001b[0m\u001b[0mimread\u001b[0m\u001b[1;33m(\u001b[0m\u001b[0mfile_name\u001b[0m\u001b[1;33m)\u001b[0m\u001b[1;33m\u001b[0m\u001b[1;33m\u001b[0m\u001b[0m\n\u001b[0m\u001b[0;32m     10\u001b[0m     \u001b[1;31m# NOTE : color.rgb2gray converts to the range 0 ... 1\u001b[0m\u001b[1;33m\u001b[0m\u001b[1;33m\u001b[0m\u001b[1;33m\u001b[0m\u001b[0m\n\u001b[0;32m     11\u001b[0m     \u001b[0mimg_gray\u001b[0m \u001b[1;33m=\u001b[0m \u001b[0mcolor\u001b[0m\u001b[1;33m.\u001b[0m\u001b[0mrgb2gray\u001b[0m\u001b[1;33m(\u001b[0m\u001b[0mimg_color\u001b[0m\u001b[1;33m)\u001b[0m\u001b[1;33m\u001b[0m\u001b[1;33m\u001b[0m\u001b[0m\n",
      "\u001b[1;32m~\\anaconda3\\lib\\site-packages\\imageio\\core\\functions.py\u001b[0m in \u001b[0;36mimread\u001b[1;34m(uri, format, **kwargs)\u001b[0m\n\u001b[0;32m    262\u001b[0m \u001b[1;33m\u001b[0m\u001b[0m\n\u001b[0;32m    263\u001b[0m     \u001b[1;31m# Get reader and read first\u001b[0m\u001b[1;33m\u001b[0m\u001b[1;33m\u001b[0m\u001b[1;33m\u001b[0m\u001b[0m\n\u001b[1;32m--> 264\u001b[1;33m     \u001b[0mreader\u001b[0m \u001b[1;33m=\u001b[0m \u001b[0mread\u001b[0m\u001b[1;33m(\u001b[0m\u001b[0muri\u001b[0m\u001b[1;33m,\u001b[0m \u001b[0mformat\u001b[0m\u001b[1;33m,\u001b[0m \u001b[1;34m\"i\"\u001b[0m\u001b[1;33m,\u001b[0m \u001b[1;33m**\u001b[0m\u001b[0mkwargs\u001b[0m\u001b[1;33m)\u001b[0m\u001b[1;33m\u001b[0m\u001b[1;33m\u001b[0m\u001b[0m\n\u001b[0m\u001b[0;32m    265\u001b[0m     \u001b[1;32mwith\u001b[0m \u001b[0mreader\u001b[0m\u001b[1;33m:\u001b[0m\u001b[1;33m\u001b[0m\u001b[1;33m\u001b[0m\u001b[0m\n\u001b[0;32m    266\u001b[0m         \u001b[1;32mreturn\u001b[0m \u001b[0mreader\u001b[0m\u001b[1;33m.\u001b[0m\u001b[0mget_data\u001b[0m\u001b[1;33m(\u001b[0m\u001b[1;36m0\u001b[0m\u001b[1;33m)\u001b[0m\u001b[1;33m\u001b[0m\u001b[1;33m\u001b[0m\u001b[0m\n",
      "\u001b[1;32m~\\anaconda3\\lib\\site-packages\\imageio\\core\\functions.py\u001b[0m in \u001b[0;36mget_reader\u001b[1;34m(uri, format, mode, **kwargs)\u001b[0m\n\u001b[0;32m    171\u001b[0m \u001b[1;33m\u001b[0m\u001b[0m\n\u001b[0;32m    172\u001b[0m     \u001b[1;31m# Create request object\u001b[0m\u001b[1;33m\u001b[0m\u001b[1;33m\u001b[0m\u001b[1;33m\u001b[0m\u001b[0m\n\u001b[1;32m--> 173\u001b[1;33m     \u001b[0mrequest\u001b[0m \u001b[1;33m=\u001b[0m \u001b[0mRequest\u001b[0m\u001b[1;33m(\u001b[0m\u001b[0muri\u001b[0m\u001b[1;33m,\u001b[0m \u001b[1;34m\"r\"\u001b[0m \u001b[1;33m+\u001b[0m \u001b[0mmode\u001b[0m\u001b[1;33m,\u001b[0m \u001b[1;33m**\u001b[0m\u001b[0mkwargs\u001b[0m\u001b[1;33m)\u001b[0m\u001b[1;33m\u001b[0m\u001b[1;33m\u001b[0m\u001b[0m\n\u001b[0m\u001b[0;32m    174\u001b[0m \u001b[1;33m\u001b[0m\u001b[0m\n\u001b[0;32m    175\u001b[0m     \u001b[1;31m# Get format\u001b[0m\u001b[1;33m\u001b[0m\u001b[1;33m\u001b[0m\u001b[1;33m\u001b[0m\u001b[0m\n",
      "\u001b[1;32m~\\anaconda3\\lib\\site-packages\\imageio\\core\\request.py\u001b[0m in \u001b[0;36m__init__\u001b[1;34m(self, uri, mode, **kwargs)\u001b[0m\n\u001b[0;32m    124\u001b[0m \u001b[1;33m\u001b[0m\u001b[0m\n\u001b[0;32m    125\u001b[0m         \u001b[1;31m# Parse what was given\u001b[0m\u001b[1;33m\u001b[0m\u001b[1;33m\u001b[0m\u001b[1;33m\u001b[0m\u001b[0m\n\u001b[1;32m--> 126\u001b[1;33m         \u001b[0mself\u001b[0m\u001b[1;33m.\u001b[0m\u001b[0m_parse_uri\u001b[0m\u001b[1;33m(\u001b[0m\u001b[0muri\u001b[0m\u001b[1;33m)\u001b[0m\u001b[1;33m\u001b[0m\u001b[1;33m\u001b[0m\u001b[0m\n\u001b[0m\u001b[0;32m    127\u001b[0m \u001b[1;33m\u001b[0m\u001b[0m\n\u001b[0;32m    128\u001b[0m         \u001b[1;31m# Set extension\u001b[0m\u001b[1;33m\u001b[0m\u001b[1;33m\u001b[0m\u001b[1;33m\u001b[0m\u001b[0m\n",
      "\u001b[1;32m~\\anaconda3\\lib\\site-packages\\imageio\\core\\request.py\u001b[0m in \u001b[0;36m_parse_uri\u001b[1;34m(self, uri)\u001b[0m\n\u001b[0;32m    276\u001b[0m                 \u001b[1;31m# Reading: check that the file exists (but is allowed a dir)\u001b[0m\u001b[1;33m\u001b[0m\u001b[1;33m\u001b[0m\u001b[1;33m\u001b[0m\u001b[0m\n\u001b[0;32m    277\u001b[0m                 \u001b[1;32mif\u001b[0m \u001b[1;32mnot\u001b[0m \u001b[0mos\u001b[0m\u001b[1;33m.\u001b[0m\u001b[0mpath\u001b[0m\u001b[1;33m.\u001b[0m\u001b[0mexists\u001b[0m\u001b[1;33m(\u001b[0m\u001b[0mfn\u001b[0m\u001b[1;33m)\u001b[0m\u001b[1;33m:\u001b[0m\u001b[1;33m\u001b[0m\u001b[1;33m\u001b[0m\u001b[0m\n\u001b[1;32m--> 278\u001b[1;33m                     \u001b[1;32mraise\u001b[0m \u001b[0mFileNotFoundError\u001b[0m\u001b[1;33m(\u001b[0m\u001b[1;34m\"No such file: '%s'\"\u001b[0m \u001b[1;33m%\u001b[0m \u001b[0mfn\u001b[0m\u001b[1;33m)\u001b[0m\u001b[1;33m\u001b[0m\u001b[1;33m\u001b[0m\u001b[0m\n\u001b[0m\u001b[0;32m    279\u001b[0m             \u001b[1;32melse\u001b[0m\u001b[1;33m:\u001b[0m\u001b[1;33m\u001b[0m\u001b[1;33m\u001b[0m\u001b[0m\n\u001b[0;32m    280\u001b[0m                 \u001b[1;31m# Writing: check that the directory to write to does exist\u001b[0m\u001b[1;33m\u001b[0m\u001b[1;33m\u001b[0m\u001b[1;33m\u001b[0m\u001b[0m\n",
      "\u001b[1;31mFileNotFoundError\u001b[0m: No such file: 'C:\\Users\\Yassine\\Desktop\\tp DL\\computer_vision_tp_1_for_students\\boat.png'"
     ]
    }
   ],
   "source": [
    "file_dir = 'images/'\n",
    "file_name = 'boat'\n",
    "file_ext = '.png'\n",
    "\n",
    "if (is_colab == True):\n",
    "  !wget \"https://perso.telecom-paristech.fr/anewson/doc/images/boat.png\"\n",
    "  img_gray,_ = read_image(file_name+file_ext)\n",
    "else:\n",
    "  img_gray,_ = read_image(file_dir+file_name+file_ext)\n",
    "\n",
    "display_image(img_gray)\n",
    "img_gray.shape"
   ]
  },
  {
   "cell_type": "markdown",
   "metadata": {
    "id": "Wz7kobp4Sr-g"
   },
   "source": [
    "As you can see, this image has pretty bad contrast : it is difficult to see in it. Now, display the histogram of this image to show this (see the intro to images notebook for help)"
   ]
  },
  {
   "cell_type": "code",
   "execution_count": null,
   "metadata": {
    "id": "fEobFPPlSr-g"
   },
   "outputs": [],
   "source": [
    "# FILL IN CODE"
   ]
  },
  {
   "cell_type": "markdown",
   "metadata": {
    "id": "yn6Ehj5DSr-h"
   },
   "source": [
    "You will notice that the histogram is not very well spread out over the whole range of the image. We are going to correct this in this part of the TP, by imposing a __uniform histogram__ on the image.\n",
    "\n",
    "Firstly, calculate the cumulative histogram $H$ of the image and display it (use the np.cumsum function)."
   ]
  },
  {
   "cell_type": "code",
   "execution_count": null,
   "metadata": {
    "id": "mwlytV1WSr-h"
   },
   "outputs": [],
   "source": [
    "# FILL IN CODE"
   ]
  },
  {
   "cell_type": "markdown",
   "metadata": {
    "id": "j9GlPxAqSr-h"
   },
   "source": [
    "## Histogram equalisation\n",
    "\n",
    "Now, if we apply the cumulative histogram $H$ as a contrast change, then we are imposing a uniform histogram on the image (see the lesson slides). A contrast change means we do not change the order of the __values__ of the pixels. We are going to use $H$ as a type of lookup table to find the new values of the image.\n",
    "\n",
    "In practice, this can be done with the following method :\n",
    "\n",
    "- normalise the cumulative histogram such that the largest value is 1.0. This will map the final image to the interval $0, \\dots, 1$ (you will still have a discrete list of values, but floating point ones)\n",
    "- convert the image grey-levels back to the interval $\\{0, \\dots 255\\}$ as int values. This will allow us to use these values as indices in H\n",
    "- apply the cumulative histogram to the values of the image pixels\n",
    "\n",
    "Implement this algorithm now in a function ``equalize_histogram``. __Note__ In the ``np.histogram`` function, the histogram values have one less element than the histogram bins"
   ]
  },
  {
   "cell_type": "code",
   "execution_count": null,
   "metadata": {
    "id": "1QRqzwopSr-i"
   },
   "outputs": [],
   "source": [
    "def equalize_histogram(img_in):\n",
    "    # FILL IN CODE\n",
    "    return img_equalise"
   ]
  },
  {
   "cell_type": "markdown",
   "metadata": {
    "id": "n2Y3_IjhSr-i"
   },
   "source": [
    "Carry out the algorithm on the input image and display the image. Is the result better ?"
   ]
  },
  {
   "cell_type": "code",
   "execution_count": null,
   "metadata": {
    "id": "ILBM9-fsSr-i"
   },
   "outputs": [],
   "source": [
    "img_gray_equalise = equalize_histogram(img_gray)\n",
    "display_image(img_gray_equalise)"
   ]
  },
  {
   "cell_type": "markdown",
   "metadata": {
    "id": "z-oPkwy1Sr-j"
   },
   "source": [
    "Now, we display both the histogram and cumulative histogram of the equalised image"
   ]
  },
  {
   "cell_type": "code",
   "execution_count": null,
   "metadata": {
    "id": "sogN1HzGSr-j"
   },
   "outputs": [],
   "source": [
    "hist_vals, hist_bins,_ = plt.hist(img_gray_equalise.flatten(), bins=np.linspace(0,1,255))\n",
    "plt.figure()\n",
    "plt.plot(hist_bins[:-1],hist_vals.cumsum())"
   ]
  },
  {
   "cell_type": "markdown",
   "metadata": {
    "id": "TAhJpFOHSr-j"
   },
   "source": [
    "__Questions__ Is the histogram of the equalised image perfectly uniform (flat) ? Why is this the case ?"
   ]
  },
  {
   "cell_type": "markdown",
   "metadata": {
    "id": "G1BAGT5KSr-j"
   },
   "source": [
    "__Answer__"
   ]
  },
  {
   "cell_type": "markdown",
   "metadata": {
    "id": "x4PMtWGzSr-k"
   },
   "source": [
    "### Colour images\n",
    "\n",
    "Let us try to apply our algorithm to a colour image. First, let's read the image and display it"
   ]
  },
  {
   "cell_type": "code",
   "execution_count": null,
   "metadata": {
    "id": "N_7W0AgKSr-k"
   },
   "outputs": [],
   "source": [
    "file_dir = 'images/'\n",
    "file_name = 'alps_contrast'\n",
    "file_ext = '.png'\n",
    "\n",
    "if (is_colab == True):\n",
    "  !wget \"https://perso.telecom-paristech.fr/anewson/doc/images/alps_contrast.png\"\n",
    "  _,img_color = read_image(file_name+file_ext)\n",
    "else:\n",
    "  _,img_color = read_image(file_dir+file_name+file_ext)\n",
    "\n",
    "display_image(img_color)\n",
    "img_color.shape"
   ]
  },
  {
   "cell_type": "markdown",
   "metadata": {
    "id": "l21A9XIWSr-k"
   },
   "source": [
    "Now, create a function ``equalize_histogram_color`` which uses your grey-level function to carry out colour histogram equalisation in each colour channel independently, and display the output image. Careful to\n",
    "\n",
    "- normalise the input range to $0, \\dots, 1$ for each channel when processing it\n",
    "- put the output range back to $0, \\dots, 255$ when displaying.\n",
    "\n",
    "To view the result better, you can write it to a file."
   ]
  },
  {
   "cell_type": "code",
   "execution_count": null,
   "metadata": {
    "id": "0_jW7bsQSr-k"
   },
   "outputs": [],
   "source": [
    "def equalize_histogram_color(img_color):\n",
    "    # FILL IN CODE\n",
    "    return img_color_equalized\n",
    "\n",
    "\n",
    "img_color_equalized = equalize_histogram_color(img_color)\n",
    "display_image(255.0 * img_color_equalized)\n",
    "\n",
    "write_image(img_color_equalized,file_name+'_equalised.png')"
   ]
  },
  {
   "cell_type": "markdown",
   "metadata": {
    "id": "mRu42LDgSr-l"
   },
   "source": [
    "__Question__ Do you think this result looks right ? What may be wrong in our approach ? What could be a solution to this ?"
   ]
  },
  {
   "cell_type": "markdown",
   "metadata": {
    "id": "mat6TZnWSr-l"
   },
   "source": [
    "__Answer__"
   ]
  },
  {
   "cell_type": "code",
   "execution_count": null,
   "metadata": {
    "id": "CGAJcTNxSr-l"
   },
   "outputs": [],
   "source": []
  }
 ],
 "metadata": {
  "colab": {
   "collapsed_sections": [],
   "name": "radiometry_student.ipynb",
   "provenance": []
  },
  "kernelspec": {
   "display_name": "Python 3",
   "language": "python",
   "name": "python3"
  },
  "language_info": {
   "codemirror_mode": {
    "name": "ipython",
    "version": 3
   },
   "file_extension": ".py",
   "mimetype": "text/x-python",
   "name": "python",
   "nbconvert_exporter": "python",
   "pygments_lexer": "ipython3",
   "version": "3.7.6"
  }
 },
 "nbformat": 4,
 "nbformat_minor": 1
}
