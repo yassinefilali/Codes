{
 "cells": [
  {
   "cell_type": "markdown",
   "metadata": {
    "id": "ZhBapz-HcXsi"
   },
   "source": [
    "# Part 3 : Restoration\n",
    "\n",
    "In this part of the TP, we are going to look at image restoration. We will look at several type of noise and ways to remove this noise. We first define some helper functions.\n",
    "\n",
    "### Your task\n",
    "\n",
    "In the lab work, you must fill in the code in the places marked FILL IN CODE, or answer the written questions directly on the notebook."
   ]
  },
  {
   "cell_type": "code",
   "execution_count": null,
   "metadata": {
    "id": "SaAAVYQrcXsj"
   },
   "outputs": [],
   "source": [
    "from matplotlib import pyplot as plt\n",
    "import numpy as np \n",
    "import imageio\n",
    "from skimage import color\n",
    "\n",
    "is_colab = True\n",
    "\n",
    "\n",
    "def read_image(file_name):\n",
    "    img_color = imageio.imread(file_name)\n",
    "    img_gray = color.rgb2gray(img_color)\n",
    "    return img_gray,img_color\n",
    "    \n",
    "def write_image(img_in,file_name_out):\n",
    "    imageio.imwrite(file_name_out, np.uint8(255.0*img_in))\n",
    "    \n",
    "def display_image(img_in):\n",
    "    plt.figure(figsize=(10, 10))\n",
    "    if (img_in.ndim == 2):\n",
    "        plt.imshow(img_in,cmap='gray')\n",
    "    elif (img_in.ndim == 3):\n",
    "        # careful, in this case we supppose the pixel values are between 0 and 255\n",
    "        plt.imshow(np.uint8(img_in))\n",
    "    else:\n",
    "        print('Error, unknown number of dimensions in image')\n",
    "    return\n",
    "\n"
   ]
  },
  {
   "cell_type": "code",
   "execution_count": null,
   "metadata": {
    "id": "RDqf5dW9cjsf"
   },
   "outputs": [],
   "source": [
    "file_dir = 'images/'\n",
    "file_name = 'palma'\n",
    "file_ext = '.png'\n",
    "\n",
    "if (is_colab == True):\n",
    "  !wget \"https://perso.telecom-paristech.fr/anewson/doc/images/palma.png\"\n",
    "  img_gray,_ = read_image(file_name+file_ext)\n",
    "else:\n",
    "  img_gray,_ = read_image(file_dir+file_name+file_ext)\n",
    "\n",
    "display_image(img_gray)\n",
    "img_gray.shape"
   ]
  },
  {
   "cell_type": "markdown",
   "metadata": {
    "id": "cygFdwpwcXsk"
   },
   "source": [
    "We will look at the following noise types :\n",
    "\n",
    "- Gaussian noise\n",
    "- Impulse (salt-and-pepper, 0 or 1) noise\n",
    "- Missing pixels\n",
    "\n",
    "Fill in the following functions to add this noise to a gray-level image. Do not forget to clip the pixel values to the range $(0,1)$ (np.clip)."
   ]
  },
  {
   "cell_type": "code",
   "execution_count": null,
   "metadata": {
    "id": "HkenfrorcXsk"
   },
   "outputs": [],
   "source": [
    "def add_gaussian_noise(img_in,sigma_noise = 0.01):\n",
    "\n",
    "    # FILL IN CODE\n",
    "\n",
    "    return img_out\n",
    "\n",
    "# we define the impulse probability p as the probability of a pixel not being affected\n",
    "def add_impulse_noise(img_in,p=0.9):\n",
    "    # FILL IN CODE\n",
    "    return img_out\n",
    "\n",
    "def add_missing_pixels_noise(img_in,p=0.9):\n",
    "    # FILL IN CODE\n",
    "\n",
    "    return img_out"
   ]
  },
  {
   "cell_type": "markdown",
   "metadata": {
    "id": "yDmlS8hRcXsl"
   },
   "source": [
    "Add the different noises to the input image, and display (or write) the results. Use the following parameters :\n",
    "\n",
    "- sigma_noise=0.05 for the gaussian noise\n",
    "- $p=0.9$, the probability of a pixel __not__ being affected, for the impulse noise and missing pixels"
   ]
  },
  {
   "cell_type": "code",
   "execution_count": null,
   "metadata": {
    "id": "AsMEJTAFcXsl"
   },
   "outputs": [],
   "source": [
    "sigma_noise = 0.05\n",
    "img_gray_gaussian = add_gaussian_noise(img_gray, sigma_noise)\n",
    "write_image(img_gray_gaussian,file_name+'_gaussian_noise.png')\n",
    "\n",
    "img_gray_impulse = add_impulse_noise(img_gray, 0.9)\n",
    "write_image(img_gray_impulse,file_name+'_impulse_noise.png')\n",
    "\n",
    "img_gray_missing = add_missing_pixels_noise(img_gray, 0.9)\n",
    "write_image(img_gray_missing,file_name+'_missing_pixels.png')"
   ]
  },
  {
   "cell_type": "markdown",
   "metadata": {
    "id": "KeLPehS9cXsl"
   },
   "source": [
    "__Question__ For each type of noise, propose a restoration filter (see course slides)."
   ]
  },
  {
   "cell_type": "markdown",
   "metadata": {
    "id": "y7F2U735cXsl"
   },
   "source": [
    "__Answer__ "
   ]
  },
  {
   "cell_type": "markdown",
   "metadata": {
    "id": "FgNOdEK8cXsm"
   },
   "source": [
    "Implement these restoration filters in appropriately named functions, and write the corresponding output images. Try to find the parameters which give the best results (visually).\n",
    "\n",
    "__IMPORTANT NOTE__, you can use the filtering functions of the ``scipy.ndimage`` package, where the filtering is already implemented (do not re-implement the filters)"
   ]
  },
  {
   "cell_type": "code",
   "execution_count": null,
   "metadata": {
    "id": "UP3lk3H1cXsm"
   },
   "outputs": [],
   "source": [
    "from scipy import ndimage\n",
    "\n",
    "# FILL IN CODE : CREATE THE FUNCTIONS TO CARRY OUT THE RESTORATION FILTERS AND WRITE THE RESULTS\n"
   ]
  },
  {
   "cell_type": "markdown",
   "metadata": {
    "id": "eTKewQ3IcXsm"
   },
   "source": [
    "__Question__ Roughly speaking, what is the tradeoff which you are trying to achieve by tuning the parameters ?"
   ]
  },
  {
   "cell_type": "markdown",
   "metadata": {
    "id": "60vURX7ncXsm"
   },
   "source": [
    "__Answer__"
   ]
  },
  {
   "cell_type": "markdown",
   "metadata": {
    "id": "qE_o9pc9cXsn"
   },
   "source": [
    "### Evaluation\n",
    "\n",
    "A commonly used metric for denoising is the ''Peak Signal-to-Noise Ratio'' (PSNR). This is linked to the commonly known mean squared error. The mean squared error is defined, for a reference image $Y$ and a restored image $Y$, of size $m \\times n$ as :\n",
    "\n",
    "- MSE$(Y,I) = \\frac{1}{mn} \\sum_{x,y} \\left( I_{x,y} - Y_{x,y}\\right)^2 $\n",
    "\n",
    "The PSNR is defined, in Decibels, as :\n",
    "\n",
    "PSNR$(Y,I) = 10 * \\log{\\left( \\frac{I_{max}^2}{MSE(Y,I)} \\right)}$,\n",
    "\n",
    "where $I_{max}$ is the maximum value of the image. For us (normalised to 1), this gives :\n",
    "\n",
    "PSNR$(Y,I) = -10 * \\log{ \\left({MSE(Y,I)} \\right)}$.\n",
    "\n",
    "Implement this in a function, and create a code to plot the PSNR for several values of the paramter, __in the Gaussian case only (first filter)__. "
   ]
  },
  {
   "cell_type": "code",
   "execution_count": null,
   "metadata": {
    "id": "ZPOXM2tecXsn"
   },
   "outputs": [],
   "source": [
    "def PSNR(img,img_ref):\n",
    "    # FILL IN CODE\n",
    "    \n",
    "    return psnr\n",
    "\n",
    "# FILL IN CODE : TEST THE PSNR FOR SEVERAL VALUES OF SIGMA"
   ]
  },
  {
   "cell_type": "markdown",
   "metadata": {
    "id": "A6ROKa9OcXsn"
   },
   "source": [
    "## FUTHER RESTORATION TECHNIQUES (THIS IS NOT OBLIGATORY)\n",
    "\n",
    "## Deconvolution\n",
    "\n",
    "In this part of the TP, we are going to try and invert a convolution operation. This is called __deconvolution__, and can be carried out in the Fourier domain, as follows. For an image $I$, filter $f$ and an output $Y$, if we have :\n",
    "\n",
    "$Y = I \\ast f$,\n",
    "\n",
    "then using the convolution theorem (see lesson), we have :\n",
    "\n",
    "$I = \\text{IFFT}\\left(\\frac{\\hat{Y}}{\\hat{f}}\\right)$\n",
    "\n",
    "where $\\hat{Y}$ and $\\hat{f}$ are the Fourier transforms of $Y$ and $f$ respectively.\n",
    "\n",
    "To simplify the problem, we take a square image for this part of the TP.\n"
   ]
  },
  {
   "cell_type": "code",
   "execution_count": null,
   "metadata": {
    "id": "mlE5hCfIcXsn"
   },
   "outputs": [],
   "source": [
    "file_dir = 'images/'\n",
    "file_name = 'boston'\n",
    "file_ext = '.png'\n",
    "\n",
    "if (is_colab == True):\n",
    "  !wget \"https://perso.telecom-paristech.fr/anewson/doc/images/boston.png\"\n",
    "  img_gray,_ = read_image(file_name+file_ext)\n",
    "else:\n",
    "  img_gray,_ = read_image(file_dir+file_name+file_ext)\n",
    "img_gray.shape\n",
    "\n",
    "display_image(img_gray)\n",
    "img_gray.shape"
   ]
  },
  {
   "cell_type": "markdown",
   "metadata": {
    "id": "FISMAts6cXso"
   },
   "source": [
    "Now, let us consider the following fiter, defined in the Fourier domain :"
   ]
  },
  {
   "cell_type": "code",
   "execution_count": null,
   "metadata": {
    "id": "eJggWkKscXso",
    "scrolled": false
   },
   "outputs": [],
   "source": [
    "from scipy import signal\n",
    "\n",
    "img_size = img_gray.shape[0]\n",
    "h_size = int(np.floor(img_size/2.0))\n",
    "f_hat = np.zeros((img_size,img_size))\n",
    "\n",
    "X = np.asarray(range(-h_size,h_size))\n",
    "f_hat = np.tile( np.expand_dims( np.exp(-( X**2) / (2.0*(20.0**2))) , axis=1), (1,img_size)).T\n",
    "f_hat /= f_hat.sum()\n",
    "f_hat = np.fft.ifftshift(f_hat)\n",
    "plt.imshow( np.log( np.abs(f_hat)+1), cmap = 'gray')\n",
    "\n",
    "print(f_hat.shape)"
   ]
  },
  {
   "cell_type": "markdown",
   "metadata": {
    "id": "3a7w32ETcXso"
   },
   "source": [
    "Using the convolution theorem and the inverse Fourier transform, carry out the convolution of the input image with $f$ (in the Fourier domain, so using $\\hat{f}$) and write the result ``img_convolved`` to an output file\n",
    "\n",
    "__Question__ What does this filter do (you can use the visualisation method from the first part of the TP to see what the filter spectrum looks like) ?\n",
    " How can this happen in real life ? "
   ]
  },
  {
   "cell_type": "code",
   "execution_count": null,
   "metadata": {
    "id": "y0pqYHH3cXso"
   },
   "outputs": [],
   "source": [
    "img_convolved = # FILL IN CODE\n",
    "\n",
    "img_convolved -= img_convolved.min()\n",
    "img_convolved /= img_convolved.max()\n",
    "\n",
    "write_image(img_convolved,file_name+'_convolution.png')\n",
    "img_convolved.max()"
   ]
  },
  {
   "cell_type": "markdown",
   "metadata": {
    "id": "NP4h1EqycXso"
   },
   "source": [
    "__Answer__ "
   ]
  },
  {
   "cell_type": "markdown",
   "metadata": {
    "id": "Defvp8OKcXsp"
   },
   "source": [
    "Now, create a function which carries out a deconvolution in the Fourier domain, given an image and the Fourier transform of the filter $\\hat{f}$. You can reuse the code in the first part of the TP. Carry out the deconvolution on ``img_convolved`` and write the result to an output file. Remember to renormalise the output image.\n",
    "\n",
    "__Important note__ : You will have a problem with very small values of $\\hat{f}$ (division by 0). Propose a simple method to address this issue.\n"
   ]
  },
  {
   "cell_type": "code",
   "execution_count": null,
   "metadata": {
    "id": "vM_zyE2jcXsp"
   },
   "outputs": [],
   "source": [
    "def deconvolve_fourier(img,f_hat):\n",
    "    # FILL IN CODE\n",
    "    return img_out\n",
    "    \n",
    "\n",
    "img_out = np.real(deconvolve_fourier(img_convolved,f_hat))\n",
    "img_out -= img_out.min()\n",
    "img_out /= img_out.max()\n",
    "\n",
    "\n",
    "write_image(img_out,file_name+'_deconvolved.png')"
   ]
  },
  {
   "cell_type": "code",
   "execution_count": null,
   "metadata": {
    "id": "OMrqhYfecXsp"
   },
   "outputs": [],
   "source": []
  }
 ],
 "metadata": {
  "colab": {
   "collapsed_sections": [],
   "name": "restoration_student.ipynb",
   "provenance": []
  },
  "kernelspec": {
   "display_name": "Python 3",
   "language": "python",
   "name": "python3"
  },
  "language_info": {
   "codemirror_mode": {
    "name": "ipython",
    "version": 3
   },
   "file_extension": ".py",
   "mimetype": "text/x-python",
   "name": "python",
   "nbconvert_exporter": "python",
   "pygments_lexer": "ipython3",
   "version": "3.7.6"
  }
 },
 "nbformat": 4,
 "nbformat_minor": 1
}
